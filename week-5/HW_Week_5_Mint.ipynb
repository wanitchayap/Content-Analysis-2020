{
 "cells": [
  {
   "cell_type": "markdown",
   "metadata": {},
   "source": [
    "# Week 5 - Discovering Patterns: Clusters & Topics\n",
    "Wanitchaya Poonpatanapricha"
   ]
  },
  {
   "cell_type": "code",
   "execution_count": 1,
   "metadata": {},
   "outputs": [],
   "source": [
    "#Special module written for this class\n",
    "#This provides access to data and to helper functions from previous weeks\n",
    "#Make sure you update it before starting this notebook\n",
    "import lucem_illud_2020 #pip install -U git+git://github.com/Computational-Content-Analysis-2020/lucem_illud_2020.git\n",
    "\n",
    "\n",
    "#All these packages need to be installed from pip\n",
    "#These are all for the cluster detection\n",
    "import sklearn\n",
    "import sklearn.feature_extraction.text\n",
    "import sklearn.pipeline\n",
    "import sklearn.preprocessing\n",
    "import sklearn.datasets\n",
    "import sklearn.cluster\n",
    "import sklearn.decomposition\n",
    "import sklearn.metrics\n",
    "\n",
    "import scipy #For hierarchical clustering and some visuals\n",
    "#import scipy.cluster.hierarchy\n",
    "import gensim#For topic modeling\n",
    "import requests #For downloading our datasets\n",
    "import numpy as np #for arrays\n",
    "import pandas #gives us DataFrames\n",
    "import matplotlib.pyplot as plt #For graphics\n",
    "import matplotlib.cm #Still for graphics\n",
    "import seaborn as sns #Makes the graphics look nicer\n",
    "\n",
    "#This 'magic' command makes the plots work better\n",
    "#in the notebook, don't use it outside of a notebook.\n",
    "#Also you can ignore the warning, it\n",
    "%matplotlib inline\n",
    "\n",
    "import itertools\n",
    "import json"
   ]
  },
  {
   "cell_type": "markdown",
   "metadata": {},
   "source": [
    "## <span style=\"color:red\">*Pitch Your Project*</span>\n",
    "\n",
    "<span style=\"color:red\">In the three cells immediately following, describe **WHAT** you are planning to analyze for your final project (i.e., texts, contexts and the social game, world and actors you intend to learn about through your analysis) (<200 words), **WHY** you are going to do it (i.e., why would theory and/or the average person benefit from knowing the results of your investigation) (<200 words), and **HOW** you plan to investigate it (i.e., what are the approaches and operations you plan to perform, in sequence, to yield this insight) (<400 words).\n",
    "\n",
    "\n",
    "# ***What?*** \n",
    "\n",
    "Emoji, a form of ideograms, support computer-mediated communications (CMCs) in the same way nonverbal cues–such as facial expression, gesture, and tone of voice–support face-to-face (FTF) communications. According to prior literature on emoticons (the predecessor of emoji), one way that emoji can support CMCs is to convey politeness. Since some languages have richer linguistic elements for politeness (e.g., honorifics in Japanese, sentence-final particles in Thai) than the others (e.g., English), it is possible that when a speaker whose primary language has richer elements for politeness needs to communicate politely through texts in foreign language with less rich elements for politeness, the speaker may resort to emoji due to the lack of linguistic elements for politeness as well as nonverbal cues to convey politeness as in FTF. This paper investigates such possibility by studying speakers with various primary languages communicating in English within an online community. The specific hypotheses are: \n",
    "\n",
    "1. A speaker, regardless of one's primary language, is more likely to use emoji when communicates politely than when does not. (This hypothesis serves a purpose of replicating prior results on politeness function of emoticons on emoji.) \n",
    "\n",
    "2. A speaker whose primary language has richer elements for politeness is more likely to use emoji than a speaker whose primary language has less rich elements for politeness when communicates politely in English. \n",
    "\n",
    "\n",
    "## ***Why?***\n",
    "\n",
    "A number of research have linked the use of emoticons–the predecessor of emoji–with politeness strategies. For example, Sampietro et al. (2016) proposed that one of the pragmatic function of emoticons was to mitigate possible face-threats. Skovholt (2014) found emoticons to be positive politeness markers and rapport building devices, and Vandergriff et al. (2013) found emoticons to be mostly used in the service of politeness and to mitigate disagreement. However it is unclear whether emoji also so serve politeness strategies.\n",
    "\n",
    "In terms of cross-language analysis, prior works have studied emoticon usages for politeness across different languages. Komrskova (2015) studied emoticons in Czech and English, and found that phrases of greeting and thanks were very often accompanied by emoticons in both languages. Kavanagh (2016) studied emoticon as a medium for channeling politeness within American and Japanese online blogging communities and found that Japanese used emoticons significantly more than Americans. However, it is unclear if this is true for emoji and also when the speaker communicates in foreign language. In contrast to these works which investigated the use of emoticons for politeness in each speaker's primary language, this paper investigates the use of emoji for politeness in a speaker, regardless of the speaker's primary language, communicating in English.\n",
    "\n",
    "\n",
    "## ***How?***\n",
    "\n",
    "The goals of this paper are to replicate prior results on politeness function of emoticons on emoji and to investigate whether a speaker whose primary language has richer elements for politeness is more likely to use emoji than a speaker whose primary language less rich elements for politeness when communicates politely in English. To do so, an ideal dataset would be an English CMC that is a product of speakers with different primary languages where each speaker's primary language as well as the intention to communicate politely are explicitly coded.\n",
    "\n",
    "In this paper, the next best ideal data is used because it is not feasible to conduct a controlled experiment. In particular, the ideal dataset is approximated from an English CMC where some speakers' preferred languages other than English are known. The intention to communicate politely is approximated from how polite the utterance is as well as whether that utterance is a direct mention to another speaker. Lastly, each language's degree of richness in polite elements is approximated from the politeness distinctions in pronouns feature from WALS.\n",
    "\n",
    "In terms of statistical test, logistic regression is used in a binary classification task predicting whether an utterance contain any emoji. Independent variables that are inputs of the logistic regression are a speaker's primary language's degree of richness in polite elements, how polite the utterance is, and whether the utterance is a direct mention to another speaker. In addition, according to Guntuku (2019), there are some cultural differences in the use of emoji between the East and the West. Hence, a binary feature indicating whether the speaker's primary language is from the East or the West is used as a control variable in the logistic regression.\n",
    "\n",
    "\n",
    "## <span style=\"color:red\">*Pitch Your Sample*</span>\n",
    "\n",
    "<span style=\"color:red\">In the cell immediately following, describe the rationale behind your proposed sample design for your final project. What is the social game, social work, or social actors you about whom you are seeking to make inferences? What are its virtues with respect to your research questions? What are its limitations? What are alternatives? What would be a reasonable path to \"scale up\" your sample for further analysis (i.e., high-profile publication) beyond this class? (<300 words).\n",
    "\n",
    "\n",
    "## ***Which (words)?***\n",
    "\n",
    "1. The data of an English CMC was obtained from the official Discord server of Tsuki Adventure, a free-to-play mobile game. Discord is a proprietary freeware VoIP application and digital distribution platform designed for video gaming communities that specializes in text, image, video and audio communication between users in a chat. What is special about Tsuki Adventure Discord is that each user in the community is asked to tag the user profile with what language other than English the user prefers to communicate in. Although the preferred language tag is not mandatory, there is a significant number of the users in this community that do so. Hence, there is sufficient data to investigate the research questions. Nevertheless, using this data requires a strong assumption that the language tagged is the primary language of that user. If this assumption is not true, the results from testing the second hypothesis should be more conservative. Hence, this assumption should make it harder to get significant results. Also note that testing the first hypothesis doesn't require the user's primary language, while testing the second hypothesis requires one. Therefore, all utterances are used in testing the first hypothesis, while only utterances from users with language tags are used in testing the second hypothesis.    \n",
    "\n",
    "2. Politeness distinctions in pronouns feature from WALS–The World Atlas of Language Structures–is used as a proxy for each language's degree of richness in polite elements. This feature has been used in some prior social science research. For example, Davis (2016) studied relationship between politeness distinctions and egalitarianism, and found that this politeness distinctions feature from WALS was more reliable than the others.  \n",
    "\n",
    "3. Approximating an intention to communicate politely via an utterance's Polite Level and Direct Mention \n",
    "    * Polite Level - One way to approximate the intention to communicate politely is to see how polite the produced utterance is. In order to quantify such quality, a maximum entropy classifier–which is commonly used in several text classifications–predicting an utterance's polite level is trained from a human-annotated corpus created and used by Danescu et al. (2013). Danescu et al.'s (2013) corpus has more than 10,000 utterances annotated by humans via Amazon Mechanical Turk (AMT) and these utterances came from two large online communities: Wikipedia and Stack Exchange. According to Danescu et al. (2013), this corpus was thus far \"the largest corpus with politeness annotations\". Each utterance was labeled by five different annotators. \n",
    "    * Direct Mention - Since the polite level is measured automatically, there could be some cascading errors from the training corpus (which is the least likely given the reliability of the corpus), training the classifier, or applying the trained classifier on the current data. In addition, there could still be some aspect of politeness that the trained classifier fails to capture. Therefore, direct mention, which is defined as when an utterance contains Discord's mentioning users feature to mention the other user(s), is used as another proxy of an intention to communicate politely that does not suffer from possible cascading errors like the polite level does. The logic behind using direct mention as a proxy of an intention to communicate politely comes from Brown (1978)'s theory of politeness. The theory explains that all persons are concerned with their face and recognize that others also have face wants, and it is generally in everyone's interests to maintain each other's face. The risk of failing to maintain the other's face (or being not polite) is then highest when there is a particular other's face to maintain. That is if a user produces a not so polite utterance without directly mentioning any other user, it is less clear whose face is not maintained and hence it is less likely that any other user's face will not be maintained at all. On the other hand, if a user produces a not so polite utterance and directly mentions the other user(s), it is definite that the other user(s)'s face(s) will not be maintained. Hence, when there is a direct mention, the user should be more likely to communicate politely.\n",
    "\n"
   ]
  },
  {
   "cell_type": "markdown",
   "metadata": {},
   "source": [
    "## <span style=\"color:red\">*Exercise 1*</span>\n",
    "\n",
    "<span style=\"color:red\">Construct cells immediately below this that construct features and cluster your documents using K-means and a variety of cluster numbers. Interrogate the cluster contents in terms of both documents and features. Identify the \"optimal\" cluster number with Silhouette analysis. Plot clusters and features after reducing with PCA. What does this cluster structure reveal about the organization of documents in your corpora? "
   ]
  },
  {
   "cell_type": "code",
   "execution_count": 648,
   "metadata": {},
   "outputs": [],
   "source": [
    "tsuki = pd.read_csv(\"tsuki_polite5.csv\")[['language', 'text', 'polite_5', \n",
    "                                         'is_emoji']]"
   ]
  },
  {
   "cell_type": "code",
   "execution_count": 649,
   "metadata": {},
   "outputs": [],
   "source": [
    "#First it needs to be initialized\n",
    "ngCountVectorizer = sklearn.feature_extraction.text.CountVectorizer()\n",
    "#Then trained\n",
    "tsukiVects = ngCountVectorizer.fit_transform(tsuki['text'])"
   ]
  },
  {
   "cell_type": "code",
   "execution_count": 650,
   "metadata": {},
   "outputs": [],
   "source": [
    "#initialize\n",
    "tsukiTFTransformer = sklearn.feature_extraction.text.TfidfTransformer().fit(tsukiVects)\n",
    "#train\n",
    "tsukiTF = tsukiTFTransformer.transform(tsukiVects)"
   ]
  },
  {
   "cell_type": "code",
   "execution_count": 651,
   "metadata": {},
   "outputs": [],
   "source": [
    "#initialize\n",
    "ngTFVectorizer = sklearn.feature_extraction.text.TfidfVectorizer(max_df=0.5, max_features=1000, min_df=3, stop_words='english', norm='l2')\n",
    "#train\n",
    "tsukiTFVects = ngTFVectorizer.fit_transform(tsuki['text'])"
   ]
  },
  {
   "cell_type": "markdown",
   "metadata": {},
   "source": [
    "# Flat Clustering with $K$-means"
   ]
  },
  {
   "cell_type": "code",
   "execution_count": 198,
   "metadata": {},
   "outputs": [],
   "source": [
    "numClusters = 3"
   ]
  },
  {
   "cell_type": "code",
   "execution_count": 652,
   "metadata": {},
   "outputs": [],
   "source": [
    "km = sklearn.cluster.KMeans(n_clusters=numClusters, init='k-means++')"
   ]
  },
  {
   "cell_type": "code",
   "execution_count": 653,
   "metadata": {},
   "outputs": [
    {
     "data": {
      "text/plain": [
       "KMeans(algorithm='auto', copy_x=True, init='k-means++', max_iter=300,\n",
       "       n_clusters=3, n_init=10, n_jobs=None, precompute_distances='auto',\n",
       "       random_state=None, tol=0.0001, verbose=0)"
      ]
     },
     "execution_count": 653,
     "metadata": {},
     "output_type": "execute_result"
    }
   ],
   "source": [
    "km.fit(tsukiTFVects)"
   ]
  },
  {
   "cell_type": "code",
   "execution_count": 654,
   "metadata": {},
   "outputs": [
    {
     "data": {
      "text/html": [
       "<div>\n",
       "<style scoped>\n",
       "    .dataframe tbody tr th:only-of-type {\n",
       "        vertical-align: middle;\n",
       "    }\n",
       "\n",
       "    .dataframe tbody tr th {\n",
       "        vertical-align: top;\n",
       "    }\n",
       "\n",
       "    .dataframe thead th {\n",
       "        text-align: right;\n",
       "    }\n",
       "</style>\n",
       "<table border=\"1\" class=\"dataframe\">\n",
       "  <thead>\n",
       "    <tr style=\"text-align: right;\">\n",
       "      <th></th>\n",
       "      <th>language</th>\n",
       "      <th>text</th>\n",
       "      <th>polite_5</th>\n",
       "      <th>is_emoji</th>\n",
       "      <th>kmeans_predictions</th>\n",
       "    </tr>\n",
       "  </thead>\n",
       "  <tbody>\n",
       "    <tr>\n",
       "      <td>0</td>\n",
       "      <td>en</td>\n",
       "      <td>i still have tons of moonpies and halloween fo...</td>\n",
       "      <td>2</td>\n",
       "      <td>False</td>\n",
       "      <td>1</td>\n",
       "    </tr>\n",
       "    <tr>\n",
       "      <td>1</td>\n",
       "      <td>en</td>\n",
       "      <td>i go to the forest to see how much i have beca...</td>\n",
       "      <td>2</td>\n",
       "      <td>False</td>\n",
       "      <td>1</td>\n",
       "    </tr>\n",
       "    <tr>\n",
       "      <td>2</td>\n",
       "      <td>cn</td>\n",
       "      <td>hahahaha</td>\n",
       "      <td>4</td>\n",
       "      <td>False</td>\n",
       "      <td>1</td>\n",
       "    </tr>\n",
       "    <tr>\n",
       "      <td>3</td>\n",
       "      <td>es</td>\n",
       "      <td>hahahaha</td>\n",
       "      <td>4</td>\n",
       "      <td>False</td>\n",
       "      <td>1</td>\n",
       "    </tr>\n",
       "    <tr>\n",
       "      <td>4</td>\n",
       "      <td>pt</td>\n",
       "      <td>hahahaha</td>\n",
       "      <td>4</td>\n",
       "      <td>False</td>\n",
       "      <td>1</td>\n",
       "    </tr>\n",
       "    <tr>\n",
       "      <td>...</td>\n",
       "      <td>...</td>\n",
       "      <td>...</td>\n",
       "      <td>...</td>\n",
       "      <td>...</td>\n",
       "      <td>...</td>\n",
       "    </tr>\n",
       "    <tr>\n",
       "      <td>4482</td>\n",
       "      <td>en</td>\n",
       "      <td>Tsuki fishing up the mayor's dead grandaughter...</td>\n",
       "      <td>0</td>\n",
       "      <td>False</td>\n",
       "      <td>1</td>\n",
       "    </tr>\n",
       "    <tr>\n",
       "      <td>4483</td>\n",
       "      <td>ph</td>\n",
       "      <td>-tsuki’s festive scarf/holiday scarf</td>\n",
       "      <td>2</td>\n",
       "      <td>False</td>\n",
       "      <td>1</td>\n",
       "    </tr>\n",
       "    <tr>\n",
       "      <td>4484</td>\n",
       "      <td>ph</td>\n",
       "      <td>-snowball fight w friends -snowman making duri...</td>\n",
       "      <td>1</td>\n",
       "      <td>True</td>\n",
       "      <td>1</td>\n",
       "    </tr>\n",
       "    <tr>\n",
       "      <td>4485</td>\n",
       "      <td>en</td>\n",
       "      <td>&lt;user_mention&gt; it worked! Thanks again!</td>\n",
       "      <td>4</td>\n",
       "      <td>True</td>\n",
       "      <td>1</td>\n",
       "    </tr>\n",
       "    <tr>\n",
       "      <td>4486</td>\n",
       "      <td>en</td>\n",
       "      <td>Oh wow thank you! I’ll try now!</td>\n",
       "      <td>4</td>\n",
       "      <td>True</td>\n",
       "      <td>1</td>\n",
       "    </tr>\n",
       "  </tbody>\n",
       "</table>\n",
       "<p>4487 rows × 5 columns</p>\n",
       "</div>"
      ],
      "text/plain": [
       "     language                                               text  polite_5  \\\n",
       "0          en  i still have tons of moonpies and halloween fo...         2   \n",
       "1          en  i go to the forest to see how much i have beca...         2   \n",
       "2          cn                                          hahahaha          4   \n",
       "3          es                                          hahahaha          4   \n",
       "4          pt                                          hahahaha          4   \n",
       "...       ...                                                ...       ...   \n",
       "4482       en  Tsuki fishing up the mayor's dead grandaughter...         0   \n",
       "4483       ph              -tsuki’s festive scarf/holiday scarf          2   \n",
       "4484       ph  -snowball fight w friends -snowman making duri...         1   \n",
       "4485       en           <user_mention> it worked! Thanks again!          4   \n",
       "4486       en                   Oh wow thank you! I’ll try now!          4   \n",
       "\n",
       "      is_emoji  kmeans_predictions  \n",
       "0        False                   1  \n",
       "1        False                   1  \n",
       "2        False                   1  \n",
       "3        False                   1  \n",
       "4        False                   1  \n",
       "...        ...                 ...  \n",
       "4482     False                   1  \n",
       "4483     False                   1  \n",
       "4484      True                   1  \n",
       "4485      True                   1  \n",
       "4486      True                   1  \n",
       "\n",
       "[4487 rows x 5 columns]"
      ]
     },
     "execution_count": 654,
     "metadata": {},
     "output_type": "execute_result"
    }
   ],
   "source": [
    "tsuki['kmeans_predictions'] = km.labels_\n",
    "tsuki"
   ]
  },
  {
   "cell_type": "code",
   "execution_count": 655,
   "metadata": {},
   "outputs": [
    {
     "name": "stdout",
     "output_type": "stream",
     "text": [
      "Top terms per cluster:\n",
      "Cluster 0:\n",
      " welcome\n",
      " bunnies\n",
      " new\n",
      " hello\n",
      " lol\n",
      " yall\n",
      " haha\n",
      " thank\n",
      " snow\n",
      " saying\n",
      "\n",
      "\n",
      "Cluster 1:\n",
      " user_mention\n",
      " tsuki\n",
      " oh\n",
      " thanks\n",
      " just\n",
      " game\n",
      " thank\n",
      " like\n",
      " lol\n",
      " time\n",
      "\n",
      "\n",
      "Cluster 2:\n",
      " yori_loves_chi\n",
      " 652933152024821821\n",
      " yup\n",
      " forest\n",
      " fixed\n",
      " flag\n",
      " floor\n",
      " flying\n",
      " food\n",
      " forgot\n",
      "\n",
      "\n"
     ]
    }
   ],
   "source": [
    "terms = ngTFVectorizer.get_feature_names()\n",
    "print(\"Top terms per cluster:\")\n",
    "order_centroids = km.cluster_centers_.argsort()[:, ::-1]\n",
    "for i in range(numClusters):\n",
    "    print(\"Cluster %d:\" % i)\n",
    "    for ind in order_centroids[i, :10]:\n",
    "        print(' %s' % terms[ind])\n",
    "    print('\\n')"
   ]
  },
  {
   "cell_type": "markdown",
   "metadata": {},
   "source": [
    "Seems like the topic 0 is greeting related text. Topic 1 seems to be direct mention text. Topic 2 seems to be general content about the game."
   ]
  },
  {
   "cell_type": "code",
   "execution_count": 203,
   "metadata": {},
   "outputs": [],
   "source": [
    "PCA = sklearn.decomposition.PCA\n",
    "pca = PCA(n_components = 2).fit(tsukiTFVects.toarray())\n",
    "reduced_data = pca.transform(tsukiTFVects.toarray())"
   ]
  },
  {
   "cell_type": "code",
   "execution_count": 204,
   "metadata": {},
   "outputs": [],
   "source": [
    "components = pca.components_\n",
    "keyword_ids = list(set(order_centroids[:,:10].flatten())) #Get the ids of the most distinguishing words(features) from your kmeans model.\n",
    "words = [terms[i] for i in keyword_ids]#Turn the ids into words.\n",
    "x = components[:,keyword_ids][0,:] #Find the coordinates of those words in your biplot.\n",
    "y = components[:,keyword_ids][1,:]"
   ]
  },
  {
   "cell_type": "code",
   "execution_count": 205,
   "metadata": {},
   "outputs": [],
   "source": [
    "colordict = {\n",
    "0: 'red',\n",
    "1: 'green',\n",
    "2: 'blue'}\n",
    "colors = [colordict[c] for c in tsuki['kmeans_predictions']]"
   ]
  },
  {
   "cell_type": "code",
   "execution_count": 206,
   "metadata": {},
   "outputs": [
    {
     "data": {
      "image/png": "[encoded data removed]",
      "text/plain": [
       "<Figure size 720x432 with 1 Axes>"
      ]
     },
     "metadata": {},
     "output_type": "display_data"
    }
   ],
   "source": [
    "fig = plt.figure(figsize = (10,6))\n",
    "ax = fig.add_subplot(111)\n",
    "ax.set_frame_on(False)\n",
    "plt.scatter(reduced_data[:, 0], reduced_data[:, 1], color = colors, alpha = 0.5)\n",
    "plt.xticks(())\n",
    "plt.yticks(())\n",
    "plt.title('Predicted Clusters\\n k = 3')\n",
    "plt.show()"
   ]
  },
  {
   "cell_type": "markdown",
   "metadata": {},
   "source": [
    "So seems like most texts are either topic 0 (red) or topic 2 (blue). There aren't many topic 1 (green). "
   ]
  },
  {
   "cell_type": "markdown",
   "metadata": {},
   "source": [
    "# Selecting Cluster Number"
   ]
  },
  {
   "cell_type": "code",
   "execution_count": 182,
   "metadata": {},
   "outputs": [],
   "source": [
    "def plotSilhouette(n_clusters, X):\n",
    "    fig, (ax1, ax2) = plt.subplots(ncols=2, figsize = (15,5))\n",
    "    \n",
    "    ax1.set_xlim([-0.1, 1])\n",
    "    ax1.set_ylim([0, len(X) + (n_clusters + 1) * 10])\n",
    "    clusterer = sklearn.cluster.KMeans(n_clusters=n_clusters, random_state=10)\n",
    "    cluster_labels = clusterer.fit_predict(X)\n",
    "    \n",
    "    silhouette_avg = sklearn.metrics.silhouette_score(X, cluster_labels)\n",
    "\n",
    "    # Compute the silhouette scores for each sample\n",
    "    sample_silhouette_values = sklearn.metrics.silhouette_samples(X, cluster_labels)\n",
    "\n",
    "    y_lower = 10\n",
    "    \n",
    "    for i in range(n_clusters):\n",
    "        ith_cluster_silhouette_values = sample_silhouette_values[cluster_labels == i]\n",
    "\n",
    "        ith_cluster_silhouette_values.sort()\n",
    "\n",
    "        size_cluster_i = ith_cluster_silhouette_values.shape[0]\n",
    "        y_upper = y_lower + size_cluster_i\n",
    "        cmap = matplotlib.cm.get_cmap(\"nipy_spectral\")\n",
    "        color = cmap(float(i) / n_clusters)\n",
    "        ax1.fill_betweenx(np.arange(y_lower, y_upper),\n",
    "                          0, ith_cluster_silhouette_values,\n",
    "                          facecolor=color, edgecolor=color, alpha=0.7)\n",
    "\n",
    "        ax1.text(-0.05, y_lower + 0.5 * size_cluster_i, str(i))\n",
    "\n",
    "        y_lower = y_upper + 10\n",
    "    \n",
    "    ax1.set_title(\"The silhouette plot for the various clusters.\")\n",
    "    ax1.set_xlabel(\"The silhouette coefficient values\")\n",
    "    ax1.set_ylabel(\"Cluster label\")\n",
    "\n",
    "    ax1.axvline(x=silhouette_avg, color=\"red\", linestyle=\"--\")\n",
    "\n",
    "    ax1.set_yticks([])  # Clear the yaxis labels / ticks\n",
    "    ax1.set_xticks([-0.1, 0, 0.2, 0.4, 0.6, 0.8, 1])\n",
    "\n",
    "    # 2nd Plot showing the actual clusters formed\n",
    "    cmap = matplotlib.cm.get_cmap(\"nipy_spectral\")\n",
    "    colors = cmap(float(i) / n_clusters)\n",
    "    ax2.scatter(reduced_data[:, 0], reduced_data[:, 1], marker='.', s=30, lw=0, alpha=0.7,\n",
    "                c=colors)\n",
    "\n",
    "    # Labeling the clusters\n",
    "    centers = clusterer.cluster_centers_\n",
    "    projected_centers = pca.transform(centers)\n",
    "    # Draw white circles at cluster centers\n",
    "    ax2.scatter(projected_centers[:, 0], projected_centers[:, 1],\n",
    "                marker='o', c=\"white\", alpha=1, s=200)\n",
    "\n",
    "    for i, c in enumerate(projected_centers):\n",
    "        ax2.scatter(c[0], c[1], marker='$%d$' % i, alpha=1, s=50)\n",
    "\n",
    "    ax2.set_title(\"The visualization of the clustered data.\")\n",
    "    ax2.set_xlabel(\"PC 1\")\n",
    "    ax2.set_ylabel(\"PC 2\")\n",
    "\n",
    "    plt.suptitle((\"Silhouette analysis for KMeans clustering on sample data \"\n",
    "                  \"with n_clusters = %d\" % n_clusters),\n",
    "                 fontsize=14, fontweight='bold')\n",
    "    plt.show()\n",
    "    print(\"For n_clusters = {}, The average silhouette_score is : {:.3f}\".format(n_clusters, silhouette_avg))"
   ]
  },
  {
   "cell_type": "code",
   "execution_count": 183,
   "metadata": {},
   "outputs": [
    {
     "name": "stderr",
     "output_type": "stream",
     "text": [
      "'c' argument looks like a single numeric RGB or RGBA sequence, which should be avoided as value-mapping will have precedence in case its length matches with 'x' & 'y'.  Please use a 2-D array with a single row if you really want to specify the same RGB or RGBA value for all points.\n"
     ]
    },
    {
     "data": {
      "image/png": "[encoded data removed]",
      "text/plain": [
       "<Figure size 1080x360 with 2 Axes>"
      ]
     },
     "metadata": {
      "needs_background": "light"
     },
     "output_type": "display_data"
    },
    {
     "name": "stdout",
     "output_type": "stream",
     "text": [
      "For n_clusters = 3, The average silhouette_score is : 0.074\n"
     ]
    }
   ],
   "source": [
    "X = tsukiTFVects.toarray()\n",
    "plotSilhouette(3, X)"
   ]
  },
  {
   "cell_type": "code",
   "execution_count": 184,
   "metadata": {},
   "outputs": [
    {
     "name": "stderr",
     "output_type": "stream",
     "text": [
      "'c' argument looks like a single numeric RGB or RGBA sequence, which should be avoided as value-mapping will have precedence in case its length matches with 'x' & 'y'.  Please use a 2-D array with a single row if you really want to specify the same RGB or RGBA value for all points.\n"
     ]
    },
    {
     "data": {
      "image/png": "[encoded data removed]",
      "text/plain": [
       "<Figure size 1080x360 with 2 Axes>"
      ]
     },
     "metadata": {
      "needs_background": "light"
     },
     "output_type": "display_data"
    },
    {
     "name": "stdout",
     "output_type": "stream",
     "text": [
      "For n_clusters = 4, The average silhouette_score is : 0.072\n"
     ]
    }
   ],
   "source": [
    "X = tsukiTFVects.toarray()\n",
    "plotSilhouette(4, X)"
   ]
  },
  {
   "cell_type": "code",
   "execution_count": 185,
   "metadata": {},
   "outputs": [
    {
     "name": "stderr",
     "output_type": "stream",
     "text": [
      "'c' argument looks like a single numeric RGB or RGBA sequence, which should be avoided as value-mapping will have precedence in case its length matches with 'x' & 'y'.  Please use a 2-D array with a single row if you really want to specify the same RGB or RGBA value for all points.\n"
     ]
    },
    {
     "data": {
      "image/png": "[encoded data removed]",
      "text/plain": [
       "<Figure size 1080x360 with 2 Axes>"
      ]
     },
     "metadata": {
      "needs_background": "light"
     },
     "output_type": "display_data"
    },
    {
     "name": "stdout",
     "output_type": "stream",
     "text": [
      "For n_clusters = 5, The average silhouette_score is : 0.071\n"
     ]
    }
   ],
   "source": [
    "X = tsukiTFVects.toarray()\n",
    "plotSilhouette(5, X)"
   ]
  },
  {
   "cell_type": "code",
   "execution_count": 186,
   "metadata": {},
   "outputs": [
    {
     "name": "stderr",
     "output_type": "stream",
     "text": [
      "'c' argument looks like a single numeric RGB or RGBA sequence, which should be avoided as value-mapping will have precedence in case its length matches with 'x' & 'y'.  Please use a 2-D array with a single row if you really want to specify the same RGB or RGBA value for all points.\n"
     ]
    },
    {
     "data": {
      "image/png": "[encoded data removed]",
      "text/plain": [
       "<Figure size 1080x360 with 2 Axes>"
      ]
     },
     "metadata": {
      "needs_background": "light"
     },
     "output_type": "display_data"
    },
    {
     "name": "stdout",
     "output_type": "stream",
     "text": [
      "For n_clusters = 6, The average silhouette_score is : 0.073\n"
     ]
    }
   ],
   "source": [
    "X = tsukiTFVects.toarray()\n",
    "plotSilhouette(6, X)"
   ]
  },
  {
   "cell_type": "markdown",
   "metadata": {},
   "source": [
    "k = 3 has the biggest silhouette, so the choice of k = 3 before is already appropriate!"
   ]
  },
  {
   "cell_type": "markdown",
   "metadata": {},
   "source": [
    "## <span style=\"color:red\">*Exercise 2*</span>\n",
    "\n",
    "<span style=\"color:red\">Construct cells immediately below this that hierarchically cluster your documents using two approaches, and visualize them with a tree. Interrogate the recursive cluster contents in terms of both documents and closenesses. What does this nested cluster structure reveal about the organization of documents in your sampled corpora? Moreover, if they do worse than kmeans (as above), why do you think this is the case (hint: using metrics if you have ground truth or silhouette if you do not)? \n",
    "\n",
    "<span style=\"color:red\">***Stretch***: Attempt using different distances into your clustering algorithms. (How) do they change the arrangement of clusters?"
   ]
  },
  {
   "cell_type": "markdown",
   "metadata": {},
   "source": [
    "# Hierarchical Clustering with Wald's Method"
   ]
  },
  {
   "cell_type": "code",
   "execution_count": 656,
   "metadata": {},
   "outputs": [
    {
     "name": "stderr",
     "output_type": "stream",
     "text": [
      "/Users/wanitchaya.poon/opt/anaconda3/lib/python3.7/site-packages/scipy/sparse/_index.py:126: SparseEfficiencyWarning: Changing the sparsity structure of a csr_matrix is expensive. lil_matrix is more efficient.\n",
      "  self._set_arrayXarray(i, j, x)\n"
     ]
    }
   ],
   "source": [
    "tsukiCoocMat = tsukiTFVects * tsukiTFVects.T\n",
    "#set the diagonal to 0 since we don't care how similar texts are to themselves\n",
    "tsukiCoocMat.setdiag(0)\n",
    "#Another way of relating the texts is with their cosine similarity\n",
    "#newsgroupsCosinMat1 = 1 - sklearn.metrics.pairwise.cosine_similarity(newsgroupsTFVects)\n",
    "#But generally word occurrence is more accurate\n"
   ]
  },
  {
   "cell_type": "code",
   "execution_count": 657,
   "metadata": {},
   "outputs": [],
   "source": [
    "selectIndices = []\n",
    "indexToCat = []\n",
    "for c in set(tsuki['kmeans_predictions']):\n",
    "    selectIndices += list(tsuki[tsuki['kmeans_predictions'] == c].index)[:50]\n",
    "    indexToCat += [c] * 50\n",
    "    #.groupby('category').sum()"
   ]
  },
  {
   "cell_type": "code",
   "execution_count": 658,
   "metadata": {},
   "outputs": [],
   "source": [
    "subCoocMat = tsukiCoocMat[selectIndices,:][:,selectIndices]"
   ]
  },
  {
   "cell_type": "markdown",
   "metadata": {},
   "source": [
    "### Ward"
   ]
  },
  {
   "cell_type": "code",
   "execution_count": 659,
   "metadata": {},
   "outputs": [
    {
     "name": "stderr",
     "output_type": "stream",
     "text": [
      "/Users/wanitchaya.poon/opt/anaconda3/lib/python3.7/site-packages/scipy/cluster/hierarchy.py:830: ClusterWarning: scipy.cluster: The symmetric non-negative hollow observation matrix looks suspiciously like an uncondensed distance matrix\n",
      "  return linkage(y, method='ward', metric='euclidean')\n"
     ]
    }
   ],
   "source": [
    "linkage_matrix = scipy.cluster.hierarchy.ward(subCoocMat.toarray())"
   ]
  },
  {
   "cell_type": "code",
   "execution_count": 211,
   "metadata": {},
   "outputs": [
    {
     "data": {
      "image/png": "[encoded data removed]",
      "text/plain": [
       "<Figure size 432x288 with 1 Axes>"
      ]
     },
     "metadata": {
      "needs_background": "light"
     },
     "output_type": "display_data"
    }
   ],
   "source": [
    "dendDat = scipy.cluster.hierarchy.dendrogram(linkage_matrix, get_leaves=True)"
   ]
  },
  {
   "cell_type": "code",
   "execution_count": 214,
   "metadata": {},
   "outputs": [
    {
     "data": {
      "image/png": "[encoded data removed]",
      "text/plain": [
       "<Figure size 432x288 with 1 Axes>"
      ]
     },
     "metadata": {
      "needs_background": "light"
     },
     "output_type": "display_data"
    }
   ],
   "source": [
    "dendrogramDat = scipy.cluster.hierarchy.dendrogram(linkage_matrix, p=3, truncate_mode='level', get_leaves=True)"
   ]
  },
  {
   "cell_type": "markdown",
   "metadata": {},
   "source": [
    "### Stretch: Centroid"
   ]
  },
  {
   "cell_type": "code",
   "execution_count": 662,
   "metadata": {},
   "outputs": [
    {
     "name": "stderr",
     "output_type": "stream",
     "text": [
      "/Users/wanitchaya.poon/opt/anaconda3/lib/python3.7/site-packages/scipy/cluster/hierarchy.py:629: ClusterWarning: scipy.cluster: The symmetric non-negative hollow observation matrix looks suspiciously like an uncondensed distance matrix\n",
      "  return linkage(y, method='centroid', metric='euclidean')\n"
     ]
    }
   ],
   "source": [
    "linkage_matrix = scipy.cluster.hierarchy.centroid(subCoocMat.toarray())"
   ]
  },
  {
   "cell_type": "code",
   "execution_count": 663,
   "metadata": {},
   "outputs": [
    {
     "data": {
      "image/png": "[encoded data removed]",
      "text/plain": [
       "<Figure size 432x288 with 1 Axes>"
      ]
     },
     "metadata": {
      "needs_background": "light"
     },
     "output_type": "display_data"
    }
   ],
   "source": [
    "dendDat = scipy.cluster.hierarchy.dendrogram(linkage_matrix, get_leaves=True)"
   ]
  },
  {
   "cell_type": "code",
   "execution_count": 664,
   "metadata": {},
   "outputs": [
    {
     "data": {
      "image/png": "[encoded data removed]",
      "text/plain": [
       "<Figure size 432x288 with 1 Axes>"
      ]
     },
     "metadata": {
      "needs_background": "light"
     },
     "output_type": "display_data"
    }
   ],
   "source": [
    "dendrogramDat = scipy.cluster.hierarchy.dendrogram(linkage_matrix, p=3, truncate_mode='level', get_leaves=True)"
   ]
  },
  {
   "cell_type": "markdown",
   "metadata": {},
   "source": [
    "Using `centroid` instead of `ward` as the linkage change the result a lot. In `ward`, there seems to be more hierachical structures. On the other hand, `centroid`'s result seems to be flatter. `centroid`'s result seems to suggest 3 clear clusters while `ward`'s result seems to suggest 3 clear clusters."
   ]
  },
  {
   "cell_type": "code",
   "execution_count": 661,
   "metadata": {},
   "outputs": [],
   "source": [
    "linkage_matrix_full = scipy.cluster.hierarchy.ward(tsukiCoocMat.toarray())\n",
    "hierarchicalClusters_full = scipy.cluster.hierarchy.fcluster(linkage_matrix_full, 3, 'maxclust')"
   ]
  },
  {
   "cell_type": "code",
   "execution_count": 218,
   "metadata": {},
   "outputs": [
    {
     "data": {
      "text/html": [
       "<div>\n",
       "<style scoped>\n",
       "    .dataframe tbody tr th:only-of-type {\n",
       "        vertical-align: middle;\n",
       "    }\n",
       "\n",
       "    .dataframe tbody tr th {\n",
       "        vertical-align: top;\n",
       "    }\n",
       "\n",
       "    .dataframe thead th {\n",
       "        text-align: right;\n",
       "    }\n",
       "</style>\n",
       "<table border=\"1\" class=\"dataframe\">\n",
       "  <thead>\n",
       "    <tr style=\"text-align: right;\">\n",
       "      <th></th>\n",
       "      <th>language</th>\n",
       "      <th>text</th>\n",
       "      <th>polite_5</th>\n",
       "      <th>is_emoji</th>\n",
       "      <th>kmeans_predictions</th>\n",
       "      <th>wald_predictions</th>\n",
       "    </tr>\n",
       "  </thead>\n",
       "  <tbody>\n",
       "    <tr>\n",
       "      <td>0</td>\n",
       "      <td>en</td>\n",
       "      <td>i still have tons of moonpies and halloween fo...</td>\n",
       "      <td>2</td>\n",
       "      <td>False</td>\n",
       "      <td>0</td>\n",
       "      <td>2</td>\n",
       "    </tr>\n",
       "    <tr>\n",
       "      <td>1</td>\n",
       "      <td>en</td>\n",
       "      <td>i go to the forest to see how much i have beca...</td>\n",
       "      <td>2</td>\n",
       "      <td>False</td>\n",
       "      <td>0</td>\n",
       "      <td>2</td>\n",
       "    </tr>\n",
       "    <tr>\n",
       "      <td>2</td>\n",
       "      <td>cn</td>\n",
       "      <td>hahahaha</td>\n",
       "      <td>4</td>\n",
       "      <td>False</td>\n",
       "      <td>0</td>\n",
       "      <td>2</td>\n",
       "    </tr>\n",
       "    <tr>\n",
       "      <td>3</td>\n",
       "      <td>es</td>\n",
       "      <td>hahahaha</td>\n",
       "      <td>4</td>\n",
       "      <td>False</td>\n",
       "      <td>0</td>\n",
       "      <td>2</td>\n",
       "    </tr>\n",
       "    <tr>\n",
       "      <td>4</td>\n",
       "      <td>pt</td>\n",
       "      <td>hahahaha</td>\n",
       "      <td>4</td>\n",
       "      <td>False</td>\n",
       "      <td>0</td>\n",
       "      <td>2</td>\n",
       "    </tr>\n",
       "    <tr>\n",
       "      <td>...</td>\n",
       "      <td>...</td>\n",
       "      <td>...</td>\n",
       "      <td>...</td>\n",
       "      <td>...</td>\n",
       "      <td>...</td>\n",
       "      <td>...</td>\n",
       "    </tr>\n",
       "    <tr>\n",
       "      <td>4482</td>\n",
       "      <td>en</td>\n",
       "      <td>Tsuki fishing up the mayor's dead grandaughter...</td>\n",
       "      <td>0</td>\n",
       "      <td>False</td>\n",
       "      <td>0</td>\n",
       "      <td>2</td>\n",
       "    </tr>\n",
       "    <tr>\n",
       "      <td>4483</td>\n",
       "      <td>ph</td>\n",
       "      <td>-tsuki’s festive scarf/holiday scarf</td>\n",
       "      <td>2</td>\n",
       "      <td>False</td>\n",
       "      <td>0</td>\n",
       "      <td>2</td>\n",
       "    </tr>\n",
       "    <tr>\n",
       "      <td>4484</td>\n",
       "      <td>ph</td>\n",
       "      <td>-snowball fight w friends -snowman making duri...</td>\n",
       "      <td>1</td>\n",
       "      <td>True</td>\n",
       "      <td>0</td>\n",
       "      <td>2</td>\n",
       "    </tr>\n",
       "    <tr>\n",
       "      <td>4485</td>\n",
       "      <td>en</td>\n",
       "      <td>&lt;user_mention&gt; it worked! Thanks again!</td>\n",
       "      <td>4</td>\n",
       "      <td>True</td>\n",
       "      <td>2</td>\n",
       "      <td>3</td>\n",
       "    </tr>\n",
       "    <tr>\n",
       "      <td>4486</td>\n",
       "      <td>en</td>\n",
       "      <td>Oh wow thank you! I’ll try now!</td>\n",
       "      <td>4</td>\n",
       "      <td>True</td>\n",
       "      <td>0</td>\n",
       "      <td>2</td>\n",
       "    </tr>\n",
       "  </tbody>\n",
       "</table>\n",
       "<p>4487 rows × 6 columns</p>\n",
       "</div>"
      ],
      "text/plain": [
       "     language                                               text  polite_5  \\\n",
       "0          en  i still have tons of moonpies and halloween fo...         2   \n",
       "1          en  i go to the forest to see how much i have beca...         2   \n",
       "2          cn                                          hahahaha          4   \n",
       "3          es                                          hahahaha          4   \n",
       "4          pt                                          hahahaha          4   \n",
       "...       ...                                                ...       ...   \n",
       "4482       en  Tsuki fishing up the mayor's dead grandaughter...         0   \n",
       "4483       ph              -tsuki’s festive scarf/holiday scarf          2   \n",
       "4484       ph  -snowball fight w friends -snowman making duri...         1   \n",
       "4485       en           <user_mention> it worked! Thanks again!          4   \n",
       "4486       en                   Oh wow thank you! I’ll try now!          4   \n",
       "\n",
       "      is_emoji  kmeans_predictions  wald_predictions  \n",
       "0        False                   0                 2  \n",
       "1        False                   0                 2  \n",
       "2        False                   0                 2  \n",
       "3        False                   0                 2  \n",
       "4        False                   0                 2  \n",
       "...        ...                 ...               ...  \n",
       "4482     False                   0                 2  \n",
       "4483     False                   0                 2  \n",
       "4484      True                   0                 2  \n",
       "4485      True                   2                 3  \n",
       "4486      True                   0                 2  \n",
       "\n",
       "[4487 rows x 6 columns]"
      ]
     },
     "execution_count": 218,
     "metadata": {},
     "output_type": "execute_result"
    }
   ],
   "source": [
    "tsuki['wald_predictions'] = hierarchicalClusters_full\n",
    "tsuki"
   ]
  },
  {
   "cell_type": "markdown",
   "metadata": {},
   "source": [
    "From the quick glance above, hierarchical clusters seems to pick on the same clusters as kmean!"
   ]
  },
  {
   "cell_type": "markdown",
   "metadata": {},
   "source": [
    "## <span style=\"color:red\">*Exercise 3*</span>\n",
    "\n",
    "<span style=\"color:red\">Construct cells immediately below this that topic model documents related to your anticipated final project. Interrogate and visually plot (e.g., as a bar graph?) the topic-word loadings and the document-topic loadings. What does this topic structure reveal about the distribution of contents across your documents? Systematically vary the $\\alpha$, $\\eta$, and topic number of the model for your text and describe in detail whether and how these changes led to distinctive outcomes, visible to you as analyst.  \n",
    "\n",
    "<span style=\"color:red\">**Stretch**: Cluster your documents, but instead of using words alone, use their topic loadings as an additional set of features. Do these topic loadings increase the apparent semantic coherence of your clusters?</span> "
   ]
  },
  {
   "cell_type": "markdown",
   "metadata": {},
   "source": [
    "# Gensim"
   ]
  },
  {
   "cell_type": "code",
   "execution_count": 219,
   "metadata": {},
   "outputs": [],
   "source": [
    "#Apply our functions\n",
    "tsuki['tokenized_text'] = tsuki['text'].apply(lambda x: lucem_illud_2020.word_tokenize(x))\n",
    "tsuki['normalized_tokens'] = tsuki['tokenized_text'].apply(lambda x: lucem_illud_2020.normalizeTokens(x))"
   ]
  },
  {
   "cell_type": "code",
   "execution_count": 221,
   "metadata": {},
   "outputs": [],
   "source": [
    "def dropMissing(wordLst, vocab):\n",
    "    return [w for w in wordLst if w in vocab]\n",
    "\n",
    "tsuki['reduced_tokens'] = tsuki['normalized_tokens'].apply(lambda x: dropMissing(x, senTFVectorizer.vocabulary_.keys()))"
   ]
  },
  {
   "cell_type": "code",
   "execution_count": 222,
   "metadata": {},
   "outputs": [],
   "source": [
    "dictionary = gensim.corpora.Dictionary(tsuki['reduced_tokens'])"
   ]
  },
  {
   "cell_type": "code",
   "execution_count": 223,
   "metadata": {},
   "outputs": [],
   "source": [
    "corpus = [dictionary.doc2bow(text) for text in tsuki['reduced_tokens']]"
   ]
  },
  {
   "cell_type": "code",
   "execution_count": 252,
   "metadata": {},
   "outputs": [],
   "source": [
    "tsukilda = gensim.models.ldamodel.LdaModel(corpus=corpus, id2word=dictionary, num_topics=5, alpha='auto', eta='auto')"
   ]
  },
  {
   "cell_type": "markdown",
   "metadata": {},
   "source": [
    "We can inspect the degree to which distinct texts load on different topics. Here is one of the texts from the training set:"
   ]
  },
  {
   "cell_type": "code",
   "execution_count": 253,
   "metadata": {},
   "outputs": [
    {
     "name": "stdout",
     "output_type": "stream",
     "text": [
      "The topics of the text: i still have tons of moonpies and halloween food hahahaha \n",
      "are: [(0, 0.10656131), (2, 0.20886005), (3, 0.031278964), (4, 0.23412706), (5, 0.2639899), (7, 0.04616471), (8, 0.102114744)]\n"
     ]
    }
   ],
   "source": [
    "tsuki1Bow = dictionary.doc2bow(tsuki['reduced_tokens'][0])\n",
    "tsuki1lda = senlda[sen1Bow]\n",
    "print(\"The topics of the text: {}\".format(tsuki['text'][0]))\n",
    "print(\"are: {}\".format(tsuki1lda))"
   ]
  },
  {
   "cell_type": "code",
   "execution_count": 254,
   "metadata": {},
   "outputs": [],
   "source": [
    "ldaDF = pandas.DataFrame({\n",
    "        'text' : tsuki['text'],\n",
    "        'topics' : [tsukilda[dictionary.doc2bow(l)] for l in tsuki['reduced_tokens']]\n",
    "    })"
   ]
  },
  {
   "cell_type": "code",
   "execution_count": 255,
   "metadata": {},
   "outputs": [
    {
     "data": {
      "text/html": [
       "<div>\n",
       "<style scoped>\n",
       "    .dataframe tbody tr th:only-of-type {\n",
       "        vertical-align: middle;\n",
       "    }\n",
       "\n",
       "    .dataframe tbody tr th {\n",
       "        vertical-align: top;\n",
       "    }\n",
       "\n",
       "    .dataframe thead th {\n",
       "        text-align: right;\n",
       "    }\n",
       "</style>\n",
       "<table border=\"1\" class=\"dataframe\">\n",
       "  <thead>\n",
       "    <tr style=\"text-align: right;\">\n",
       "      <th></th>\n",
       "      <th>text</th>\n",
       "      <th>topics</th>\n",
       "      <th>topic_0</th>\n",
       "      <th>topic_1</th>\n",
       "      <th>topic_2</th>\n",
       "      <th>topic_3</th>\n",
       "      <th>topic_4</th>\n",
       "    </tr>\n",
       "  </thead>\n",
       "  <tbody>\n",
       "    <tr>\n",
       "      <td>1</td>\n",
       "      <td>i go to the forest to see how much i have beca...</td>\n",
       "      <td>[(0, 0.099846005), (1, 0.10140792), (2, 0.0945...</td>\n",
       "      <td>0.099846</td>\n",
       "      <td>0.101408</td>\n",
       "      <td>0.094518</td>\n",
       "      <td>0.610112</td>\n",
       "      <td>0.094116</td>\n",
       "    </tr>\n",
       "    <tr>\n",
       "      <td>101</td>\n",
       "      <td>it's okay just teach him he will know what is ...</td>\n",
       "      <td>[(0, 0.0662975), (1, 0.067332834), (2, 0.06305...</td>\n",
       "      <td>0.066298</td>\n",
       "      <td>0.067333</td>\n",
       "      <td>0.063053</td>\n",
       "      <td>0.738916</td>\n",
       "      <td>0.064401</td>\n",
       "    </tr>\n",
       "    <tr>\n",
       "      <td>201</td>\n",
       "      <td>welcomee</td>\n",
       "      <td>[(0, 0.20227426), (1, 0.20544878), (2, 0.19148...</td>\n",
       "      <td>0.202274</td>\n",
       "      <td>0.205449</td>\n",
       "      <td>0.191487</td>\n",
       "      <td>0.210124</td>\n",
       "      <td>0.190667</td>\n",
       "    </tr>\n",
       "    <tr>\n",
       "      <td>301</td>\n",
       "      <td>all the food that you are saving they would eat</td>\n",
       "      <td>[(0, 0.80251205), (1, 0.050356776), (2, 0.0469...</td>\n",
       "      <td>0.802512</td>\n",
       "      <td>0.050357</td>\n",
       "      <td>0.046982</td>\n",
       "      <td>0.053085</td>\n",
       "      <td>0.047065</td>\n",
       "    </tr>\n",
       "    <tr>\n",
       "      <td>401</td>\n",
       "      <td>yay</td>\n",
       "      <td>[(0, 0.20227426), (1, 0.20544878), (2, 0.19148...</td>\n",
       "      <td>0.202274</td>\n",
       "      <td>0.205449</td>\n",
       "      <td>0.191487</td>\n",
       "      <td>0.210124</td>\n",
       "      <td>0.190667</td>\n",
       "    </tr>\n",
       "    <tr>\n",
       "      <td>501</td>\n",
       "      <td>HAPPY NEW YEAR BUNNIES!!</td>\n",
       "      <td>[(0, 0.60582304), (1, 0.101614974), (2, 0.0945...</td>\n",
       "      <td>0.605823</td>\n",
       "      <td>0.101615</td>\n",
       "      <td>0.094527</td>\n",
       "      <td>0.103950</td>\n",
       "      <td>0.094085</td>\n",
       "    </tr>\n",
       "    <tr>\n",
       "      <td>601</td>\n",
       "      <td>Hi!!</td>\n",
       "      <td>[(0, 0.20227426), (1, 0.20544878), (2, 0.19148...</td>\n",
       "      <td>0.202274</td>\n",
       "      <td>0.205449</td>\n",
       "      <td>0.191487</td>\n",
       "      <td>0.210124</td>\n",
       "      <td>0.190667</td>\n",
       "    </tr>\n",
       "    <tr>\n",
       "      <td>701</td>\n",
       "      <td>Hello</td>\n",
       "      <td>[(0, 0.20227426), (1, 0.20544878), (2, 0.19148...</td>\n",
       "      <td>0.202274</td>\n",
       "      <td>0.205449</td>\n",
       "      <td>0.191487</td>\n",
       "      <td>0.210124</td>\n",
       "      <td>0.190667</td>\n",
       "    </tr>\n",
       "    <tr>\n",
       "      <td>801</td>\n",
       "      <td>Update</td>\n",
       "      <td>[(0, 0.605261), (1, 0.101526186), (2, 0.094486...</td>\n",
       "      <td>0.605261</td>\n",
       "      <td>0.101526</td>\n",
       "      <td>0.094487</td>\n",
       "      <td>0.103837</td>\n",
       "      <td>0.094889</td>\n",
       "    </tr>\n",
       "    <tr>\n",
       "      <td>901</td>\n",
       "      <td>Hello everyone</td>\n",
       "      <td>[(0, 0.20227426), (1, 0.20544878), (2, 0.19148...</td>\n",
       "      <td>0.202274</td>\n",
       "      <td>0.205449</td>\n",
       "      <td>0.191487</td>\n",
       "      <td>0.210124</td>\n",
       "      <td>0.190667</td>\n",
       "    </tr>\n",
       "    <tr>\n",
       "      <td>1001</td>\n",
       "      <td>-.-</td>\n",
       "      <td>[(0, 0.20227426), (1, 0.20544878), (2, 0.19148...</td>\n",
       "      <td>0.202274</td>\n",
       "      <td>0.205449</td>\n",
       "      <td>0.191487</td>\n",
       "      <td>0.210124</td>\n",
       "      <td>0.190667</td>\n",
       "    </tr>\n",
       "    <tr>\n",
       "      <td>1101</td>\n",
       "      <td>Welcome</td>\n",
       "      <td>[(0, 0.10007267), (1, 0.10165309), (2, 0.60042...</td>\n",
       "      <td>0.100073</td>\n",
       "      <td>0.101653</td>\n",
       "      <td>0.600423</td>\n",
       "      <td>0.103709</td>\n",
       "      <td>0.094143</td>\n",
       "    </tr>\n",
       "    <tr>\n",
       "      <td>1201</td>\n",
       "      <td>('▽'〃)</td>\n",
       "      <td>[(0, 0.20227426), (1, 0.20544878), (2, 0.19148...</td>\n",
       "      <td>0.202274</td>\n",
       "      <td>0.205449</td>\n",
       "      <td>0.191487</td>\n",
       "      <td>0.210124</td>\n",
       "      <td>0.190667</td>\n",
       "    </tr>\n",
       "    <tr>\n",
       "      <td>1301</td>\n",
       "      <td>I didn't k ow where to ask this so I am askig ...</td>\n",
       "      <td>[(0, 0.023101086), (1, 0.91223717), (2, 0.0210...</td>\n",
       "      <td>0.023101</td>\n",
       "      <td>0.912237</td>\n",
       "      <td>0.021015</td>\n",
       "      <td>0.022845</td>\n",
       "      <td>0.020801</td>\n",
       "    </tr>\n",
       "    <tr>\n",
       "      <td>1401</td>\n",
       "      <td>&lt;user_mention&gt; sure!</td>\n",
       "      <td>[(0, 0.20227426), (1, 0.20544878), (2, 0.19148...</td>\n",
       "      <td>0.202274</td>\n",
       "      <td>0.205449</td>\n",
       "      <td>0.191487</td>\n",
       "      <td>0.210124</td>\n",
       "      <td>0.190667</td>\n",
       "    </tr>\n",
       "    <tr>\n",
       "      <td>1501</td>\n",
       "      <td>Hi this is amethyst from Canada, I downloaded ...</td>\n",
       "      <td>[(0, 0.7186567), (1, 0.033643108), (2, 0.03158...</td>\n",
       "      <td>0.718657</td>\n",
       "      <td>0.033643</td>\n",
       "      <td>0.031584</td>\n",
       "      <td>0.035104</td>\n",
       "      <td>0.181012</td>\n",
       "    </tr>\n",
       "    <tr>\n",
       "      <td>1601</td>\n",
       "      <td>Jap variation?</td>\n",
       "      <td>[(0, 0.09986593), (1, 0.6077312), (2, 0.094532...</td>\n",
       "      <td>0.099866</td>\n",
       "      <td>0.607731</td>\n",
       "      <td>0.094533</td>\n",
       "      <td>0.103740</td>\n",
       "      <td>0.094130</td>\n",
       "    </tr>\n",
       "    <tr>\n",
       "      <td>1701</td>\n",
       "      <td>btw this channel is for bugs, u can seek help ...</td>\n",
       "      <td>[(0, 0.029941428), (1, 0.38038084), (2, 0.0270...</td>\n",
       "      <td>0.029941</td>\n",
       "      <td>0.380381</td>\n",
       "      <td>0.027015</td>\n",
       "      <td>0.535715</td>\n",
       "      <td>0.026948</td>\n",
       "    </tr>\n",
       "    <tr>\n",
       "      <td>1801</td>\n",
       "      <td>&lt;user_mention&gt; you may not have a high enough ...</td>\n",
       "      <td>[(0, 0.09981034), (1, 0.10137665), (2, 0.09512...</td>\n",
       "      <td>0.099810</td>\n",
       "      <td>0.101377</td>\n",
       "      <td>0.095125</td>\n",
       "      <td>0.103684</td>\n",
       "      <td>0.600004</td>\n",
       "    </tr>\n",
       "    <tr>\n",
       "      <td>1901</td>\n",
       "      <td>Yep, that's a known bug</td>\n",
       "      <td>[(0, 0.20227426), (1, 0.20544878), (2, 0.19148...</td>\n",
       "      <td>0.202274</td>\n",
       "      <td>0.205449</td>\n",
       "      <td>0.191487</td>\n",
       "      <td>0.210124</td>\n",
       "      <td>0.190667</td>\n",
       "    </tr>\n",
       "    <tr>\n",
       "      <td>2001</td>\n",
       "      <td>I don’t believe I do, anything special I need ...</td>\n",
       "      <td>[(0, 0.20227426), (1, 0.20544878), (2, 0.19148...</td>\n",
       "      <td>0.202274</td>\n",
       "      <td>0.205449</td>\n",
       "      <td>0.191487</td>\n",
       "      <td>0.210124</td>\n",
       "      <td>0.190667</td>\n",
       "    </tr>\n",
       "    <tr>\n",
       "      <td>2101</td>\n",
       "      <td>That's great</td>\n",
       "      <td>[(0, 0.20227426), (1, 0.20544878), (2, 0.19148...</td>\n",
       "      <td>0.202274</td>\n",
       "      <td>0.205449</td>\n",
       "      <td>0.191487</td>\n",
       "      <td>0.210124</td>\n",
       "      <td>0.190667</td>\n",
       "    </tr>\n",
       "    <tr>\n",
       "      <td>2201</td>\n",
       "      <td>i cant access any shop since the lny update uwu</td>\n",
       "      <td>[(0, 0.07003742), (1, 0.06745456), (2, 0.06271...</td>\n",
       "      <td>0.070037</td>\n",
       "      <td>0.067455</td>\n",
       "      <td>0.062717</td>\n",
       "      <td>0.068957</td>\n",
       "      <td>0.730834</td>\n",
       "    </tr>\n",
       "    <tr>\n",
       "      <td>2301</td>\n",
       "      <td>Thank you so much!</td>\n",
       "      <td>[(0, 0.20227426), (1, 0.20544878), (2, 0.19148...</td>\n",
       "      <td>0.202274</td>\n",
       "      <td>0.205449</td>\n",
       "      <td>0.191487</td>\n",
       "      <td>0.210124</td>\n",
       "      <td>0.190667</td>\n",
       "    </tr>\n",
       "    <tr>\n",
       "      <td>2401</td>\n",
       "      <td>XD I bought the swing too</td>\n",
       "      <td>[(0, 0.066598244), (1, 0.067289434), (2, 0.063...</td>\n",
       "      <td>0.066598</td>\n",
       "      <td>0.067289</td>\n",
       "      <td>0.063336</td>\n",
       "      <td>0.739337</td>\n",
       "      <td>0.063440</td>\n",
       "    </tr>\n",
       "    <tr>\n",
       "      <td>2501</td>\n",
       "      <td>Ooo</td>\n",
       "      <td>[(0, 0.20227426), (1, 0.20544878), (2, 0.19148...</td>\n",
       "      <td>0.202274</td>\n",
       "      <td>0.205449</td>\n",
       "      <td>0.191487</td>\n",
       "      <td>0.210124</td>\n",
       "      <td>0.190667</td>\n",
       "    </tr>\n",
       "    <tr>\n",
       "      <td>2601</td>\n",
       "      <td>my tree won’t be get finished because KUBO WON...</td>\n",
       "      <td>[(0, 0.8018478), (1, 0.051787306), (2, 0.04804...</td>\n",
       "      <td>0.801848</td>\n",
       "      <td>0.051787</td>\n",
       "      <td>0.048046</td>\n",
       "      <td>0.051571</td>\n",
       "      <td>0.046748</td>\n",
       "    </tr>\n",
       "    <tr>\n",
       "      <td>2701</td>\n",
       "      <td>O yea, I finally be able to give pipi the pres...</td>\n",
       "      <td>[(0, 0.09998263), (1, 0.10317003), (2, 0.09451...</td>\n",
       "      <td>0.099983</td>\n",
       "      <td>0.103170</td>\n",
       "      <td>0.094514</td>\n",
       "      <td>0.607601</td>\n",
       "      <td>0.094733</td>\n",
       "    </tr>\n",
       "    <tr>\n",
       "      <td>2801</td>\n",
       "      <td>&lt;user_mention&gt; When he was 12 years old.</td>\n",
       "      <td>[(0, 0.100112654), (1, 0.6058749), (2, 0.09624...</td>\n",
       "      <td>0.100113</td>\n",
       "      <td>0.605875</td>\n",
       "      <td>0.096247</td>\n",
       "      <td>0.103683</td>\n",
       "      <td>0.094082</td>\n",
       "    </tr>\n",
       "    <tr>\n",
       "      <td>2901</td>\n",
       "      <td>NAUGHTY BOI</td>\n",
       "      <td>[(0, 0.20227426), (1, 0.20544878), (2, 0.19148...</td>\n",
       "      <td>0.202274</td>\n",
       "      <td>0.205449</td>\n",
       "      <td>0.191487</td>\n",
       "      <td>0.210124</td>\n",
       "      <td>0.190667</td>\n",
       "    </tr>\n",
       "    <tr>\n",
       "      <td>3001</td>\n",
       "      <td>Finally got that rope</td>\n",
       "      <td>[(0, 0.20227426), (1, 0.20544878), (2, 0.19148...</td>\n",
       "      <td>0.202274</td>\n",
       "      <td>0.205449</td>\n",
       "      <td>0.191487</td>\n",
       "      <td>0.210124</td>\n",
       "      <td>0.190667</td>\n",
       "    </tr>\n",
       "    <tr>\n",
       "      <td>3101</td>\n",
       "      <td>Errr I only have one for the forest since I co...</td>\n",
       "      <td>[(0, 0.37425187), (1, 0.034327228), (2, 0.0316...</td>\n",
       "      <td>0.374252</td>\n",
       "      <td>0.034327</td>\n",
       "      <td>0.031639</td>\n",
       "      <td>0.036550</td>\n",
       "      <td>0.523232</td>\n",
       "    </tr>\n",
       "    <tr>\n",
       "      <td>3201</td>\n",
       "      <td>You can't really do anything with the third fl...</td>\n",
       "      <td>[(0, 0.06627043), (1, 0.06799605), (2, 0.72655...</td>\n",
       "      <td>0.066270</td>\n",
       "      <td>0.067996</td>\n",
       "      <td>0.726551</td>\n",
       "      <td>0.076664</td>\n",
       "      <td>0.062519</td>\n",
       "    </tr>\n",
       "    <tr>\n",
       "      <td>3301</td>\n",
       "      <td>and if you want the dance at tsuki’s house you...</td>\n",
       "      <td>[(0, 0.039842222), (1, 0.32374385), (2, 0.5555...</td>\n",
       "      <td>0.039842</td>\n",
       "      <td>0.323744</td>\n",
       "      <td>0.555574</td>\n",
       "      <td>0.042802</td>\n",
       "      <td>0.038037</td>\n",
       "    </tr>\n",
       "    <tr>\n",
       "      <td>3401</td>\n",
       "      <td>Hi, could I please contact an Admin directly? ...</td>\n",
       "      <td>[(0, 0.017981637), (1, 0.7025478), (2, 0.01701...</td>\n",
       "      <td>0.017982</td>\n",
       "      <td>0.702548</td>\n",
       "      <td>0.017014</td>\n",
       "      <td>0.018881</td>\n",
       "      <td>0.243575</td>\n",
       "    </tr>\n",
       "    <tr>\n",
       "      <td>3501</td>\n",
       "      <td>ok thx</td>\n",
       "      <td>[(0, 0.09981264), (1, 0.10138217), (2, 0.09448...</td>\n",
       "      <td>0.099813</td>\n",
       "      <td>0.101382</td>\n",
       "      <td>0.094488</td>\n",
       "      <td>0.610167</td>\n",
       "      <td>0.094151</td>\n",
       "    </tr>\n",
       "    <tr>\n",
       "      <td>3601</td>\n",
       "      <td>&lt;user_mention&gt; you got a diary entry where som...</td>\n",
       "      <td>[(0, 0.019819953), (1, 0.9217156), (2, 0.01876...</td>\n",
       "      <td>0.019820</td>\n",
       "      <td>0.921716</td>\n",
       "      <td>0.018767</td>\n",
       "      <td>0.020706</td>\n",
       "      <td>0.018992</td>\n",
       "    </tr>\n",
       "    <tr>\n",
       "      <td>3701</td>\n",
       "      <td>&lt;user_mention&gt; Hugo will be in the entrance of...</td>\n",
       "      <td>[(0, 0.049606662), (1, 0.05067819), (2, 0.0469...</td>\n",
       "      <td>0.049607</td>\n",
       "      <td>0.050678</td>\n",
       "      <td>0.046955</td>\n",
       "      <td>0.051517</td>\n",
       "      <td>0.801243</td>\n",
       "    </tr>\n",
       "    <tr>\n",
       "      <td>3801</td>\n",
       "      <td>Check playstore there was a small update &lt;user...</td>\n",
       "      <td>[(0, 0.5457021), (1, 0.05057718), (2, 0.046935...</td>\n",
       "      <td>0.545702</td>\n",
       "      <td>0.050577</td>\n",
       "      <td>0.046935</td>\n",
       "      <td>0.309844</td>\n",
       "      <td>0.046942</td>\n",
       "    </tr>\n",
       "    <tr>\n",
       "      <td>3901</td>\n",
       "      <td>I didn’t buy the compass? Do I need to get the...</td>\n",
       "      <td>[(0, 0.04987787), (1, 0.050620355), (2, 0.0475...</td>\n",
       "      <td>0.049878</td>\n",
       "      <td>0.050620</td>\n",
       "      <td>0.047543</td>\n",
       "      <td>0.051926</td>\n",
       "      <td>0.800033</td>\n",
       "    </tr>\n",
       "    <tr>\n",
       "      <td>4001</td>\n",
       "      <td>okay okay thanks</td>\n",
       "      <td>[(0, 0.06625104), (1, 0.06729256), (2, 0.06271...</td>\n",
       "      <td>0.066251</td>\n",
       "      <td>0.067293</td>\n",
       "      <td>0.062717</td>\n",
       "      <td>0.741252</td>\n",
       "      <td>0.062488</td>\n",
       "    </tr>\n",
       "    <tr>\n",
       "      <td>4101</td>\n",
       "      <td>I show you the os</td>\n",
       "      <td>[(0, 0.20227426), (1, 0.20544878), (2, 0.19148...</td>\n",
       "      <td>0.202274</td>\n",
       "      <td>0.205449</td>\n",
       "      <td>0.191487</td>\n",
       "      <td>0.210124</td>\n",
       "      <td>0.190667</td>\n",
       "    </tr>\n",
       "    <tr>\n",
       "      <td>4201</td>\n",
       "      <td>&lt;user_mention&gt;</td>\n",
       "      <td>[(0, 0.20227426), (1, 0.20544878), (2, 0.19148...</td>\n",
       "      <td>0.202274</td>\n",
       "      <td>0.205449</td>\n",
       "      <td>0.191487</td>\n",
       "      <td>0.210124</td>\n",
       "      <td>0.190667</td>\n",
       "    </tr>\n",
       "    <tr>\n",
       "      <td>4301</td>\n",
       "      <td>but i thought the dead but cant revive bug was...</td>\n",
       "      <td>[(0, 0.039648253), (1, 0.04026396), (2, 0.6323...</td>\n",
       "      <td>0.039648</td>\n",
       "      <td>0.040264</td>\n",
       "      <td>0.632358</td>\n",
       "      <td>0.249633</td>\n",
       "      <td>0.038097</td>\n",
       "    </tr>\n",
       "    <tr>\n",
       "      <td>4401</td>\n",
       "      <td>as tsuki happens in a japanese environment, ho...</td>\n",
       "      <td>[(0, 0.019765517), (1, 0.922144), (2, 0.018826...</td>\n",
       "      <td>0.019766</td>\n",
       "      <td>0.922144</td>\n",
       "      <td>0.018827</td>\n",
       "      <td>0.020539</td>\n",
       "      <td>0.018724</td>\n",
       "    </tr>\n",
       "  </tbody>\n",
       "</table>\n",
       "</div>"
      ],
      "text/plain": [
       "                                                   text  \\\n",
       "1     i go to the forest to see how much i have beca...   \n",
       "101   it's okay just teach him he will know what is ...   \n",
       "201                                           welcomee    \n",
       "301    all the food that you are saving they would eat    \n",
       "401                                                yay    \n",
       "501                           HAPPY NEW YEAR BUNNIES!!    \n",
       "601                                               Hi!!    \n",
       "701                                              Hello    \n",
       "801                                             Update    \n",
       "901                                     Hello everyone    \n",
       "1001                                               -.-    \n",
       "1101                                           Welcome    \n",
       "1201                                            ('▽'〃)    \n",
       "1301  I didn't k ow where to ask this so I am askig ...   \n",
       "1401                              <user_mention> sure!    \n",
       "1501  Hi this is amethyst from Canada, I downloaded ...   \n",
       "1601                                    Jap variation?    \n",
       "1701  btw this channel is for bugs, u can seek help ...   \n",
       "1801  <user_mention> you may not have a high enough ...   \n",
       "1901                           Yep, that's a known bug    \n",
       "2001  I don’t believe I do, anything special I need ...   \n",
       "2101                                      That's great    \n",
       "2201   i cant access any shop since the lny update uwu    \n",
       "2301                                Thank you so much!    \n",
       "2401                         XD I bought the swing too    \n",
       "2501                                               Ooo    \n",
       "2601  my tree won’t be get finished because KUBO WON...   \n",
       "2701  O yea, I finally be able to give pipi the pres...   \n",
       "2801          <user_mention> When he was 12 years old.    \n",
       "2901                                       NAUGHTY BOI    \n",
       "3001                             Finally got that rope    \n",
       "3101  Errr I only have one for the forest since I co...   \n",
       "3201  You can't really do anything with the third fl...   \n",
       "3301  and if you want the dance at tsuki’s house you...   \n",
       "3401  Hi, could I please contact an Admin directly? ...   \n",
       "3501                                            ok thx    \n",
       "3601  <user_mention> you got a diary entry where som...   \n",
       "3701  <user_mention> Hugo will be in the entrance of...   \n",
       "3801  Check playstore there was a small update <user...   \n",
       "3901  I didn’t buy the compass? Do I need to get the...   \n",
       "4001                                  okay okay thanks    \n",
       "4101                                 I show you the os    \n",
       "4201                                    <user_mention>    \n",
       "4301  but i thought the dead but cant revive bug was...   \n",
       "4401  as tsuki happens in a japanese environment, ho...   \n",
       "\n",
       "                                                 topics   topic_0   topic_1  \\\n",
       "1     [(0, 0.099846005), (1, 0.10140792), (2, 0.0945...  0.099846  0.101408   \n",
       "101   [(0, 0.0662975), (1, 0.067332834), (2, 0.06305...  0.066298  0.067333   \n",
       "201   [(0, 0.20227426), (1, 0.20544878), (2, 0.19148...  0.202274  0.205449   \n",
       "301   [(0, 0.80251205), (1, 0.050356776), (2, 0.0469...  0.802512  0.050357   \n",
       "401   [(0, 0.20227426), (1, 0.20544878), (2, 0.19148...  0.202274  0.205449   \n",
       "501   [(0, 0.60582304), (1, 0.101614974), (2, 0.0945...  0.605823  0.101615   \n",
       "601   [(0, 0.20227426), (1, 0.20544878), (2, 0.19148...  0.202274  0.205449   \n",
       "701   [(0, 0.20227426), (1, 0.20544878), (2, 0.19148...  0.202274  0.205449   \n",
       "801   [(0, 0.605261), (1, 0.101526186), (2, 0.094486...  0.605261  0.101526   \n",
       "901   [(0, 0.20227426), (1, 0.20544878), (2, 0.19148...  0.202274  0.205449   \n",
       "1001  [(0, 0.20227426), (1, 0.20544878), (2, 0.19148...  0.202274  0.205449   \n",
       "1101  [(0, 0.10007267), (1, 0.10165309), (2, 0.60042...  0.100073  0.101653   \n",
       "1201  [(0, 0.20227426), (1, 0.20544878), (2, 0.19148...  0.202274  0.205449   \n",
       "1301  [(0, 0.023101086), (1, 0.91223717), (2, 0.0210...  0.023101  0.912237   \n",
       "1401  [(0, 0.20227426), (1, 0.20544878), (2, 0.19148...  0.202274  0.205449   \n",
       "1501  [(0, 0.7186567), (1, 0.033643108), (2, 0.03158...  0.718657  0.033643   \n",
       "1601  [(0, 0.09986593), (1, 0.6077312), (2, 0.094532...  0.099866  0.607731   \n",
       "1701  [(0, 0.029941428), (1, 0.38038084), (2, 0.0270...  0.029941  0.380381   \n",
       "1801  [(0, 0.09981034), (1, 0.10137665), (2, 0.09512...  0.099810  0.101377   \n",
       "1901  [(0, 0.20227426), (1, 0.20544878), (2, 0.19148...  0.202274  0.205449   \n",
       "2001  [(0, 0.20227426), (1, 0.20544878), (2, 0.19148...  0.202274  0.205449   \n",
       "2101  [(0, 0.20227426), (1, 0.20544878), (2, 0.19148...  0.202274  0.205449   \n",
       "2201  [(0, 0.07003742), (1, 0.06745456), (2, 0.06271...  0.070037  0.067455   \n",
       "2301  [(0, 0.20227426), (1, 0.20544878), (2, 0.19148...  0.202274  0.205449   \n",
       "2401  [(0, 0.066598244), (1, 0.067289434), (2, 0.063...  0.066598  0.067289   \n",
       "2501  [(0, 0.20227426), (1, 0.20544878), (2, 0.19148...  0.202274  0.205449   \n",
       "2601  [(0, 0.8018478), (1, 0.051787306), (2, 0.04804...  0.801848  0.051787   \n",
       "2701  [(0, 0.09998263), (1, 0.10317003), (2, 0.09451...  0.099983  0.103170   \n",
       "2801  [(0, 0.100112654), (1, 0.6058749), (2, 0.09624...  0.100113  0.605875   \n",
       "2901  [(0, 0.20227426), (1, 0.20544878), (2, 0.19148...  0.202274  0.205449   \n",
       "3001  [(0, 0.20227426), (1, 0.20544878), (2, 0.19148...  0.202274  0.205449   \n",
       "3101  [(0, 0.37425187), (1, 0.034327228), (2, 0.0316...  0.374252  0.034327   \n",
       "3201  [(0, 0.06627043), (1, 0.06799605), (2, 0.72655...  0.066270  0.067996   \n",
       "3301  [(0, 0.039842222), (1, 0.32374385), (2, 0.5555...  0.039842  0.323744   \n",
       "3401  [(0, 0.017981637), (1, 0.7025478), (2, 0.01701...  0.017982  0.702548   \n",
       "3501  [(0, 0.09981264), (1, 0.10138217), (2, 0.09448...  0.099813  0.101382   \n",
       "3601  [(0, 0.019819953), (1, 0.9217156), (2, 0.01876...  0.019820  0.921716   \n",
       "3701  [(0, 0.049606662), (1, 0.05067819), (2, 0.0469...  0.049607  0.050678   \n",
       "3801  [(0, 0.5457021), (1, 0.05057718), (2, 0.046935...  0.545702  0.050577   \n",
       "3901  [(0, 0.04987787), (1, 0.050620355), (2, 0.0475...  0.049878  0.050620   \n",
       "4001  [(0, 0.06625104), (1, 0.06729256), (2, 0.06271...  0.066251  0.067293   \n",
       "4101  [(0, 0.20227426), (1, 0.20544878), (2, 0.19148...  0.202274  0.205449   \n",
       "4201  [(0, 0.20227426), (1, 0.20544878), (2, 0.19148...  0.202274  0.205449   \n",
       "4301  [(0, 0.039648253), (1, 0.04026396), (2, 0.6323...  0.039648  0.040264   \n",
       "4401  [(0, 0.019765517), (1, 0.922144), (2, 0.018826...  0.019766  0.922144   \n",
       "\n",
       "       topic_2   topic_3   topic_4  \n",
       "1     0.094518  0.610112  0.094116  \n",
       "101   0.063053  0.738916  0.064401  \n",
       "201   0.191487  0.210124  0.190667  \n",
       "301   0.046982  0.053085  0.047065  \n",
       "401   0.191487  0.210124  0.190667  \n",
       "501   0.094527  0.103950  0.094085  \n",
       "601   0.191487  0.210124  0.190667  \n",
       "701   0.191487  0.210124  0.190667  \n",
       "801   0.094487  0.103837  0.094889  \n",
       "901   0.191487  0.210124  0.190667  \n",
       "1001  0.191487  0.210124  0.190667  \n",
       "1101  0.600423  0.103709  0.094143  \n",
       "1201  0.191487  0.210124  0.190667  \n",
       "1301  0.021015  0.022845  0.020801  \n",
       "1401  0.191487  0.210124  0.190667  \n",
       "1501  0.031584  0.035104  0.181012  \n",
       "1601  0.094533  0.103740  0.094130  \n",
       "1701  0.027015  0.535715  0.026948  \n",
       "1801  0.095125  0.103684  0.600004  \n",
       "1901  0.191487  0.210124  0.190667  \n",
       "2001  0.191487  0.210124  0.190667  \n",
       "2101  0.191487  0.210124  0.190667  \n",
       "2201  0.062717  0.068957  0.730834  \n",
       "2301  0.191487  0.210124  0.190667  \n",
       "2401  0.063336  0.739337  0.063440  \n",
       "2501  0.191487  0.210124  0.190667  \n",
       "2601  0.048046  0.051571  0.046748  \n",
       "2701  0.094514  0.607601  0.094733  \n",
       "2801  0.096247  0.103683  0.094082  \n",
       "2901  0.191487  0.210124  0.190667  \n",
       "3001  0.191487  0.210124  0.190667  \n",
       "3101  0.031639  0.036550  0.523232  \n",
       "3201  0.726551  0.076664  0.062519  \n",
       "3301  0.555574  0.042802  0.038037  \n",
       "3401  0.017014  0.018881  0.243575  \n",
       "3501  0.094488  0.610167  0.094151  \n",
       "3601  0.018767  0.020706  0.018992  \n",
       "3701  0.046955  0.051517  0.801243  \n",
       "3801  0.046935  0.309844  0.046942  \n",
       "3901  0.047543  0.051926  0.800033  \n",
       "4001  0.062717  0.741252  0.062488  \n",
       "4101  0.191487  0.210124  0.190667  \n",
       "4201  0.191487  0.210124  0.190667  \n",
       "4301  0.632358  0.249633  0.038097  \n",
       "4401  0.018827  0.020539  0.018724  "
      ]
     },
     "execution_count": 255,
     "metadata": {},
     "output_type": "execute_result"
    }
   ],
   "source": [
    "#Dict to temporally hold the probabilities\n",
    "topicsProbDict = {i : [0] * len(ldaDF) for i in range(tsukilda.num_topics)}\n",
    "\n",
    "#Load them into the dict\n",
    "for index, topicTuples in enumerate(ldaDF['topics']):\n",
    "    for topicNum, prob in topicTuples:\n",
    "        topicsProbDict[topicNum][index] = prob\n",
    "\n",
    "#Update the DataFrame\n",
    "for topicNum in range(tsukilda.num_topics):\n",
    "    ldaDF['topic_{}'.format(topicNum)] = topicsProbDict[topicNum]\n",
    "\n",
    "ldaDF[1::100]"
   ]
  },
  {
   "cell_type": "markdown",
   "metadata": {},
   "source": [
    "We can clearly see that the longer the text it, the more certain LDA assigns that text to a particular topic. In contrast, when there is only one word in the text, LDA can't really pinpoint which topic should be the highest. We can see that in that case, LDA assign ~0.20 across 5 topics. Seems like my data is not really suitable for topic modelling since a lot of texts are short."
   ]
  },
  {
   "cell_type": "code",
   "execution_count": 665,
   "metadata": {},
   "outputs": [],
   "source": [
    "ldaDFV = ldaDF[-10:][['topic_%d' %x for x in range(5)]]\n",
    "ldaDFVisN = ldaDF[-10:][['text']]\n",
    "ldaDFVis = ldaDFV.as_matrix(columns=None)\n",
    "ldaDFVisNames = ldaDFVisN.as_matrix(columns=None)"
   ]
  },
  {
   "cell_type": "markdown",
   "metadata": {},
   "source": [
    "Below are 10 texts I am going to visualize:"
   ]
  },
  {
   "cell_type": "code",
   "execution_count": 258,
   "metadata": {},
   "outputs": [
    {
     "name": "stdout",
     "output_type": "stream",
     "text": [
      "1 :  Weiwei’s idea is actually good. An update on Ed storyline as well \n",
      "2 :  <user_mention> this is a totally new story! Cool! \n",
      "3 :  <user_mention> Ooo. I love the scarf idea! Hehe \n",
      "4 :  And she reveals the killer. Her own father \n",
      "5 :  Wow Wei Wei idea is splendid !! ★Maybe meanwhile TSUKI goes fishing in Yukiyama maybe catching the bones or skull like or something from the DAUGHTER's Corpse . ★ Maybe Mayor's daughters corpse turning into a ghost ..that will be awesome ...New ghost at yukiyama !! \n",
      "6 :  Tsuki fishing up the mayor's dead grandaughter's corpse.. \n",
      "7 :  -tsuki’s festive scarf/holiday scarf \n",
      "8 :  -snowball fight w friends -snowman making during xmas -diary entry for snowball fight and snow angel ️ \n",
      "9 :  <user_mention> it worked! Thanks again! \n",
      "10 :  Oh wow thank you! I’ll try now! \n"
     ]
    }
   ],
   "source": [
    "i = 1\n",
    "for text in ldaDFVisNames:\n",
    "    print(i, \": \", text[0])\n",
    "    i+= 1"
   ]
  },
  {
   "cell_type": "code",
   "execution_count": 265,
   "metadata": {},
   "outputs": [
    {
     "data": {
      "image/png": "[encoded data removed]",
      "text/plain": [
       "<Figure size 432x288 with 1 Axes>"
      ]
     },
     "metadata": {
      "needs_background": "light"
     },
     "output_type": "display_data"
    }
   ],
   "source": [
    "N = 10\n",
    "ind = np.arange(N)\n",
    "K = tsukilda.num_topics  # N documents, K topics\n",
    "ind = np.arange(N)  # the x-axis locations for the novels\n",
    "width = 0.5  # the width of the bars\n",
    "plots = []\n",
    "height_cumulative = np.zeros(N)\n",
    "\n",
    "for k in range(K):\n",
    "    color = plt.cm.coolwarm(k/K, 1)\n",
    "    if k == 0:\n",
    "        p = plt.bar(ind, ldaDFVis[:, k], width, color=color)\n",
    "    else:\n",
    "        p = plt.bar(ind, ldaDFVis[:, k], width, bottom=height_cumulative, color=color)\n",
    "    height_cumulative += ldaDFVis[:, k]\n",
    "    plots.append(p)\n",
    "    \n",
    "\n",
    "plt.ylim((0, 1))  # proportions sum to 1, so the height of the stacked bars is 1\n",
    "plt.ylabel('Topics')\n",
    "\n",
    "plt.title('Topics in Tsuki Discord')\n",
    "#plt.xticks(ind+width/2, ldaDFVisNames, rotation='vertical')\n",
    "\n",
    "plt.yticks(np.arange(0, 1, 10))\n",
    "topic_labels = ['Topic #{}'.format(k) for k in range(K)]\n",
    "plt.legend([p[0] for p in plots], topic_labels, loc='center left', frameon=True,  bbox_to_anchor = (1, .5))\n",
    "\n",
    "plt.show()"
   ]
  },
  {
   "cell_type": "markdown",
   "metadata": {},
   "source": [
    "We can see the same pattern, the 9th text is short relative to the other 9 texts. Hence, it is one with the most unclear dominant topic."
   ]
  },
  {
   "cell_type": "code",
   "execution_count": 266,
   "metadata": {},
   "outputs": [
    {
     "data": {
      "image/png": "[encoded data removed]",
      "text/plain": [
       "<Figure size 432x288 with 2 Axes>"
      ]
     },
     "metadata": {
      "needs_background": "light"
     },
     "output_type": "display_data"
    }
   ],
   "source": [
    "plt.pcolor(ldaDFVis, norm=None, cmap='Blues')\n",
    "#plt.yticks(np.arange(ldaDFVis.shape[0])+0.5, ldaDFVisNames);\n",
    "plt.xticks(np.arange(ldaDFVis.shape[1])+0.5, topic_labels);\n",
    "\n",
    "# flip the y-axis so the texts are in the order we anticipate (Austen first, then Brontë)\n",
    "plt.gca().invert_yaxis()\n",
    "\n",
    "# rotate the ticks on the x-axis\n",
    "plt.xticks(rotation=90)\n",
    "\n",
    "# add a legend\n",
    "plt.colorbar(cmap='Blues')\n",
    "plt.tight_layout()  # fixes margins\n",
    "plt.show()"
   ]
  },
  {
   "cell_type": "code",
   "execution_count": 267,
   "metadata": {},
   "outputs": [
    {
     "data": {
      "text/html": [
       "<div>\n",
       "<style scoped>\n",
       "    .dataframe tbody tr th:only-of-type {\n",
       "        vertical-align: middle;\n",
       "    }\n",
       "\n",
       "    .dataframe tbody tr th {\n",
       "        vertical-align: top;\n",
       "    }\n",
       "\n",
       "    .dataframe thead th {\n",
       "        text-align: right;\n",
       "    }\n",
       "</style>\n",
       "<table border=\"1\" class=\"dataframe\">\n",
       "  <thead>\n",
       "    <tr style=\"text-align: right;\">\n",
       "      <th></th>\n",
       "      <th>Topic_0</th>\n",
       "      <th>Topic_1</th>\n",
       "      <th>Topic_2</th>\n",
       "      <th>Topic_3</th>\n",
       "      <th>Topic_4</th>\n",
       "    </tr>\n",
       "  </thead>\n",
       "  <tbody>\n",
       "    <tr>\n",
       "      <td>0</td>\n",
       "      <td>yes</td>\n",
       "      <td>random</td>\n",
       "      <td>cool</td>\n",
       "      <td>okay</td>\n",
       "      <td>oh</td>\n",
       "    </tr>\n",
       "    <tr>\n",
       "      <td>1</td>\n",
       "      <td>game</td>\n",
       "      <td>phone</td>\n",
       "      <td>visit</td>\n",
       "      <td>try</td>\n",
       "      <td>think</td>\n",
       "    </tr>\n",
       "    <tr>\n",
       "      <td>2</td>\n",
       "      <td>play</td>\n",
       "      <td>trigger</td>\n",
       "      <td>city</td>\n",
       "      <td>gas</td>\n",
       "      <td>wait</td>\n",
       "    </tr>\n",
       "    <tr>\n",
       "      <td>3</td>\n",
       "      <td>check</td>\n",
       "      <td>entry</td>\n",
       "      <td>fish</td>\n",
       "      <td>ed</td>\n",
       "      <td>thing</td>\n",
       "    </tr>\n",
       "    <tr>\n",
       "      <td>4</td>\n",
       "      <td>love</td>\n",
       "      <td>nice</td>\n",
       "      <td>maybe</td>\n",
       "      <td>eat</td>\n",
       "      <td>heart</td>\n",
       "    </tr>\n",
       "    <tr>\n",
       "      <td>5</td>\n",
       "      <td>food</td>\n",
       "      <td>christmas</td>\n",
       "      <td>hour</td>\n",
       "      <td>station</td>\n",
       "      <td>red</td>\n",
       "    </tr>\n",
       "    <tr>\n",
       "      <td>6</td>\n",
       "      <td>update</td>\n",
       "      <td>sign</td>\n",
       "      <td>happen</td>\n",
       "      <td>code</td>\n",
       "      <td>answer</td>\n",
       "    </tr>\n",
       "    <tr>\n",
       "      <td>7</td>\n",
       "      <td>friend</td>\n",
       "      <td>village</td>\n",
       "      <td>car</td>\n",
       "      <td>late</td>\n",
       "      <td>save</td>\n",
       "    </tr>\n",
       "    <tr>\n",
       "      <td>8</td>\n",
       "      <td>save</td>\n",
       "      <td>happen</td>\n",
       "      <td>welcome</td>\n",
       "      <td>club</td>\n",
       "      <td>buy</td>\n",
       "    </tr>\n",
       "    <tr>\n",
       "      <td>9</td>\n",
       "      <td>idea</td>\n",
       "      <td>event</td>\n",
       "      <td>option</td>\n",
       "      <td>stay</td>\n",
       "      <td>click</td>\n",
       "    </tr>\n",
       "  </tbody>\n",
       "</table>\n",
       "</div>"
      ],
      "text/plain": [
       "  Topic_0    Topic_1  Topic_2  Topic_3 Topic_4\n",
       "0     yes     random     cool     okay      oh\n",
       "1    game      phone    visit      try   think\n",
       "2    play    trigger     city      gas    wait\n",
       "3   check      entry     fish       ed   thing\n",
       "4    love       nice    maybe      eat   heart\n",
       "5    food  christmas     hour  station     red\n",
       "6  update       sign   happen     code  answer\n",
       "7  friend    village      car     late    save\n",
       "8    save     happen  welcome     club     buy\n",
       "9    idea      event   option     stay   click"
      ]
     },
     "execution_count": 267,
     "metadata": {},
     "output_type": "execute_result"
    }
   ],
   "source": [
    "topicsDict = {}\n",
    "for topicNum in range(tsukilda.num_topics):\n",
    "    topicWords = [w for w, p in tsukilda.show_topic(topicNum)]\n",
    "    topicsDict['Topic_{}'.format(topicNum)] = topicWords\n",
    "\n",
    "wordRanksDF = pandas.DataFrame(topicsDict)\n",
    "wordRanksDF"
   ]
  },
  {
   "cell_type": "code",
   "execution_count": 268,
   "metadata": {},
   "outputs": [
    {
     "data": {
      "text/plain": [
       "<Figure size 432x288 with 0 Axes>"
      ]
     },
     "metadata": {},
     "output_type": "display_data"
    },
    {
     "data": {
      "image/png": "[encoded data removed]",
      "text/plain": [
       "<Figure size 432x288 with 1 Axes>"
      ]
     },
     "metadata": {
      "needs_background": "light"
     },
     "output_type": "display_data"
    }
   ],
   "source": [
    "topic1_df = pandas.DataFrame(tsukilda.show_topic(1, topn=50))\n",
    "plt.figure()\n",
    "topic1_df.plot.bar(legend = False)\n",
    "plt.title('Probability Distribution of Words, Topic 1')\n",
    "plt.show()"
   ]
  },
  {
   "cell_type": "code",
   "execution_count": 269,
   "metadata": {},
   "outputs": [],
   "source": [
    "tsukilda1 = gensim.models.ldamodel.LdaModel(corpus=corpus, id2word=dictionary, num_topics=5, eta = 0.00001)\n",
    "tsukilda2 = gensim.models.ldamodel.LdaModel(corpus=corpus, id2word=dictionary, num_topics=5, eta = 0.9)"
   ]
  },
  {
   "cell_type": "code",
   "execution_count": 251,
   "metadata": {},
   "outputs": [
    {
     "data": {
      "image/png": "[encoded data removed]",
      "text/plain": [
       "<Figure size 1296x504 with 2 Axes>"
      ]
     },
     "metadata": {
      "needs_background": "light"
     },
     "output_type": "display_data"
    }
   ],
   "source": [
    "topic11_df = pandas.DataFrame(tsukilda1.show_topic(1, topn=50))\n",
    "topic21_df = pandas.DataFrame(tsukilda2.show_topic(1, topn=50))\n",
    "\n",
    "fig, (ax1, ax2) = plt.subplots(1, 2)\n",
    "fig.set_size_inches(18, 7)\n",
    "topic11_df.plot.bar(legend = False, ax = ax1, title = '$\\eta$  = 0.00001')\n",
    "topic21_df.plot.bar(legend = False, ax = ax2, title = '$\\eta$  = 0.9')\n",
    "plt.show()"
   ]
  },
  {
   "cell_type": "markdown",
   "metadata": {},
   "source": [
    "### $\\eta$ = 0.00001"
   ]
  },
  {
   "cell_type": "code",
   "execution_count": 667,
   "metadata": {},
   "outputs": [
    {
     "data": {
      "text/html": [
       "<div>\n",
       "<style scoped>\n",
       "    .dataframe tbody tr th:only-of-type {\n",
       "        vertical-align: middle;\n",
       "    }\n",
       "\n",
       "    .dataframe tbody tr th {\n",
       "        vertical-align: top;\n",
       "    }\n",
       "\n",
       "    .dataframe thead th {\n",
       "        text-align: right;\n",
       "    }\n",
       "</style>\n",
       "<table border=\"1\" class=\"dataframe\">\n",
       "  <thead>\n",
       "    <tr style=\"text-align: right;\">\n",
       "      <th></th>\n",
       "      <th>Topic_0</th>\n",
       "      <th>Topic_1</th>\n",
       "      <th>Topic_2</th>\n",
       "      <th>Topic_3</th>\n",
       "      <th>Topic_4</th>\n",
       "    </tr>\n",
       "  </thead>\n",
       "  <tbody>\n",
       "    <tr>\n",
       "      <td>0</td>\n",
       "      <td>phone</td>\n",
       "      <td>random</td>\n",
       "      <td>code</td>\n",
       "      <td>happen</td>\n",
       "      <td>okay</td>\n",
       "    </tr>\n",
       "    <tr>\n",
       "      <td>1</td>\n",
       "      <td>game</td>\n",
       "      <td>trigger</td>\n",
       "      <td>hour</td>\n",
       "      <td>try</td>\n",
       "      <td>oh</td>\n",
       "    </tr>\n",
       "    <tr>\n",
       "      <td>2</td>\n",
       "      <td>entry</td>\n",
       "      <td>christmas</td>\n",
       "      <td>save</td>\n",
       "      <td>maybe</td>\n",
       "      <td>yes</td>\n",
       "    </tr>\n",
       "    <tr>\n",
       "      <td>3</td>\n",
       "      <td>play</td>\n",
       "      <td>idea</td>\n",
       "      <td>fish</td>\n",
       "      <td>option</td>\n",
       "      <td>cool</td>\n",
       "    </tr>\n",
       "    <tr>\n",
       "      <td>4</td>\n",
       "      <td>visit</td>\n",
       "      <td>welcome</td>\n",
       "      <td>check</td>\n",
       "      <td>car</td>\n",
       "      <td>buy</td>\n",
       "    </tr>\n",
       "    <tr>\n",
       "      <td>5</td>\n",
       "      <td>thing</td>\n",
       "      <td>morning</td>\n",
       "      <td>answer</td>\n",
       "      <td>nice</td>\n",
       "      <td>gas</td>\n",
       "    </tr>\n",
       "    <tr>\n",
       "      <td>6</td>\n",
       "      <td>club</td>\n",
       "      <td>village</td>\n",
       "      <td>story</td>\n",
       "      <td>heart</td>\n",
       "      <td>sign</td>\n",
       "    </tr>\n",
       "    <tr>\n",
       "      <td>7</td>\n",
       "      <td>moon</td>\n",
       "      <td>post</td>\n",
       "      <td>ghost</td>\n",
       "      <td>eat</td>\n",
       "      <td>mean</td>\n",
       "    </tr>\n",
       "    <tr>\n",
       "      <td>8</td>\n",
       "      <td>city</td>\n",
       "      <td>wait</td>\n",
       "      <td>character</td>\n",
       "      <td>play</td>\n",
       "      <td>late</td>\n",
       "    </tr>\n",
       "    <tr>\n",
       "      <td>9</td>\n",
       "      <td>old</td>\n",
       "      <td>friend</td>\n",
       "      <td>wish</td>\n",
       "      <td>city</td>\n",
       "      <td>ed</td>\n",
       "    </tr>\n",
       "  </tbody>\n",
       "</table>\n",
       "</div>"
      ],
      "text/plain": [
       "  Topic_0    Topic_1    Topic_2 Topic_3 Topic_4\n",
       "0   phone     random       code  happen    okay\n",
       "1    game    trigger       hour     try      oh\n",
       "2   entry  christmas       save   maybe     yes\n",
       "3    play       idea       fish  option    cool\n",
       "4   visit    welcome      check     car     buy\n",
       "5   thing    morning     answer    nice     gas\n",
       "6    club    village      story   heart    sign\n",
       "7    moon       post      ghost     eat    mean\n",
       "8    city       wait  character    play    late\n",
       "9     old     friend       wish    city      ed"
      ]
     },
     "execution_count": 667,
     "metadata": {},
     "output_type": "execute_result"
    }
   ],
   "source": [
    "topicsDict = {}\n",
    "for topicNum in range(tsukilda1.num_topics):\n",
    "    topicWords = [w for w, p in tsukilda1.show_topic(topicNum)]\n",
    "    topicsDict['Topic_{}'.format(topicNum)] = topicWords\n",
    "\n",
    "wordRanksDF = pandas.DataFrame(topicsDict)\n",
    "wordRanksDF"
   ]
  },
  {
   "cell_type": "markdown",
   "metadata": {},
   "source": [
    "The words seem to be more specific than the default $\\eta$. For example, we can see `club moon` which is a specific location in the game."
   ]
  },
  {
   "cell_type": "markdown",
   "metadata": {},
   "source": [
    "### $\\eta$ = 0.9"
   ]
  },
  {
   "cell_type": "code",
   "execution_count": 668,
   "metadata": {},
   "outputs": [
    {
     "data": {
      "text/html": [
       "<div>\n",
       "<style scoped>\n",
       "    .dataframe tbody tr th:only-of-type {\n",
       "        vertical-align: middle;\n",
       "    }\n",
       "\n",
       "    .dataframe tbody tr th {\n",
       "        vertical-align: top;\n",
       "    }\n",
       "\n",
       "    .dataframe thead th {\n",
       "        text-align: right;\n",
       "    }\n",
       "</style>\n",
       "<table border=\"1\" class=\"dataframe\">\n",
       "  <thead>\n",
       "    <tr style=\"text-align: right;\">\n",
       "      <th></th>\n",
       "      <th>Topic_0</th>\n",
       "      <th>Topic_1</th>\n",
       "      <th>Topic_2</th>\n",
       "      <th>Topic_3</th>\n",
       "      <th>Topic_4</th>\n",
       "    </tr>\n",
       "  </thead>\n",
       "  <tbody>\n",
       "    <tr>\n",
       "      <td>0</td>\n",
       "      <td>ed</td>\n",
       "      <td>random</td>\n",
       "      <td>okay</td>\n",
       "      <td>think</td>\n",
       "      <td>phone</td>\n",
       "    </tr>\n",
       "    <tr>\n",
       "      <td>1</td>\n",
       "      <td>eat</td>\n",
       "      <td>yes</td>\n",
       "      <td>oh</td>\n",
       "      <td>heart</td>\n",
       "      <td>try</td>\n",
       "    </tr>\n",
       "    <tr>\n",
       "      <td>2</td>\n",
       "      <td>mean</td>\n",
       "      <td>nice</td>\n",
       "      <td>entry</td>\n",
       "      <td>gas</td>\n",
       "      <td>maybe</td>\n",
       "    </tr>\n",
       "    <tr>\n",
       "      <td>3</td>\n",
       "      <td>swing</td>\n",
       "      <td>fish</td>\n",
       "      <td>happen</td>\n",
       "      <td>gift</td>\n",
       "      <td>game</td>\n",
       "    </tr>\n",
       "    <tr>\n",
       "      <td>4</td>\n",
       "      <td>play</td>\n",
       "      <td>cool</td>\n",
       "      <td>christmas</td>\n",
       "      <td>option</td>\n",
       "      <td>trigger</td>\n",
       "    </tr>\n",
       "    <tr>\n",
       "      <td>5</td>\n",
       "      <td>answer</td>\n",
       "      <td>welcome</td>\n",
       "      <td>buy</td>\n",
       "      <td>red</td>\n",
       "      <td>play</td>\n",
       "    </tr>\n",
       "    <tr>\n",
       "      <td>6</td>\n",
       "      <td>probably</td>\n",
       "      <td>check</td>\n",
       "      <td>wait</td>\n",
       "      <td>notification</td>\n",
       "      <td>yes</td>\n",
       "    </tr>\n",
       "    <tr>\n",
       "      <td>7</td>\n",
       "      <td>sad</td>\n",
       "      <td>club</td>\n",
       "      <td>visit</td>\n",
       "      <td>sorry</td>\n",
       "      <td>hour</td>\n",
       "    </tr>\n",
       "    <tr>\n",
       "      <td>8</td>\n",
       "      <td>correct</td>\n",
       "      <td>event</td>\n",
       "      <td>late</td>\n",
       "      <td>ask</td>\n",
       "      <td>food</td>\n",
       "    </tr>\n",
       "    <tr>\n",
       "      <td>9</td>\n",
       "      <td>hungry</td>\n",
       "      <td>moon</td>\n",
       "      <td>city</td>\n",
       "      <td>station</td>\n",
       "      <td>car</td>\n",
       "    </tr>\n",
       "  </tbody>\n",
       "</table>\n",
       "</div>"
      ],
      "text/plain": [
       "    Topic_0  Topic_1    Topic_2       Topic_3  Topic_4\n",
       "0        ed   random       okay         think    phone\n",
       "1       eat      yes         oh         heart      try\n",
       "2      mean     nice      entry           gas    maybe\n",
       "3     swing     fish     happen          gift     game\n",
       "4      play     cool  christmas        option  trigger\n",
       "5    answer  welcome        buy           red     play\n",
       "6  probably    check       wait  notification      yes\n",
       "7       sad     club      visit         sorry     hour\n",
       "8   correct    event       late           ask     food\n",
       "9    hungry     moon       city       station      car"
      ]
     },
     "execution_count": 668,
     "metadata": {},
     "output_type": "execute_result"
    }
   ],
   "source": [
    "topicsDict = {}\n",
    "for topicNum in range(tsukilda2.num_topics):\n",
    "    topicWords = [w for w, p in tsukilda2.show_topic(topicNum)]\n",
    "    topicsDict['Topic_{}'.format(topicNum)] = topicWords\n",
    "\n",
    "wordRanksDF = pandas.DataFrame(topicsDict)\n",
    "wordRanksDF"
   ]
  },
  {
   "cell_type": "markdown",
   "metadata": {},
   "source": [
    "Seems like topics are ordered differently from when $\\eta$ = 0.00001. It also seems to prioritize different words. Still, the overall content of the topics seem to remain unchange."
   ]
  },
  {
   "cell_type": "markdown",
   "metadata": {},
   "source": [
    "### Stretch"
   ]
  },
  {
   "cell_type": "code",
   "execution_count": 572,
   "metadata": {},
   "outputs": [],
   "source": [
    "#First it needs to be initialized\n",
    "ngCountVectorizer = sklearn.feature_extraction.text.CountVectorizer()\n",
    "#Then trained\n",
    "tsukiVects = ngCountVectorizer.fit_transform(ldaDF['text'])"
   ]
  },
  {
   "cell_type": "code",
   "execution_count": 573,
   "metadata": {},
   "outputs": [],
   "source": [
    "#initialize\n",
    "tsukiTFTransformer = sklearn.feature_extraction.text.TfidfTransformer().fit(tsukiVects)\n",
    "#train\n",
    "tsukiTF = tsukiTFTransformer.transform(tsukiVects)"
   ]
  },
  {
   "cell_type": "code",
   "execution_count": 636,
   "metadata": {},
   "outputs": [],
   "source": [
    "#initialize\n",
    "ngTFVectorizer = sklearn.feature_extraction.text.TfidfVectorizer(max_df=0.5, max_features=1000, min_df=3, stop_words='english', norm='l2')\n",
    "#train\n",
    "tsukiTFVects = ngTFVectorizer.fit_transform(ldaDF['text'])"
   ]
  },
  {
   "cell_type": "code",
   "execution_count": 637,
   "metadata": {},
   "outputs": [],
   "source": [
    "import scipy.sparse as sparse"
   ]
  },
  {
   "cell_type": "code",
   "execution_count": 638,
   "metadata": {},
   "outputs": [],
   "source": [
    "tsukiTFVects = sparse.hstack((tsukiTFVects,np.array(ldaDF['topic_0'])[:,None]))\n",
    "tsukiTFVects = sparse.hstack((tsukiTFVects,np.array(ldaDF['topic_1'])[:,None]))\n",
    "tsukiTFVects = sparse.hstack((tsukiTFVects,np.array(ldaDF['topic_2'])[:,None]))\n",
    "tsukiTFVects = sparse.hstack((tsukiTFVects,np.array(ldaDF['topic_3'])[:,None]))\n",
    "tsukiTFVects = sparse.hstack((tsukiTFVects,np.array(ldaDF['topic_4'])[:,None]))"
   ]
  },
  {
   "cell_type": "code",
   "execution_count": 639,
   "metadata": {},
   "outputs": [],
   "source": [
    "numClusters = 3"
   ]
  },
  {
   "cell_type": "code",
   "execution_count": 640,
   "metadata": {},
   "outputs": [],
   "source": [
    "km = sklearn.cluster.KMeans(n_clusters=numClusters, init='k-means++')"
   ]
  },
  {
   "cell_type": "code",
   "execution_count": 641,
   "metadata": {},
   "outputs": [
    {
     "data": {
      "text/plain": [
       "KMeans(algorithm='auto', copy_x=True, init='k-means++', max_iter=300,\n",
       "       n_clusters=3, n_init=10, n_jobs=None, precompute_distances='auto',\n",
       "       random_state=None, tol=0.0001, verbose=0)"
      ]
     },
     "execution_count": 641,
     "metadata": {},
     "output_type": "execute_result"
    }
   ],
   "source": [
    "km.fit(tsukiTFVects)"
   ]
  },
  {
   "cell_type": "code",
   "execution_count": 642,
   "metadata": {},
   "outputs": [
    {
     "data": {
      "text/html": [
       "<div>\n",
       "<style scoped>\n",
       "    .dataframe tbody tr th:only-of-type {\n",
       "        vertical-align: middle;\n",
       "    }\n",
       "\n",
       "    .dataframe tbody tr th {\n",
       "        vertical-align: top;\n",
       "    }\n",
       "\n",
       "    .dataframe thead th {\n",
       "        text-align: right;\n",
       "    }\n",
       "</style>\n",
       "<table border=\"1\" class=\"dataframe\">\n",
       "  <thead>\n",
       "    <tr style=\"text-align: right;\">\n",
       "      <th></th>\n",
       "      <th>text</th>\n",
       "      <th>topics</th>\n",
       "      <th>topic_0</th>\n",
       "      <th>topic_1</th>\n",
       "      <th>topic_2</th>\n",
       "      <th>topic_3</th>\n",
       "      <th>topic_4</th>\n",
       "      <th>kmeans_predictions</th>\n",
       "    </tr>\n",
       "  </thead>\n",
       "  <tbody>\n",
       "    <tr>\n",
       "      <td>0</td>\n",
       "      <td>i still have tons of moonpies and halloween fo...</td>\n",
       "      <td>[(0, 0.33184466), (1, 0.067290045), (2, 0.0627...</td>\n",
       "      <td>0.331845</td>\n",
       "      <td>0.067290</td>\n",
       "      <td>0.062717</td>\n",
       "      <td>0.068822</td>\n",
       "      <td>0.469327</td>\n",
       "      <td>1</td>\n",
       "    </tr>\n",
       "    <tr>\n",
       "      <td>1</td>\n",
       "      <td>i go to the forest to see how much i have beca...</td>\n",
       "      <td>[(0, 0.099846005), (1, 0.10140792), (2, 0.0945...</td>\n",
       "      <td>0.099846</td>\n",
       "      <td>0.101408</td>\n",
       "      <td>0.094518</td>\n",
       "      <td>0.610112</td>\n",
       "      <td>0.094116</td>\n",
       "      <td>1</td>\n",
       "    </tr>\n",
       "    <tr>\n",
       "      <td>2</td>\n",
       "      <td>hahahaha</td>\n",
       "      <td>[(0, 0.20227426), (1, 0.20544878), (2, 0.19148...</td>\n",
       "      <td>0.202274</td>\n",
       "      <td>0.205449</td>\n",
       "      <td>0.191487</td>\n",
       "      <td>0.210124</td>\n",
       "      <td>0.190667</td>\n",
       "      <td>1</td>\n",
       "    </tr>\n",
       "    <tr>\n",
       "      <td>3</td>\n",
       "      <td>hahahaha</td>\n",
       "      <td>[(0, 0.20227426), (1, 0.20544878), (2, 0.19148...</td>\n",
       "      <td>0.202274</td>\n",
       "      <td>0.205449</td>\n",
       "      <td>0.191487</td>\n",
       "      <td>0.210124</td>\n",
       "      <td>0.190667</td>\n",
       "      <td>1</td>\n",
       "    </tr>\n",
       "    <tr>\n",
       "      <td>4</td>\n",
       "      <td>hahahaha</td>\n",
       "      <td>[(0, 0.20227426), (1, 0.20544878), (2, 0.19148...</td>\n",
       "      <td>0.202274</td>\n",
       "      <td>0.205449</td>\n",
       "      <td>0.191487</td>\n",
       "      <td>0.210124</td>\n",
       "      <td>0.190667</td>\n",
       "      <td>1</td>\n",
       "    </tr>\n",
       "    <tr>\n",
       "      <td>...</td>\n",
       "      <td>...</td>\n",
       "      <td>...</td>\n",
       "      <td>...</td>\n",
       "      <td>...</td>\n",
       "      <td>...</td>\n",
       "      <td>...</td>\n",
       "      <td>...</td>\n",
       "      <td>...</td>\n",
       "    </tr>\n",
       "    <tr>\n",
       "      <td>4482</td>\n",
       "      <td>Tsuki fishing up the mayor's dead grandaughter...</td>\n",
       "      <td>[(0, 0.049655337), (1, 0.050357085), (2, 0.801...</td>\n",
       "      <td>0.049655</td>\n",
       "      <td>0.050357</td>\n",
       "      <td>0.801679</td>\n",
       "      <td>0.051539</td>\n",
       "      <td>0.046770</td>\n",
       "      <td>0</td>\n",
       "    </tr>\n",
       "    <tr>\n",
       "      <td>4483</td>\n",
       "      <td>-tsuki’s festive scarf/holiday scarf</td>\n",
       "      <td>[(0, 0.6060883), (1, 0.10137825), (2, 0.094488...</td>\n",
       "      <td>0.606088</td>\n",
       "      <td>0.101378</td>\n",
       "      <td>0.094489</td>\n",
       "      <td>0.103960</td>\n",
       "      <td>0.094084</td>\n",
       "      <td>2</td>\n",
       "    </tr>\n",
       "    <tr>\n",
       "      <td>4484</td>\n",
       "      <td>-snowball fight w friends -snowman making duri...</td>\n",
       "      <td>[(0, 0.5001584), (1, 0.35412726), (2, 0.046949...</td>\n",
       "      <td>0.500158</td>\n",
       "      <td>0.354127</td>\n",
       "      <td>0.046949</td>\n",
       "      <td>0.051873</td>\n",
       "      <td>0.046892</td>\n",
       "      <td>2</td>\n",
       "    </tr>\n",
       "    <tr>\n",
       "      <td>4485</td>\n",
       "      <td>&lt;user_mention&gt; it worked! Thanks again!</td>\n",
       "      <td>[(0, 0.20227426), (1, 0.20544878), (2, 0.19148...</td>\n",
       "      <td>0.202274</td>\n",
       "      <td>0.205449</td>\n",
       "      <td>0.191487</td>\n",
       "      <td>0.210124</td>\n",
       "      <td>0.190667</td>\n",
       "      <td>1</td>\n",
       "    </tr>\n",
       "    <tr>\n",
       "      <td>4486</td>\n",
       "      <td>Oh wow thank you! I’ll try now!</td>\n",
       "      <td>[(0, 0.0664631), (1, 0.06835506), (2, 0.062753...</td>\n",
       "      <td>0.066463</td>\n",
       "      <td>0.068355</td>\n",
       "      <td>0.062754</td>\n",
       "      <td>0.243986</td>\n",
       "      <td>0.558442</td>\n",
       "      <td>1</td>\n",
       "    </tr>\n",
       "  </tbody>\n",
       "</table>\n",
       "<p>4487 rows × 8 columns</p>\n",
       "</div>"
      ],
      "text/plain": [
       "                                                   text  \\\n",
       "0     i still have tons of moonpies and halloween fo...   \n",
       "1     i go to the forest to see how much i have beca...   \n",
       "2                                             hahahaha    \n",
       "3                                             hahahaha    \n",
       "4                                             hahahaha    \n",
       "...                                                 ...   \n",
       "4482  Tsuki fishing up the mayor's dead grandaughter...   \n",
       "4483              -tsuki’s festive scarf/holiday scarf    \n",
       "4484  -snowball fight w friends -snowman making duri...   \n",
       "4485           <user_mention> it worked! Thanks again!    \n",
       "4486                   Oh wow thank you! I’ll try now!    \n",
       "\n",
       "                                                 topics   topic_0   topic_1  \\\n",
       "0     [(0, 0.33184466), (1, 0.067290045), (2, 0.0627...  0.331845  0.067290   \n",
       "1     [(0, 0.099846005), (1, 0.10140792), (2, 0.0945...  0.099846  0.101408   \n",
       "2     [(0, 0.20227426), (1, 0.20544878), (2, 0.19148...  0.202274  0.205449   \n",
       "3     [(0, 0.20227426), (1, 0.20544878), (2, 0.19148...  0.202274  0.205449   \n",
       "4     [(0, 0.20227426), (1, 0.20544878), (2, 0.19148...  0.202274  0.205449   \n",
       "...                                                 ...       ...       ...   \n",
       "4482  [(0, 0.049655337), (1, 0.050357085), (2, 0.801...  0.049655  0.050357   \n",
       "4483  [(0, 0.6060883), (1, 0.10137825), (2, 0.094488...  0.606088  0.101378   \n",
       "4484  [(0, 0.5001584), (1, 0.35412726), (2, 0.046949...  0.500158  0.354127   \n",
       "4485  [(0, 0.20227426), (1, 0.20544878), (2, 0.19148...  0.202274  0.205449   \n",
       "4486  [(0, 0.0664631), (1, 0.06835506), (2, 0.062753...  0.066463  0.068355   \n",
       "\n",
       "       topic_2   topic_3   topic_4  kmeans_predictions  \n",
       "0     0.062717  0.068822  0.469327                   1  \n",
       "1     0.094518  0.610112  0.094116                   1  \n",
       "2     0.191487  0.210124  0.190667                   1  \n",
       "3     0.191487  0.210124  0.190667                   1  \n",
       "4     0.191487  0.210124  0.190667                   1  \n",
       "...        ...       ...       ...                 ...  \n",
       "4482  0.801679  0.051539  0.046770                   0  \n",
       "4483  0.094489  0.103960  0.094084                   2  \n",
       "4484  0.046949  0.051873  0.046892                   2  \n",
       "4485  0.191487  0.210124  0.190667                   1  \n",
       "4486  0.062754  0.243986  0.558442                   1  \n",
       "\n",
       "[4487 rows x 8 columns]"
      ]
     },
     "execution_count": 642,
     "metadata": {},
     "output_type": "execute_result"
    }
   ],
   "source": [
    "ldaDF['kmeans_predictions'] = km.labels_\n",
    "ldaDF"
   ]
  },
  {
   "cell_type": "code",
   "execution_count": 643,
   "metadata": {},
   "outputs": [],
   "source": [
    "PCA = sklearn.decomposition.PCA\n",
    "pca = PCA(n_components = 2).fit(tsukiTFVects.toarray())\n",
    "reduced_data = pca.transform(tsukiTFVects.toarray())"
   ]
  },
  {
   "cell_type": "code",
   "execution_count": 644,
   "metadata": {},
   "outputs": [],
   "source": [
    "components = pca.components_\n",
    "keyword_ids = list(set(order_centroids[:,:10].flatten())) #Get the ids of the most distinguishing words(features) from your kmeans model.\n",
    "#words = [terms[i] for i in keyword_ids]#Turn the ids into words.\n",
    "x = components[:,keyword_ids][0,:] #Find the coordinates of those words in your biplot.\n",
    "y = components[:,keyword_ids][1,:]"
   ]
  },
  {
   "cell_type": "code",
   "execution_count": 645,
   "metadata": {},
   "outputs": [],
   "source": [
    "colordict = {\n",
    "0: 'red',\n",
    "1: 'green',\n",
    "2: 'blue'}\n",
    "colors = [colordict[c] for c in ldaDF['kmeans_predictions']]"
   ]
  },
  {
   "cell_type": "code",
   "execution_count": 646,
   "metadata": {},
   "outputs": [
    {
     "data": {
      "image/png": "[encoded data removed]",
      "text/plain": [
       "<Figure size 720x432 with 1 Axes>"
      ]
     },
     "metadata": {},
     "output_type": "display_data"
    }
   ],
   "source": [
    "fig = plt.figure(figsize = (10,6))\n",
    "ax = fig.add_subplot(111)\n",
    "ax.set_frame_on(False)\n",
    "plt.scatter(reduced_data[:, 0], reduced_data[:, 1], color = colors, alpha = 0.5)\n",
    "plt.xticks(())\n",
    "plt.yticks(())\n",
    "plt.title('Predicted Clusters\\n k = 3')\n",
    "plt.show()"
   ]
  },
  {
   "cell_type": "markdown",
   "metadata": {},
   "source": [
    "Adding LDA's topics as other input features to kmeans seem to make the cluster more balanced. Before, texts are heavily assigned to 2 clusters while the other cluster is left quite empty. The new clusters seem to contain equal number of texts. This could both bad and good depend on the goal of the analysis."
   ]
  },
  {
   "cell_type": "markdown",
   "metadata": {},
   "source": [
    "\n",
    "\n",
    "## <span style=\"color:red\">*Exercise 4*</span>\n",
    "\n",
    "<span style=\"color:red\">Construct cells immediately below this that use topic models and networks, or dynamic topic models on datasets relevant to your final project. You can also extend the analysis of the COHA or Soap datasets, if relevant to the comparison of data for your projects. (You could possibly use coha_genres dictionary to conduct analysis on topic evolution for a particular genre? What themes do you see evolving throughout these corpora?)"
   ]
  },
  {
   "cell_type": "markdown",
   "metadata": {},
   "source": [
    "## Dynamic Topic Modelling"
   ]
  },
  {
   "cell_type": "code",
   "execution_count": 270,
   "metadata": {},
   "outputs": [],
   "source": [
    "corpora_address = \"COHA\""
   ]
  },
  {
   "cell_type": "code",
   "execution_count": 271,
   "metadata": {},
   "outputs": [
    {
     "name": "stdout",
     "output_type": "stream",
     "text": [
      "text_1810s_kso.zip\n",
      "text_1820s_jsi.zip\n",
      "text_1830s_bsu.zip\n",
      "text_1840s_nsq.zip\n",
      "text_1850s_jpr.zip\n",
      "text_1860s_psi.zip\n",
      "text_1870s_vuy.zip\n",
      "text_1880s_azz.zip\n",
      "text_1890s_jsq.zip\n",
      "text_1900s_mse.zip\n",
      "text_1910s_jue.zip\n",
      "text_1920s_gte.zip\n",
      "text_1930s_bie.zip\n",
      "text_1940s_bsw.zip\n",
      "text_1950s_ndz.zip\n",
      "text_1960s_xus.zip\n",
      "text_1970s_jfy.zip\n",
      "text_1980s_bkk.zip\n",
      "text_1990s_bsj.zip\n",
      "text_2000s_scc.zip\n"
     ]
    }
   ],
   "source": [
    "coha_texts = lucem_illud_2020.loadDavies(corpora_address, return_raw=True)"
   ]
  },
  {
   "cell_type": "markdown",
   "metadata": {},
   "source": [
    "I choose to analyze only non-fiction corpus."
   ]
  },
  {
   "cell_type": "code",
   "execution_count": 476,
   "metadata": {},
   "outputs": [],
   "source": [
    "coha_nf_years = {}"
   ]
  },
  {
   "cell_type": "code",
   "execution_count": 478,
   "metadata": {},
   "outputs": [],
   "source": [
    "for article in coha_texts:\n",
    "    genre, year, id_ = article.split(\"_\")\n",
    "    if genre == \"nf\":\n",
    "        if year not in coha_nf_years:\n",
    "            coha_nf_years[year] = []\n",
    "        if year in coha_nf_years:\n",
    "            coha_nf_years[year].append(coha_texts[article])"
   ]
  },
  {
   "cell_type": "code",
   "execution_count": 479,
   "metadata": {},
   "outputs": [],
   "source": [
    "import collections"
   ]
  },
  {
   "cell_type": "code",
   "execution_count": 480,
   "metadata": {},
   "outputs": [],
   "source": [
    "years = []\n",
    "year_lens = []"
   ]
  },
  {
   "cell_type": "code",
   "execution_count": 481,
   "metadata": {},
   "outputs": [],
   "source": [
    "for year_info in collections.OrderedDict(sorted(coha_nf_years.items())):\n",
    "    years.append(year_info)\n",
    "    year_lens.append(len((coha_nf_years[year_info])))"
   ]
  },
  {
   "cell_type": "code",
   "execution_count": 482,
   "metadata": {},
   "outputs": [
    {
     "data": {
      "text/plain": [
       "('1815', '2009')"
      ]
     },
     "execution_count": 482,
     "metadata": {},
     "output_type": "execute_result"
    }
   ],
   "source": [
    "years[0], years[-1]"
   ]
  },
  {
   "cell_type": "code",
   "execution_count": 483,
   "metadata": {},
   "outputs": [
    {
     "data": {
      "text/plain": [
       "[<matplotlib.lines.Line2D at 0x45ba26850>]"
      ]
     },
     "execution_count": 483,
     "metadata": {},
     "output_type": "execute_result"
    },
    {
     "data": {
      "image/png": "[encoded data removed]",
      "text/plain": [
       "<Figure size 432x288 with 1 Axes>"
      ]
     },
     "metadata": {
      "needs_background": "light"
     },
     "output_type": "display_data"
    }
   ],
   "source": [
    "import matplotlib.pyplot as plt\n",
    "plt.plot(years, year_lens)"
   ]
  },
  {
   "cell_type": "markdown",
   "metadata": {},
   "source": [
    "There aren't that many non-fiction in COHA (in comparison to other genres). The distribution over time seems to be similar to other genres."
   ]
  },
  {
   "cell_type": "code",
   "execution_count": 484,
   "metadata": {},
   "outputs": [],
   "source": [
    "nf_texts_coha = []\n",
    "docs_per_year = [0, 0, 0, 0, 0]\n",
    "i = 0"
   ]
  },
  {
   "cell_type": "markdown",
   "metadata": {},
   "source": [
    "I divide the timeslice into before 1903, 1903 - 1940, 1940 - 1980, 1980 - 2000, and after 2000."
   ]
  },
  {
   "cell_type": "code",
   "execution_count": 485,
   "metadata": {},
   "outputs": [],
   "source": [
    "for year_info in collections.OrderedDict(sorted(coha_nf_years.items())):\n",
    "    large_files = 0\n",
    "    for article in coha_nf_years[year_info]:\n",
    "        try:\n",
    "            if len(article[2]) < 1000000:\n",
    "                fic_texts_coha.append(lucem_illud_2020.normalizeTokens(article[2].decode(\"utf-8\")))\n",
    "            if len(article[2]) >= 1000000:\n",
    "                large_files += 1\n",
    "        except IndexError:\n",
    "            continue\n",
    "    # these numbers are the number of years in the \n",
    "    if i < 103:\n",
    "        docs_per_year[0] += len(coha_nf_years[year_info]) - large_files\n",
    "    elif i >= 103 and i < 140:\n",
    "        docs_per_year[1] += len(coha_nf_years[year_info]) - large_files\n",
    "    elif i >= 140 and i < 180:\n",
    "        docs_per_year[2] += len(coha_nf_years[year_info]) - large_files\n",
    "    elif i >= 180 and i < 200:\n",
    "        docs_per_year[3] += len(coha_nf_years[year_info]) - large_files\n",
    "    elif i >= 200:\n",
    "        docs_per_year[4] += len(coha_nf_years[year_info]) - large_files\n",
    "    i += 1"
   ]
  },
  {
   "cell_type": "code",
   "execution_count": 486,
   "metadata": {},
   "outputs": [
    {
     "data": {
      "text/html": [
       "<div>\n",
       "<style scoped>\n",
       "    .dataframe tbody tr th:only-of-type {\n",
       "        vertical-align: middle;\n",
       "    }\n",
       "\n",
       "    .dataframe tbody tr th {\n",
       "        vertical-align: top;\n",
       "    }\n",
       "\n",
       "    .dataframe thead th {\n",
       "        text-align: right;\n",
       "    }\n",
       "</style>\n",
       "<table border=\"1\" class=\"dataframe\">\n",
       "  <thead>\n",
       "    <tr style=\"text-align: right;\">\n",
       "      <th></th>\n",
       "      <th>0</th>\n",
       "    </tr>\n",
       "  </thead>\n",
       "  <tbody>\n",
       "    <tr>\n",
       "      <td>0</td>\n",
       "      <td>1309</td>\n",
       "    </tr>\n",
       "    <tr>\n",
       "      <td>1</td>\n",
       "      <td>722</td>\n",
       "    </tr>\n",
       "    <tr>\n",
       "      <td>2</td>\n",
       "      <td>1144</td>\n",
       "    </tr>\n",
       "    <tr>\n",
       "      <td>3</td>\n",
       "      <td>2086</td>\n",
       "    </tr>\n",
       "    <tr>\n",
       "      <td>4</td>\n",
       "      <td>0</td>\n",
       "    </tr>\n",
       "  </tbody>\n",
       "</table>\n",
       "</div>"
      ],
      "text/plain": [
       "      0\n",
       "0  1309\n",
       "1   722\n",
       "2  1144\n",
       "3  2086\n",
       "4     0"
      ]
     },
     "execution_count": 486,
     "metadata": {},
     "output_type": "execute_result"
    }
   ],
   "source": [
    "pd.DataFrame(docs_per_year)"
   ]
  },
  {
   "cell_type": "markdown",
   "metadata": {},
   "source": [
    "Since there is no observation in the 4th timeslice, I remove that timeslice away and only use 4 timeslices in total."
   ]
  },
  {
   "cell_type": "code",
   "execution_count": 494,
   "metadata": {},
   "outputs": [],
   "source": [
    "docs_per_year = docs_per_year[:-1]"
   ]
  },
  {
   "cell_type": "markdown",
   "metadata": {},
   "source": [
    "#### Smaller Corpora"
   ]
  },
  {
   "cell_type": "code",
   "execution_count": 505,
   "metadata": {},
   "outputs": [],
   "source": [
    "def choose_n(corpus, time_slices, nums=100):\n",
    "    new_corpus = []\n",
    "    time = 0\n",
    "    for time_slice in time_slices:\n",
    "        new_corpus += corpus[time:time+nums]\n",
    "        time += time_slice\n",
    "    return new_corpus"
   ]
  },
  {
   "cell_type": "code",
   "execution_count": 506,
   "metadata": {},
   "outputs": [],
   "source": [
    "def split_up(document, doc_size=1000):\n",
    "    new_docs = [document[i:i + doc_size] for i in range(0, len(document), doc_size)]\n",
    "    return(new_docs, len(new_docs))"
   ]
  },
  {
   "cell_type": "code",
   "execution_count": 507,
   "metadata": {},
   "outputs": [],
   "source": [
    "small_corpus = choose_n(fic_texts_coha, docs_per_year, nums=50)"
   ]
  },
  {
   "cell_type": "markdown",
   "metadata": {},
   "source": [
    "I only choose 50 texts per timeslice since my laptop is not very fast :("
   ]
  },
  {
   "cell_type": "code",
   "execution_count": 509,
   "metadata": {},
   "outputs": [],
   "source": [
    "final_corpus= []"
   ]
  },
  {
   "cell_type": "code",
   "execution_count": 510,
   "metadata": {},
   "outputs": [],
   "source": [
    "docs_per_time_slice = [0, 0, 0, 0]"
   ]
  },
  {
   "cell_type": "code",
   "execution_count": 511,
   "metadata": {},
   "outputs": [],
   "source": [
    "for i, article in enumerate(small_corpus):\n",
    "    # identify time slice based on article number \n",
    "    if i < 50:\n",
    "        time = 0\n",
    "    elif i > 50 and i <= 100:\n",
    "        time = 1\n",
    "    elif i > 100 and i <= 150:\n",
    "        time = 2\n",
    "    elif i > 150 and i <= 200:\n",
    "        time = 3\n",
    "        \n",
    "    if len(article) > 1000:\n",
    "        split_docs, no_docs = split_up(article)\n",
    "        for doc in split_docs:\n",
    "            final_corpus.append(doc)\n",
    "        docs_per_time_slice[time] += no_docs\n",
    "    else:\n",
    "        final_corpus.append(article)\n",
    "        docs_per_time_slice[time] += 1\n",
    "    # just a check if the counts are correctly added\n",
    "    if np.sum(docs_per_time_slice) != len(final_corpus):\n",
    "        print(np.sum(docs_per_time_slice), len(final_corpus))"
   ]
  },
  {
   "cell_type": "code",
   "execution_count": 513,
   "metadata": {},
   "outputs": [
    {
     "data": {
      "text/plain": [
       "[394, 949, 1024, 733]"
      ]
     },
     "execution_count": 513,
     "metadata": {},
     "output_type": "execute_result"
    }
   ],
   "source": [
    "docs_per_time_slice"
   ]
  },
  {
   "cell_type": "code",
   "execution_count": 514,
   "metadata": {},
   "outputs": [],
   "source": [
    "dictionary = gensim.corpora.Dictionary(final_corpus)"
   ]
  },
  {
   "cell_type": "code",
   "execution_count": 515,
   "metadata": {},
   "outputs": [],
   "source": [
    "corpus = [dictionary.doc2bow(text) for text in final_corpus]"
   ]
  },
  {
   "cell_type": "code",
   "execution_count": 516,
   "metadata": {},
   "outputs": [],
   "source": [
    "gensim.corpora.MmCorpus.serialize('coha.mm', corpus)\n",
    "cohacorpus = gensim.corpora.MmCorpus('coha.mm')"
   ]
  },
  {
   "cell_type": "code",
   "execution_count": 517,
   "metadata": {},
   "outputs": [],
   "source": [
    "from gensim.models import ldaseqmodel"
   ]
  },
  {
   "cell_type": "code",
   "execution_count": 518,
   "metadata": {},
   "outputs": [
    {
     "name": "stderr",
     "output_type": "stream",
     "text": [
      "/Users/wanitchaya.poon/opt/anaconda3/lib/python3.7/site-packages/gensim/models/ldaseqmodel.py:293: RuntimeWarning: divide by zero encountered in double_scalars\n",
      "  convergence = np.fabs((bound - old_bound) / old_bound)\n"
     ]
    }
   ],
   "source": [
    "ldaseq = ldaseqmodel.LdaSeqModel(corpus=corpus, id2word=dictionary, time_slice=docs_per_time_slice, num_topics=4)"
   ]
  },
  {
   "cell_type": "code",
   "execution_count": 519,
   "metadata": {},
   "outputs": [],
   "source": [
    "ldaseq.save(\"ldaseqmodel\")"
   ]
  },
  {
   "cell_type": "code",
   "execution_count": 520,
   "metadata": {},
   "outputs": [],
   "source": [
    "ldaseq = ldaseqmodel.LdaSeqModel.load(\"ldaseqmodel\")"
   ]
  },
  {
   "cell_type": "code",
   "execution_count": 521,
   "metadata": {},
   "outputs": [],
   "source": [
    "df0 = pd.DataFrame()\n",
    "df1 = pd.DataFrame()\n",
    "df2 = pd.DataFrame()\n",
    "df3 = pd.DataFrame()\n",
    "for time in range(4):\n",
    "    df0[time] = pd.Series(ldaseq.dtm_coherence(time)[0])\n",
    "    df1[time] = pd.Series(ldaseq.dtm_coherence(time)[1])\n",
    "    df2[time] = pd.Series(ldaseq.dtm_coherence(time)[2])\n",
    "    df3[time] = pd.Series(ldaseq.dtm_coherence(time)[3])"
   ]
  },
  {
   "cell_type": "markdown",
   "metadata": {},
   "source": [
    "### Topic 0 by timeslice\n",
    "The content of this topic doesn't seem to change much overtime"
   ]
  },
  {
   "cell_type": "code",
   "execution_count": 522,
   "metadata": {},
   "outputs": [
    {
     "data": {
      "text/html": [
       "<div>\n",
       "<style scoped>\n",
       "    .dataframe tbody tr th:only-of-type {\n",
       "        vertical-align: middle;\n",
       "    }\n",
       "\n",
       "    .dataframe tbody tr th {\n",
       "        vertical-align: top;\n",
       "    }\n",
       "\n",
       "    .dataframe thead th {\n",
       "        text-align: right;\n",
       "    }\n",
       "</style>\n",
       "<table border=\"1\" class=\"dataframe\">\n",
       "  <thead>\n",
       "    <tr style=\"text-align: right;\">\n",
       "      <th></th>\n",
       "      <th>0</th>\n",
       "      <th>1</th>\n",
       "      <th>2</th>\n",
       "      <th>3</th>\n",
       "    </tr>\n",
       "  </thead>\n",
       "  <tbody>\n",
       "    <tr>\n",
       "      <td>0</td>\n",
       "      <td>know</td>\n",
       "      <td>know</td>\n",
       "      <td>know</td>\n",
       "      <td>know</td>\n",
       "    </tr>\n",
       "    <tr>\n",
       "      <td>1</td>\n",
       "      <td>say</td>\n",
       "      <td>say</td>\n",
       "      <td>say</td>\n",
       "      <td>say</td>\n",
       "    </tr>\n",
       "    <tr>\n",
       "      <td>2</td>\n",
       "      <td>man</td>\n",
       "      <td>man</td>\n",
       "      <td>man</td>\n",
       "      <td>man</td>\n",
       "    </tr>\n",
       "    <tr>\n",
       "      <td>3</td>\n",
       "      <td>think</td>\n",
       "      <td>think</td>\n",
       "      <td>think</td>\n",
       "      <td>think</td>\n",
       "    </tr>\n",
       "    <tr>\n",
       "      <td>4</td>\n",
       "      <td>come</td>\n",
       "      <td>come</td>\n",
       "      <td>come</td>\n",
       "      <td>like</td>\n",
       "    </tr>\n",
       "    <tr>\n",
       "      <td>5</td>\n",
       "      <td>little</td>\n",
       "      <td>little</td>\n",
       "      <td>like</td>\n",
       "      <td>come</td>\n",
       "    </tr>\n",
       "    <tr>\n",
       "      <td>6</td>\n",
       "      <td>time</td>\n",
       "      <td>time</td>\n",
       "      <td>little</td>\n",
       "      <td>little</td>\n",
       "    </tr>\n",
       "    <tr>\n",
       "      <td>7</td>\n",
       "      <td>look</td>\n",
       "      <td>look</td>\n",
       "      <td>time</td>\n",
       "      <td>time</td>\n",
       "    </tr>\n",
       "    <tr>\n",
       "      <td>8</td>\n",
       "      <td>feel</td>\n",
       "      <td>like</td>\n",
       "      <td>look</td>\n",
       "      <td>look</td>\n",
       "    </tr>\n",
       "    <tr>\n",
       "      <td>9</td>\n",
       "      <td>like</td>\n",
       "      <td>feel</td>\n",
       "      <td>thing</td>\n",
       "      <td>thing</td>\n",
       "    </tr>\n",
       "    <tr>\n",
       "      <td>10</td>\n",
       "      <td>thing</td>\n",
       "      <td>thing</td>\n",
       "      <td>mr</td>\n",
       "      <td>go</td>\n",
       "    </tr>\n",
       "    <tr>\n",
       "      <td>11</td>\n",
       "      <td>mr</td>\n",
       "      <td>mr</td>\n",
       "      <td>go</td>\n",
       "      <td>mr</td>\n",
       "    </tr>\n",
       "    <tr>\n",
       "      <td>12</td>\n",
       "      <td>mrs</td>\n",
       "      <td>go</td>\n",
       "      <td>day</td>\n",
       "      <td>feel</td>\n",
       "    </tr>\n",
       "    <tr>\n",
       "      <td>13</td>\n",
       "      <td>go</td>\n",
       "      <td>day</td>\n",
       "      <td>feel</td>\n",
       "      <td>day</td>\n",
       "    </tr>\n",
       "    <tr>\n",
       "      <td>14</td>\n",
       "      <td>day</td>\n",
       "      <td>life</td>\n",
       "      <td>old</td>\n",
       "      <td>old</td>\n",
       "    </tr>\n",
       "    <tr>\n",
       "      <td>15</td>\n",
       "      <td>life</td>\n",
       "      <td>old</td>\n",
       "      <td>life</td>\n",
       "      <td>long</td>\n",
       "    </tr>\n",
       "    <tr>\n",
       "      <td>16</td>\n",
       "      <td>long</td>\n",
       "      <td>mrs</td>\n",
       "      <td>woman</td>\n",
       "      <td>have</td>\n",
       "    </tr>\n",
       "    <tr>\n",
       "      <td>17</td>\n",
       "      <td>old</td>\n",
       "      <td>long</td>\n",
       "      <td>good</td>\n",
       "      <td>woman</td>\n",
       "    </tr>\n",
       "    <tr>\n",
       "      <td>18</td>\n",
       "      <td>woman</td>\n",
       "      <td>woman</td>\n",
       "      <td>long</td>\n",
       "      <td>good</td>\n",
       "    </tr>\n",
       "    <tr>\n",
       "      <td>19</td>\n",
       "      <td>good</td>\n",
       "      <td>good</td>\n",
       "      <td>tell</td>\n",
       "      <td>tell</td>\n",
       "    </tr>\n",
       "  </tbody>\n",
       "</table>\n",
       "</div>"
      ],
      "text/plain": [
       "         0       1       2       3\n",
       "0     know    know    know    know\n",
       "1      say     say     say     say\n",
       "2      man     man     man     man\n",
       "3    think   think   think   think\n",
       "4     come    come    come    like\n",
       "5   little  little    like    come\n",
       "6     time    time  little  little\n",
       "7     look    look    time    time\n",
       "8     feel    like    look    look\n",
       "9     like    feel   thing   thing\n",
       "10   thing   thing      mr      go\n",
       "11      mr      mr      go      mr\n",
       "12     mrs      go     day    feel\n",
       "13      go     day    feel     day\n",
       "14     day    life     old     old\n",
       "15    life     old    life    long\n",
       "16    long     mrs   woman    have\n",
       "17     old    long    good   woman\n",
       "18   woman   woman    long    good\n",
       "19    good    good    tell    tell"
      ]
     },
     "execution_count": 522,
     "metadata": {},
     "output_type": "execute_result"
    }
   ],
   "source": [
    "df0"
   ]
  },
  {
   "cell_type": "markdown",
   "metadata": {},
   "source": [
    "### Topic 1 by timeslice\n",
    "This topic changes more than topic 0, but still not too much the the content completely change."
   ]
  },
  {
   "cell_type": "code",
   "execution_count": 523,
   "metadata": {},
   "outputs": [
    {
     "data": {
      "text/html": [
       "<div>\n",
       "<style scoped>\n",
       "    .dataframe tbody tr th:only-of-type {\n",
       "        vertical-align: middle;\n",
       "    }\n",
       "\n",
       "    .dataframe tbody tr th {\n",
       "        vertical-align: top;\n",
       "    }\n",
       "\n",
       "    .dataframe thead th {\n",
       "        text-align: right;\n",
       "    }\n",
       "</style>\n",
       "<table border=\"1\" class=\"dataframe\">\n",
       "  <thead>\n",
       "    <tr style=\"text-align: right;\">\n",
       "      <th></th>\n",
       "      <th>0</th>\n",
       "      <th>1</th>\n",
       "      <th>2</th>\n",
       "      <th>3</th>\n",
       "    </tr>\n",
       "  </thead>\n",
       "  <tbody>\n",
       "    <tr>\n",
       "      <td>0</td>\n",
       "      <td>mrs</td>\n",
       "      <td>mrs</td>\n",
       "      <td>mrs</td>\n",
       "      <td>mrs</td>\n",
       "    </tr>\n",
       "    <tr>\n",
       "      <td>1</td>\n",
       "      <td>look</td>\n",
       "      <td>mr</td>\n",
       "      <td>mr</td>\n",
       "      <td>mr</td>\n",
       "    </tr>\n",
       "    <tr>\n",
       "      <td>2</td>\n",
       "      <td>mr</td>\n",
       "      <td>look</td>\n",
       "      <td>come</td>\n",
       "      <td>come</td>\n",
       "    </tr>\n",
       "    <tr>\n",
       "      <td>3</td>\n",
       "      <td>come</td>\n",
       "      <td>come</td>\n",
       "      <td>know</td>\n",
       "      <td>know</td>\n",
       "    </tr>\n",
       "    <tr>\n",
       "      <td>4</td>\n",
       "      <td>oh</td>\n",
       "      <td>know</td>\n",
       "      <td>c.</td>\n",
       "      <td>c.</td>\n",
       "    </tr>\n",
       "    <tr>\n",
       "      <td>5</td>\n",
       "      <td>know</td>\n",
       "      <td>oh</td>\n",
       "      <td>l.</td>\n",
       "      <td>l.</td>\n",
       "    </tr>\n",
       "    <tr>\n",
       "      <td>6</td>\n",
       "      <td>c.</td>\n",
       "      <td>c.</td>\n",
       "      <td>look</td>\n",
       "      <td>sir</td>\n",
       "    </tr>\n",
       "    <tr>\n",
       "      <td>7</td>\n",
       "      <td>l.</td>\n",
       "      <td>l.</td>\n",
       "      <td>sir</td>\n",
       "      <td>go</td>\n",
       "    </tr>\n",
       "    <tr>\n",
       "      <td>8</td>\n",
       "      <td>sir</td>\n",
       "      <td>go</td>\n",
       "      <td>go</td>\n",
       "      <td>yes</td>\n",
       "    </tr>\n",
       "    <tr>\n",
       "      <td>9</td>\n",
       "      <td>de</td>\n",
       "      <td>sir</td>\n",
       "      <td>yes</td>\n",
       "      <td>john</td>\n",
       "    </tr>\n",
       "    <tr>\n",
       "      <td>10</td>\n",
       "      <td>go</td>\n",
       "      <td>yes</td>\n",
       "      <td>oh</td>\n",
       "      <td>ha</td>\n",
       "    </tr>\n",
       "    <tr>\n",
       "      <td>11</td>\n",
       "      <td>ha</td>\n",
       "      <td>ha</td>\n",
       "      <td>ha</td>\n",
       "      <td>r.</td>\n",
       "    </tr>\n",
       "    <tr>\n",
       "      <td>12</td>\n",
       "      <td>yes</td>\n",
       "      <td>r.</td>\n",
       "      <td>de</td>\n",
       "      <td>miss</td>\n",
       "    </tr>\n",
       "    <tr>\n",
       "      <td>13</td>\n",
       "      <td>r.</td>\n",
       "      <td>be</td>\n",
       "      <td>r.</td>\n",
       "      <td>p.</td>\n",
       "    </tr>\n",
       "    <tr>\n",
       "      <td>14</td>\n",
       "      <td>be</td>\n",
       "      <td>miss</td>\n",
       "      <td>miss</td>\n",
       "      <td>de</td>\n",
       "    </tr>\n",
       "    <tr>\n",
       "      <td>15</td>\n",
       "      <td>miss</td>\n",
       "      <td>de</td>\n",
       "      <td>be</td>\n",
       "      <td>dear</td>\n",
       "    </tr>\n",
       "    <tr>\n",
       "      <td>16</td>\n",
       "      <td>john</td>\n",
       "      <td>hand</td>\n",
       "      <td>p.</td>\n",
       "      <td>be</td>\n",
       "    </tr>\n",
       "    <tr>\n",
       "      <td>17</td>\n",
       "      <td>hand</td>\n",
       "      <td>dear</td>\n",
       "      <td>dear</td>\n",
       "      <td>think</td>\n",
       "    </tr>\n",
       "    <tr>\n",
       "      <td>18</td>\n",
       "      <td>dear</td>\n",
       "      <td>john</td>\n",
       "      <td>tell</td>\n",
       "      <td>man</td>\n",
       "    </tr>\n",
       "    <tr>\n",
       "      <td>19</td>\n",
       "      <td>p.</td>\n",
       "      <td>p.</td>\n",
       "      <td>think</td>\n",
       "      <td>tell</td>\n",
       "    </tr>\n",
       "  </tbody>\n",
       "</table>\n",
       "</div>"
      ],
      "text/plain": [
       "       0     1      2      3\n",
       "0    mrs   mrs    mrs    mrs\n",
       "1   look    mr     mr     mr\n",
       "2     mr  look   come   come\n",
       "3   come  come   know   know\n",
       "4     oh  know     c.     c.\n",
       "5   know    oh     l.     l.\n",
       "6     c.    c.   look    sir\n",
       "7     l.    l.    sir     go\n",
       "8    sir    go     go    yes\n",
       "9     de   sir    yes   john\n",
       "10    go   yes     oh     ha\n",
       "11    ha    ha     ha     r.\n",
       "12   yes    r.     de   miss\n",
       "13    r.    be     r.     p.\n",
       "14    be  miss   miss     de\n",
       "15  miss    de     be   dear\n",
       "16  john  hand     p.     be\n",
       "17  hand  dear   dear  think\n",
       "18  dear  john   tell    man\n",
       "19    p.    p.  think   tell"
      ]
     },
     "execution_count": 523,
     "metadata": {},
     "output_type": "execute_result"
    }
   ],
   "source": [
    "df1"
   ]
  },
  {
   "cell_type": "markdown",
   "metadata": {},
   "source": [
    "### Topic 2 by timeslice"
   ]
  },
  {
   "cell_type": "code",
   "execution_count": 524,
   "metadata": {
    "scrolled": true
   },
   "outputs": [
    {
     "data": {
      "text/html": [
       "<div>\n",
       "<style scoped>\n",
       "    .dataframe tbody tr th:only-of-type {\n",
       "        vertical-align: middle;\n",
       "    }\n",
       "\n",
       "    .dataframe tbody tr th {\n",
       "        vertical-align: top;\n",
       "    }\n",
       "\n",
       "    .dataframe thead th {\n",
       "        text-align: right;\n",
       "    }\n",
       "</style>\n",
       "<table border=\"1\" class=\"dataframe\">\n",
       "  <thead>\n",
       "    <tr style=\"text-align: right;\">\n",
       "      <th></th>\n",
       "      <th>0</th>\n",
       "      <th>1</th>\n",
       "      <th>2</th>\n",
       "      <th>3</th>\n",
       "    </tr>\n",
       "  </thead>\n",
       "  <tbody>\n",
       "    <tr>\n",
       "      <td>0</td>\n",
       "      <td>say</td>\n",
       "      <td>say</td>\n",
       "      <td>say</td>\n",
       "      <td>say</td>\n",
       "    </tr>\n",
       "    <tr>\n",
       "      <td>1</td>\n",
       "      <td>go</td>\n",
       "      <td>go</td>\n",
       "      <td>come</td>\n",
       "      <td>go</td>\n",
       "    </tr>\n",
       "    <tr>\n",
       "      <td>2</td>\n",
       "      <td>come</td>\n",
       "      <td>come</td>\n",
       "      <td>go</td>\n",
       "      <td>come</td>\n",
       "    </tr>\n",
       "    <tr>\n",
       "      <td>3</td>\n",
       "      <td>know</td>\n",
       "      <td>know</td>\n",
       "      <td>know</td>\n",
       "      <td>look</td>\n",
       "    </tr>\n",
       "    <tr>\n",
       "      <td>4</td>\n",
       "      <td>look</td>\n",
       "      <td>look</td>\n",
       "      <td>look</td>\n",
       "      <td>know</td>\n",
       "    </tr>\n",
       "    <tr>\n",
       "      <td>5</td>\n",
       "      <td>think</td>\n",
       "      <td>get</td>\n",
       "      <td>like</td>\n",
       "      <td>think</td>\n",
       "    </tr>\n",
       "    <tr>\n",
       "      <td>6</td>\n",
       "      <td>get</td>\n",
       "      <td>man</td>\n",
       "      <td>get</td>\n",
       "      <td>like</td>\n",
       "    </tr>\n",
       "    <tr>\n",
       "      <td>7</td>\n",
       "      <td>man</td>\n",
       "      <td>like</td>\n",
       "      <td>man</td>\n",
       "      <td>get</td>\n",
       "    </tr>\n",
       "    <tr>\n",
       "      <td>8</td>\n",
       "      <td>tell</td>\n",
       "      <td>think</td>\n",
       "      <td>have</td>\n",
       "      <td>man</td>\n",
       "    </tr>\n",
       "    <tr>\n",
       "      <td>9</td>\n",
       "      <td>like</td>\n",
       "      <td>tell</td>\n",
       "      <td>little</td>\n",
       "      <td>tell</td>\n",
       "    </tr>\n",
       "    <tr>\n",
       "      <td>10</td>\n",
       "      <td>time</td>\n",
       "      <td>time</td>\n",
       "      <td>think</td>\n",
       "      <td>time</td>\n",
       "    </tr>\n",
       "    <tr>\n",
       "      <td>11</td>\n",
       "      <td>little</td>\n",
       "      <td>little</td>\n",
       "      <td>time</td>\n",
       "      <td>little</td>\n",
       "    </tr>\n",
       "    <tr>\n",
       "      <td>12</td>\n",
       "      <td>house</td>\n",
       "      <td>have</td>\n",
       "      <td>tell</td>\n",
       "      <td>have</td>\n",
       "    </tr>\n",
       "    <tr>\n",
       "      <td>13</td>\n",
       "      <td>have</td>\n",
       "      <td>hand</td>\n",
       "      <td>hand</td>\n",
       "      <td>want</td>\n",
       "    </tr>\n",
       "    <tr>\n",
       "      <td>14</td>\n",
       "      <td>hand</td>\n",
       "      <td>boy</td>\n",
       "      <td>boy</td>\n",
       "      <td>hand</td>\n",
       "    </tr>\n",
       "    <tr>\n",
       "      <td>15</td>\n",
       "      <td>boy</td>\n",
       "      <td>way</td>\n",
       "      <td>way</td>\n",
       "      <td>boy</td>\n",
       "    </tr>\n",
       "    <tr>\n",
       "      <td>16</td>\n",
       "      <td>way</td>\n",
       "      <td>see</td>\n",
       "      <td>see</td>\n",
       "      <td>way</td>\n",
       "    </tr>\n",
       "    <tr>\n",
       "      <td>17</td>\n",
       "      <td>see</td>\n",
       "      <td>house</td>\n",
       "      <td>old</td>\n",
       "      <td>see</td>\n",
       "    </tr>\n",
       "    <tr>\n",
       "      <td>18</td>\n",
       "      <td>old</td>\n",
       "      <td>old</td>\n",
       "      <td>right</td>\n",
       "      <td>old</td>\n",
       "    </tr>\n",
       "    <tr>\n",
       "      <td>19</td>\n",
       "      <td>room</td>\n",
       "      <td>right</td>\n",
       "      <td>want</td>\n",
       "      <td>right</td>\n",
       "    </tr>\n",
       "  </tbody>\n",
       "</table>\n",
       "</div>"
      ],
      "text/plain": [
       "         0       1       2       3\n",
       "0      say     say     say     say\n",
       "1       go      go    come      go\n",
       "2     come    come      go    come\n",
       "3     know    know    know    look\n",
       "4     look    look    look    know\n",
       "5    think     get    like   think\n",
       "6      get     man     get    like\n",
       "7      man    like     man     get\n",
       "8     tell   think    have     man\n",
       "9     like    tell  little    tell\n",
       "10    time    time   think    time\n",
       "11  little  little    time  little\n",
       "12   house    have    tell    have\n",
       "13    have    hand    hand    want\n",
       "14    hand     boy     boy    hand\n",
       "15     boy     way     way     boy\n",
       "16     way     see     see     way\n",
       "17     see   house     old     see\n",
       "18     old     old   right     old\n",
       "19    room   right    want   right"
      ]
     },
     "execution_count": 524,
     "metadata": {},
     "output_type": "execute_result"
    }
   ],
   "source": [
    "df2"
   ]
  },
  {
   "cell_type": "markdown",
   "metadata": {},
   "source": [
    "### Topic 3 by timeslice\n",
    "This topic seems to be about love <3"
   ]
  },
  {
   "cell_type": "code",
   "execution_count": 525,
   "metadata": {},
   "outputs": [
    {
     "data": {
      "text/html": [
       "<div>\n",
       "<style scoped>\n",
       "    .dataframe tbody tr th:only-of-type {\n",
       "        vertical-align: middle;\n",
       "    }\n",
       "\n",
       "    .dataframe tbody tr th {\n",
       "        vertical-align: top;\n",
       "    }\n",
       "\n",
       "    .dataframe thead th {\n",
       "        text-align: right;\n",
       "    }\n",
       "</style>\n",
       "<table border=\"1\" class=\"dataframe\">\n",
       "  <thead>\n",
       "    <tr style=\"text-align: right;\">\n",
       "      <th></th>\n",
       "      <th>0</th>\n",
       "      <th>1</th>\n",
       "      <th>2</th>\n",
       "      <th>3</th>\n",
       "    </tr>\n",
       "  </thead>\n",
       "  <tbody>\n",
       "    <tr>\n",
       "      <td>0</td>\n",
       "      <td>come</td>\n",
       "      <td>come</td>\n",
       "      <td>come</td>\n",
       "      <td>come</td>\n",
       "    </tr>\n",
       "    <tr>\n",
       "      <td>1</td>\n",
       "      <td>love</td>\n",
       "      <td>love</td>\n",
       "      <td>love</td>\n",
       "      <td>love</td>\n",
       "    </tr>\n",
       "    <tr>\n",
       "      <td>2</td>\n",
       "      <td>shall</td>\n",
       "      <td>shall</td>\n",
       "      <td>shall</td>\n",
       "      <td>shall</td>\n",
       "    </tr>\n",
       "    <tr>\n",
       "      <td>3</td>\n",
       "      <td>heart</td>\n",
       "      <td>heart</td>\n",
       "      <td>man</td>\n",
       "      <td>man</td>\n",
       "    </tr>\n",
       "    <tr>\n",
       "      <td>4</td>\n",
       "      <td>thy</td>\n",
       "      <td>like</td>\n",
       "      <td>thy</td>\n",
       "      <td>thy</td>\n",
       "    </tr>\n",
       "    <tr>\n",
       "      <td>5</td>\n",
       "      <td>man</td>\n",
       "      <td>man</td>\n",
       "      <td>know</td>\n",
       "      <td>know</td>\n",
       "    </tr>\n",
       "    <tr>\n",
       "      <td>6</td>\n",
       "      <td>you</td>\n",
       "      <td>thy</td>\n",
       "      <td>heart</td>\n",
       "      <td>heart</td>\n",
       "    </tr>\n",
       "    <tr>\n",
       "      <td>7</td>\n",
       "      <td>sir</td>\n",
       "      <td>know</td>\n",
       "      <td>like</td>\n",
       "      <td>o</td>\n",
       "    </tr>\n",
       "    <tr>\n",
       "      <td>8</td>\n",
       "      <td>like</td>\n",
       "      <td>o</td>\n",
       "      <td>o</td>\n",
       "      <td>like</td>\n",
       "    </tr>\n",
       "    <tr>\n",
       "      <td>9</td>\n",
       "      <td>know</td>\n",
       "      <td>thou</td>\n",
       "      <td>thou</td>\n",
       "      <td>thou</td>\n",
       "    </tr>\n",
       "    <tr>\n",
       "      <td>10</td>\n",
       "      <td>thou</td>\n",
       "      <td>oh</td>\n",
       "      <td>hand</td>\n",
       "      <td>hand</td>\n",
       "    </tr>\n",
       "    <tr>\n",
       "      <td>11</td>\n",
       "      <td>o</td>\n",
       "      <td>hand</td>\n",
       "      <td>oh</td>\n",
       "      <td>t</td>\n",
       "    </tr>\n",
       "    <tr>\n",
       "      <td>12</td>\n",
       "      <td>father</td>\n",
       "      <td>t</td>\n",
       "      <td>t</td>\n",
       "      <td>oh</td>\n",
       "    </tr>\n",
       "    <tr>\n",
       "      <td>13</td>\n",
       "      <td>t</td>\n",
       "      <td>think</td>\n",
       "      <td>let</td>\n",
       "      <td>let</td>\n",
       "    </tr>\n",
       "    <tr>\n",
       "      <td>14</td>\n",
       "      <td>hand</td>\n",
       "      <td>let</td>\n",
       "      <td>hear</td>\n",
       "      <td>day</td>\n",
       "    </tr>\n",
       "    <tr>\n",
       "      <td>15</td>\n",
       "      <td>lord</td>\n",
       "      <td>hear</td>\n",
       "      <td>eye</td>\n",
       "      <td>eye</td>\n",
       "    </tr>\n",
       "    <tr>\n",
       "      <td>16</td>\n",
       "      <td>let</td>\n",
       "      <td>eye</td>\n",
       "      <td>think</td>\n",
       "      <td>hear</td>\n",
       "    </tr>\n",
       "    <tr>\n",
       "      <td>17</td>\n",
       "      <td>enter</td>\n",
       "      <td>day</td>\n",
       "      <td>day</td>\n",
       "      <td>life</td>\n",
       "    </tr>\n",
       "    <tr>\n",
       "      <td>18</td>\n",
       "      <td>hear</td>\n",
       "      <td>life</td>\n",
       "      <td>life</td>\n",
       "      <td>think</td>\n",
       "    </tr>\n",
       "    <tr>\n",
       "      <td>19</td>\n",
       "      <td>eye</td>\n",
       "      <td>enter</td>\n",
       "      <td>enter</td>\n",
       "      <td>leave</td>\n",
       "    </tr>\n",
       "  </tbody>\n",
       "</table>\n",
       "</div>"
      ],
      "text/plain": [
       "         0      1      2      3\n",
       "0     come   come   come   come\n",
       "1     love   love   love   love\n",
       "2    shall  shall  shall  shall\n",
       "3    heart  heart    man    man\n",
       "4      thy   like    thy    thy\n",
       "5      man    man   know   know\n",
       "6      you    thy  heart  heart\n",
       "7      sir   know   like      o\n",
       "8     like      o      o   like\n",
       "9     know   thou   thou   thou\n",
       "10    thou     oh   hand   hand\n",
       "11       o   hand     oh      t\n",
       "12  father      t      t     oh\n",
       "13       t  think    let    let\n",
       "14    hand    let   hear    day\n",
       "15    lord   hear    eye    eye\n",
       "16     let    eye  think   hear\n",
       "17   enter    day    day   life\n",
       "18    hear   life   life  think\n",
       "19     eye  enter  enter  leave"
      ]
     },
     "execution_count": 525,
     "metadata": {},
     "output_type": "execute_result"
    }
   ],
   "source": [
    "df3"
   ]
  },
  {
   "cell_type": "code",
   "execution_count": 550,
   "metadata": {},
   "outputs": [],
   "source": [
    "vis = ldaseq.dtm_vis(time=0,corpus=corpus)[0]"
   ]
  },
  {
   "cell_type": "code",
   "execution_count": 569,
   "metadata": {},
   "outputs": [],
   "source": [
    "vis_df = pd.DataFrame()\n",
    "i = 0\n",
    "for timeslice in range(4):\n",
    "    new = pd.DataFrame(vis[i:i+docs_per_time_slice[timeslice]].mean(axis = 0))\n",
    "    new['timeslice'] = timeslice\n",
    "    vis_df = vis_df.append(new)\n",
    "    i += docs_per_time_slice[timeslice]\n",
    "    \n",
    "vis_df['topic'] = vis_df.index\n",
    "vis_df['percent'] = vis_df[0]"
   ]
  },
  {
   "cell_type": "code",
   "execution_count": 571,
   "metadata": {},
   "outputs": [
    {
     "data": {
      "text/plain": [
       "<matplotlib.axes._subplots.AxesSubplot at 0x343aeb290>"
      ]
     },
     "execution_count": 571,
     "metadata": {},
     "output_type": "execute_result"
    },
    {
     "data": {
      "image/png": "[encoded data removed]",
      "text/plain": [
       "<Figure size 432x288 with 1 Axes>"
      ]
     },
     "metadata": {
      "needs_background": "light"
     },
     "output_type": "display_data"
    }
   ],
   "source": [
    "sns.pointplot(data = vis_df, x = 'timeslice', y = \"percent\", hue = 'topic')"
   ]
  },
  {
   "cell_type": "markdown",
   "metadata": {},
   "source": [
    "From the plot, seems like before 1903, most non-fictions are about topic 3, which seems to be about love. However, topic about love went down throughout the years and became almost none by 1980. Topic 1 seems to be consistently not popular, but still persist through time. Topic 2 rises over time."
   ]
  },
  {
   "cell_type": "code",
   "execution_count": null,
   "metadata": {},
   "outputs": [],
   "source": []
  }
 ],
 "metadata": {
  "anaconda-cloud": {},
  "kernelspec": {
   "display_name": "Python 3",
   "language": "python",
   "name": "python3"
  },
  "language_info": {
   "codemirror_mode": {
    "name": "ipython",
    "version": 3
   },
   "file_extension": ".py",
   "mimetype": "text/x-python",
   "name": "python",
   "nbconvert_exporter": "python",
   "pygments_lexer": "ipython3",
   "version": "3.7.4"
  }
 },
 "nbformat": 4,
 "nbformat_minor": 1
}
