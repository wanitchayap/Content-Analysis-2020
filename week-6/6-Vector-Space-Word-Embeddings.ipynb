{
 "cells": [
  {
   "cell_type": "markdown",
   "metadata": {},
   "source": [
    "# Week 6 - Vector Space Word Embeddings\n",
    "\n",
    "Wanitchaya Poonpatanapricha"
   ]
  },
  {
   "cell_type": "code",
   "execution_count": 1,
   "metadata": {},
   "outputs": [],
   "source": [
    "#All these packages need to be installed from pip\n",
    "import gensim#For word2vec, etc\n",
    "import requests #For downloading our datasets\n",
    "import lucem_illud_2020\n",
    "\n",
    "import numpy as np #For arrays\n",
    "import pandas #Gives us DataFrames\n",
    "import matplotlib.pyplot as plt #For graphics\n",
    "import seaborn #Makes the graphics look nicer\n",
    "import sklearn.metrics.pairwise #For cosine similarity\n",
    "import sklearn.manifold #For T-SNE\n",
    "import sklearn.decomposition #For PCA\n",
    "\n",
    "#This 'magic' command makes the plots work better\n",
    "#in the notebook, don't use it outside of a notebook.\n",
    "#Also you can ignore the warning\n",
    "%matplotlib inline\n",
    "\n",
    "import os #For looking through files\n",
    "import os.path #For managing file paths"
   ]
  },
  {
   "cell_type": "markdown",
   "metadata": {},
   "source": [
    "## <span style=\"color:red\">*Exercise 1*</span>\n",
    "\n",
    "<span style=\"color:red\">Construct cells immediately below this that embed documents related to your final project using at least two different specification of `word2vec`, and visualize them each with two separate visualization layout specifications (e.g., TSNE, PCA). Then interrogate critical word vectors within your corpus in terms of the most similar words, analogies, and other additions and subtractions that reveal the structure of similarity and difference within your semantic space. What does this pattern reveal about the semantic organization of words in your corpora? Which estimation and visualization specification generate the most insight and appear the most robustly supported and why? \n",
    "\n",
    "<span style=\"color:red\">***Stretch***: Explore different vector calculations beyond addition and subtraction, such as multiplication, division or some other function. What does this exploration reveal about the semantic structure of your corpus?"
   ]
  },
  {
   "cell_type": "code",
   "execution_count": 5,
   "metadata": {},
   "outputs": [],
   "source": [
    "import pandas as pd"
   ]
  },
  {
   "cell_type": "code",
   "execution_count": 364,
   "metadata": {},
   "outputs": [],
   "source": [
    "def combine_emoji(text, lst):\n",
    "    lst = lst[1:-1].split(', ')\n",
    "    for emoji in lst:\n",
    "        if emoji != '':\n",
    "            text += \" \" + \"emoji_\" + \"_\".join(emoji[1:-1].split())\n",
    "    return text"
   ]
  },
  {
   "cell_type": "code",
   "execution_count": 365,
   "metadata": {},
   "outputs": [
    {
     "data": {
      "text/html": [
       "<div>\n",
       "<style scoped>\n",
       "    .dataframe tbody tr th:only-of-type {\n",
       "        vertical-align: middle;\n",
       "    }\n",
       "\n",
       "    .dataframe tbody tr th {\n",
       "        vertical-align: top;\n",
       "    }\n",
       "\n",
       "    .dataframe thead th {\n",
       "        text-align: right;\n",
       "    }\n",
       "</style>\n",
       "<table border=\"1\" class=\"dataframe\">\n",
       "  <thead>\n",
       "    <tr style=\"text-align: right;\">\n",
       "      <th></th>\n",
       "      <th>Unnamed: 0</th>\n",
       "      <th>language</th>\n",
       "      <th>emoji</th>\n",
       "      <th>text</th>\n",
       "      <th>is_emoji</th>\n",
       "      <th>num_emoji</th>\n",
       "      <th>polite_5</th>\n",
       "      <th>full_text</th>\n",
       "    </tr>\n",
       "  </thead>\n",
       "  <tbody>\n",
       "    <tr>\n",
       "      <td>0</td>\n",
       "      <td>0</td>\n",
       "      <td>en</td>\n",
       "      <td>[]</td>\n",
       "      <td>i still have tons of moonpies and halloween fo...</td>\n",
       "      <td>False</td>\n",
       "      <td>0</td>\n",
       "      <td>2</td>\n",
       "      <td>i still have tons of moonpies and halloween fo...</td>\n",
       "    </tr>\n",
       "    <tr>\n",
       "      <td>1</td>\n",
       "      <td>1</td>\n",
       "      <td>en</td>\n",
       "      <td>[]</td>\n",
       "      <td>i go to the forest to see how much i have beca...</td>\n",
       "      <td>False</td>\n",
       "      <td>0</td>\n",
       "      <td>2</td>\n",
       "      <td>i go to the forest to see how much i have beca...</td>\n",
       "    </tr>\n",
       "    <tr>\n",
       "      <td>2</td>\n",
       "      <td>2</td>\n",
       "      <td>cn</td>\n",
       "      <td>[]</td>\n",
       "      <td>hahahaha</td>\n",
       "      <td>False</td>\n",
       "      <td>0</td>\n",
       "      <td>4</td>\n",
       "      <td>hahahaha</td>\n",
       "    </tr>\n",
       "    <tr>\n",
       "      <td>3</td>\n",
       "      <td>3</td>\n",
       "      <td>es</td>\n",
       "      <td>[]</td>\n",
       "      <td>hahahaha</td>\n",
       "      <td>False</td>\n",
       "      <td>0</td>\n",
       "      <td>4</td>\n",
       "      <td>hahahaha</td>\n",
       "    </tr>\n",
       "    <tr>\n",
       "      <td>4</td>\n",
       "      <td>4</td>\n",
       "      <td>pt</td>\n",
       "      <td>[]</td>\n",
       "      <td>hahahaha</td>\n",
       "      <td>False</td>\n",
       "      <td>0</td>\n",
       "      <td>4</td>\n",
       "      <td>hahahaha</td>\n",
       "    </tr>\n",
       "    <tr>\n",
       "      <td>...</td>\n",
       "      <td>...</td>\n",
       "      <td>...</td>\n",
       "      <td>...</td>\n",
       "      <td>...</td>\n",
       "      <td>...</td>\n",
       "      <td>...</td>\n",
       "      <td>...</td>\n",
       "      <td>...</td>\n",
       "    </tr>\n",
       "    <tr>\n",
       "      <td>4482</td>\n",
       "      <td>4859</td>\n",
       "      <td>en</td>\n",
       "      <td>[]</td>\n",
       "      <td>Tsuki fishing up the mayor's dead grandaughter...</td>\n",
       "      <td>False</td>\n",
       "      <td>0</td>\n",
       "      <td>0</td>\n",
       "      <td>Tsuki fishing up the mayor's dead grandaughter...</td>\n",
       "    </tr>\n",
       "    <tr>\n",
       "      <td>4483</td>\n",
       "      <td>4860</td>\n",
       "      <td>ph</td>\n",
       "      <td>[]</td>\n",
       "      <td>-tsuki’s festive scarf/holiday scarf</td>\n",
       "      <td>False</td>\n",
       "      <td>0</td>\n",
       "      <td>2</td>\n",
       "      <td>-tsuki’s festive scarf/holiday scarf</td>\n",
       "    </tr>\n",
       "    <tr>\n",
       "      <td>4484</td>\n",
       "      <td>4861</td>\n",
       "      <td>ph</td>\n",
       "      <td>['HEAVY BLACK HEART']</td>\n",
       "      <td>-snowball fight w friends -snowman making duri...</td>\n",
       "      <td>True</td>\n",
       "      <td>1</td>\n",
       "      <td>1</td>\n",
       "      <td>-snowball fight w friends -snowman making duri...</td>\n",
       "    </tr>\n",
       "    <tr>\n",
       "      <td>4485</td>\n",
       "      <td>4862</td>\n",
       "      <td>en</td>\n",
       "      <td>['mocahype']</td>\n",
       "      <td>&lt;user_mention&gt; it worked! Thanks again!</td>\n",
       "      <td>True</td>\n",
       "      <td>1</td>\n",
       "      <td>4</td>\n",
       "      <td>&lt;user_mention&gt; it worked! Thanks again!  emoji...</td>\n",
       "    </tr>\n",
       "    <tr>\n",
       "      <td>4486</td>\n",
       "      <td>4863</td>\n",
       "      <td>en</td>\n",
       "      <td>['yaycarrots']</td>\n",
       "      <td>Oh wow thank you! I’ll try now!</td>\n",
       "      <td>True</td>\n",
       "      <td>1</td>\n",
       "      <td>4</td>\n",
       "      <td>Oh wow thank you! I’ll try now!  emoji_yaycarrots</td>\n",
       "    </tr>\n",
       "  </tbody>\n",
       "</table>\n",
       "<p>4487 rows × 8 columns</p>\n",
       "</div>"
      ],
      "text/plain": [
       "      Unnamed: 0 language                  emoji  \\\n",
       "0              0       en                     []   \n",
       "1              1       en                     []   \n",
       "2              2       cn                     []   \n",
       "3              3       es                     []   \n",
       "4              4       pt                     []   \n",
       "...          ...      ...                    ...   \n",
       "4482        4859       en                     []   \n",
       "4483        4860       ph                     []   \n",
       "4484        4861       ph  ['HEAVY BLACK HEART']   \n",
       "4485        4862       en           ['mocahype']   \n",
       "4486        4863       en         ['yaycarrots']   \n",
       "\n",
       "                                                   text  is_emoji  num_emoji  \\\n",
       "0     i still have tons of moonpies and halloween fo...     False          0   \n",
       "1     i go to the forest to see how much i have beca...     False          0   \n",
       "2                                             hahahaha      False          0   \n",
       "3                                             hahahaha      False          0   \n",
       "4                                             hahahaha      False          0   \n",
       "...                                                 ...       ...        ...   \n",
       "4482  Tsuki fishing up the mayor's dead grandaughter...     False          0   \n",
       "4483              -tsuki’s festive scarf/holiday scarf      False          0   \n",
       "4484  -snowball fight w friends -snowman making duri...      True          1   \n",
       "4485           <user_mention> it worked! Thanks again!       True          1   \n",
       "4486                   Oh wow thank you! I’ll try now!       True          1   \n",
       "\n",
       "      polite_5                                          full_text  \n",
       "0            2  i still have tons of moonpies and halloween fo...  \n",
       "1            2  i go to the forest to see how much i have beca...  \n",
       "2            4                                          hahahaha   \n",
       "3            4                                          hahahaha   \n",
       "4            4                                          hahahaha   \n",
       "...        ...                                                ...  \n",
       "4482         0  Tsuki fishing up the mayor's dead grandaughter...  \n",
       "4483         2              -tsuki’s festive scarf/holiday scarf   \n",
       "4484         1  -snowball fight w friends -snowman making duri...  \n",
       "4485         4  <user_mention> it worked! Thanks again!  emoji...  \n",
       "4486         4  Oh wow thank you! I’ll try now!  emoji_yaycarrots  \n",
       "\n",
       "[4487 rows x 8 columns]"
      ]
     },
     "execution_count": 365,
     "metadata": {},
     "output_type": "execute_result"
    }
   ],
   "source": [
    "tsuki = pd.read_csv(\"tsuki_polite5.csv\")\n",
    "tsuki['full_text'] = tsuki.apply(lambda x: combine_emoji(x.text, x.emoji), axis=1)\n",
    "tsuki"
   ]
  },
  {
   "cell_type": "code",
   "execution_count": 366,
   "metadata": {},
   "outputs": [],
   "source": [
    "#Apply our functions, notice each row is a list of lists now\n",
    "tsuki['tokenized_sents'] = tsuki['full_text'].apply(lambda x: [lucem_illud_2020.word_tokenize(s) for s in lucem_illud_2020.sent_tokenize(x)])\n",
    "tsuki['normalized_sents'] = tsuki['tokenized_sents'].apply(lambda x: [lucem_illud_2020.normalizeTokens(s, lemma=False) for s in x])"
   ]
  },
  {
   "cell_type": "markdown",
   "metadata": {},
   "source": [
    "# Word2Vec"
   ]
  },
  {
   "cell_type": "code",
   "execution_count": 368,
   "metadata": {},
   "outputs": [],
   "source": [
    "tsukiW2V = gensim.models.word2vec.Word2Vec(tsuki['normalized_sents'].sum())"
   ]
  },
  {
   "cell_type": "code",
   "execution_count": 728,
   "metadata": {},
   "outputs": [
    {
     "data": {
      "text/plain": [
       "883"
      ]
     },
     "execution_count": 728,
     "metadata": {},
     "output_type": "execute_result"
    }
   ],
   "source": [
    "len(tsukiW2V.wv.index2word)"
   ]
  },
  {
   "cell_type": "markdown",
   "metadata": {},
   "source": [
    "The total number of unique words is my corpus is **extremely small**! So I don't think I can expect much from this embedding model :( However, it is still fun to try it out."
   ]
  },
  {
   "cell_type": "markdown",
   "metadata": {},
   "source": [
    "## similar words"
   ]
  },
  {
   "cell_type": "code",
   "execution_count": 369,
   "metadata": {},
   "outputs": [
    {
     "data": {
      "text/plain": [
       "[('need', 0.9995445013046265),\n",
       " ('game', 0.9994903206825256),\n",
       " ('like', 0.9994398951530457),\n",
       " ('buy', 0.9994387030601501),\n",
       " ('gift', 0.9994063973426819),\n",
       " ('m', 0.9993833899497986),\n",
       " ('time', 0.9993781447410583),\n",
       " ('u', 0.9993780851364136),\n",
       " ('nt', 0.9993592500686646),\n",
       " ('forest', 0.9993271231651306)]"
      ]
     },
     "execution_count": 369,
     "metadata": {},
     "output_type": "execute_result"
    }
   ],
   "source": [
    "tsukiW2V.most_similar('tsuki')"
   ]
  },
  {
   "cell_type": "markdown",
   "metadata": {},
   "source": [
    "If we had bigger corpus, we probably see `tsuki` closer to other characters' names (`tsuki` is the name of the main character). However, we still kind of see that it is closer to `game`."
   ]
  },
  {
   "cell_type": "code",
   "execution_count": 370,
   "metadata": {},
   "outputs": [
    {
     "data": {
      "text/plain": [
       "[('buy', 0.9643827080726624),\n",
       " ('option', 0.9641475081443787),\n",
       " ('know', 0.9641439914703369),\n",
       " ('long', 0.9637794494628906),\n",
       " ('think', 0.9637621641159058),\n",
       " ('items', 0.9636520743370056),\n",
       " ('luck', 0.9634677767753601),\n",
       " ('hours', 0.9633471965789795),\n",
       " ('times', 0.9632368087768555),\n",
       " ('day', 0.963173508644104)]"
      ]
     },
     "execution_count": 370,
     "metadata": {},
     "output_type": "execute_result"
    }
   ],
   "source": [
    "tsukiW2V.most_similar('emoji_yaycarrots')"
   ]
  },
  {
   "cell_type": "markdown",
   "metadata": {},
   "source": [
    "This is actually pretty good! `carrots` is the currency in this game. So seeing that the most similar word is `buy` is encouraging."
   ]
  },
  {
   "cell_type": "code",
   "execution_count": 371,
   "metadata": {},
   "outputs": [
    {
     "data": {
      "text/plain": [
       "[('confused', 0.18283337354660034),\n",
       " ('nvm', 0.1689523160457611),\n",
       " ('emoji_pepeexcited', 0.1574982851743698),\n",
       " ('dad', 0.1427084058523178),\n",
       " ('wonder', 0.1411529779434204),\n",
       " ('emoji_smiling_face_with_open_mouth_and_tightly', 0.13933250308036804),\n",
       " ('awesome', 0.1279294192790985),\n",
       " ('woah', 0.12636451423168182),\n",
       " ('dog', 0.12431782484054565),\n",
       " ('slowly', 0.1222057044506073)]"
      ]
     },
     "execution_count": 371,
     "metadata": {},
     "output_type": "execute_result"
    }
   ],
   "source": [
    "tsukiW2V.most_similar('emoji_thinking_face')"
   ]
  },
  {
   "cell_type": "markdown",
   "metadata": {},
   "source": [
    "The result for `emoji_thinking_face` is pretty good too. You can see that many close terms are emotion related (`confused`, `wonder`, `woah`). Also, it captures some face and emotion emoji! (`emoji_pepeexcited`, `emoji_smiling_face_with_open_mouth_and_tightly`)"
   ]
  },
  {
   "cell_type": "code",
   "execution_count": 372,
   "metadata": {},
   "outputs": [
    {
     "data": {
      "text/plain": [
       "'emoji_thinking_face'"
      ]
     },
     "execution_count": 372,
     "metadata": {},
     "output_type": "execute_result"
    }
   ],
   "source": [
    "tsukiW2V.doesnt_match(['emoji_yaycarrot', 'emoji_mocahype', 'emoji_thinking_face',\n",
    "                      'emoji_sparkling_heart', 'emoji_smiling_face_with_smiling_eyes'])"
   ]
  },
  {
   "cell_type": "markdown",
   "metadata": {},
   "source": [
    "I guess it can kind of capture that `emoji_thinking_face` is related to more serious content than the rest of emoji."
   ]
  },
  {
   "cell_type": "code",
   "execution_count": 374,
   "metadata": {},
   "outputs": [
    {
     "data": {
      "text/plain": [
       "'mori'"
      ]
     },
     "execution_count": 374,
     "metadata": {},
     "output_type": "execute_result"
    }
   ],
   "source": [
    "tsukiW2V.doesnt_match(['tsuki', 'chi', 'moca', 'pipi', 'yori', 'bobo', 'dawn', 'mori', 'momo'])"
   ]
  },
  {
   "cell_type": "markdown",
   "metadata": {},
   "source": [
    "Above are the name of several characters. `mori` is the very old turtle. So I guess we can see she is kind of different from the rest."
   ]
  },
  {
   "cell_type": "markdown",
   "metadata": {},
   "source": [
    "## analogy"
   ]
  },
  {
   "cell_type": "code",
   "execution_count": 375,
   "metadata": {},
   "outputs": [
    {
     "data": {
      "text/plain": [
       "[('left', 0.9942869544029236),\n",
       " ('forest', 0.9939718246459961),\n",
       " ('going', 0.9939194917678833),\n",
       " ('red', 0.9938446879386902),\n",
       " ('gift', 0.9938445091247559),\n",
       " ('yukiyama', 0.9938281178474426),\n",
       " ('said', 0.9938153028488159),\n",
       " ('able', 0.9937303066253662),\n",
       " ('buy', 0.9937291145324707),\n",
       " ('present', 0.9937232732772827)]"
      ]
     },
     "execution_count": 375,
     "metadata": {},
     "output_type": "execute_result"
    }
   ],
   "source": [
    "tsukiW2V.most_similar(positive=['mushroom','ed'], negative=['tsuki'])"
   ]
  },
  {
   "cell_type": "markdown",
   "metadata": {},
   "source": [
    "Above, Tsuki lives in Mushroom Village while Ed lives in the Forest. We can see that `mushroom` + `ed` - `tsuki` = `forest` in the second closest terms. Given the size of the corpus, this is pretty good."
   ]
  },
  {
   "cell_type": "code",
   "execution_count": 378,
   "metadata": {},
   "outputs": [
    {
     "data": {
      "text/plain": [
       "[('players', 0.8776834011077881),\n",
       " ('reached', 0.8763934969902039),\n",
       " ('saw', 0.8714412450790405),\n",
       " ('channel', 0.8714146614074707),\n",
       " ('graveyard', 0.8711012601852417),\n",
       " ('tsukiadventure', 0.8707184791564941),\n",
       " ('club', 0.8702371120452881),\n",
       " ('asks', 0.8701411485671997),\n",
       " ('cave', 0.8699749708175659),\n",
       " ('floor', 0.8697935938835144)]"
      ]
     },
     "execution_count": 378,
     "metadata": {},
     "output_type": "execute_result"
    }
   ],
   "source": [
    "tsukiW2V.most_similar(positive=['pipi','old'], negative=['young'])"
   ]
  },
  {
   "cell_type": "markdown",
   "metadata": {},
   "source": [
    "I expect `pipi` (the youngest character) - `young` + `old` to be some older character, especially `yori` which is Pipi's dad. However, this doesn't work as well as the location analogy above. Probably because the size of the corpus. However, the 5th most similar term is `graveyard` which has Pipi's late mother. So maybe it does capture a bit of this analogy?"
   ]
  },
  {
   "cell_type": "code",
   "execution_count": 379,
   "metadata": {},
   "outputs": [
    {
     "data": {
      "text/plain": [
       "[('present', 0.9922012686729431),\n",
       " ('kubo', 0.9917168617248535),\n",
       " ('got', 0.9915693998336792),\n",
       " ('mushroom', 0.9914295077323914),\n",
       " ('work', 0.9913449883460999),\n",
       " ('moca', 0.9913027882575989),\n",
       " ('gifts', 0.9912925958633423),\n",
       " ('event', 0.991289496421814),\n",
       " ('game', 0.9911245107650757),\n",
       " ('gift', 0.9911230206489563)]"
      ]
     },
     "execution_count": 379,
     "metadata": {},
     "output_type": "execute_result"
    }
   ],
   "source": [
    "tsukiW2V.most_similar(positive=['ken', 'good'], negative=['bad'])"
   ]
  },
  {
   "cell_type": "markdown",
   "metadata": {},
   "source": [
    "`ken` is a bit of a mafia, while `kubo` is a monk. No wonder `ken` + `good` - `bad` = `kubo`!"
   ]
  },
  {
   "cell_type": "code",
   "execution_count": 380,
   "metadata": {},
   "outputs": [
    {
     "data": {
      "text/plain": [
       "[('confused', 0.2276395708322525),\n",
       " ('nvm', 0.16106319427490234),\n",
       " ('dad', 0.1583559364080429),\n",
       " ('emoji_smiling_face_with_open_mouth_and_tightly', 0.15323537588119507),\n",
       " ('woah', 0.1502571702003479),\n",
       " ('awesome', 0.1472925841808319),\n",
       " ('wondering', 0.1448744833469391),\n",
       " ('wonder', 0.14483961462974548),\n",
       " ('dog', 0.13926441967487335),\n",
       " ('cases', 0.1366928070783615)]"
      ]
     },
     "execution_count": 380,
     "metadata": {},
     "output_type": "execute_result"
    }
   ],
   "source": [
    "tsukiW2V.most_similar(positive=['emoji_thinking_face', 'happy'], negative=['sad'])"
   ]
  },
  {
   "cell_type": "markdown",
   "metadata": {},
   "source": [
    "I am surprised that `emoji_thinking_face` + `happy` - `sad` = `emoji_smiling_face_with_open_mouth_and_tightly` as the 4th most similar! Not bad at all giving my corpus size :)"
   ]
  },
  {
   "cell_type": "markdown",
   "metadata": {},
   "source": [
    "## Plot"
   ]
  },
  {
   "cell_type": "code",
   "execution_count": 381,
   "metadata": {},
   "outputs": [],
   "source": [
    "numWords = 50\n",
    "targetWords = tsukiW2V.wv.index2word[:numWords]"
   ]
  },
  {
   "cell_type": "code",
   "execution_count": 382,
   "metadata": {},
   "outputs": [],
   "source": [
    "wordsSubMatrix = []\n",
    "for word in targetWords:\n",
    "    wordsSubMatrix.append(tsukiW2V[word])\n",
    "wordsSubMatrix = np.array(wordsSubMatrix)"
   ]
  },
  {
   "cell_type": "code",
   "execution_count": 383,
   "metadata": {},
   "outputs": [],
   "source": [
    "pcaWords = sklearn.decomposition.PCA(n_components = 50).fit(wordsSubMatrix)\n",
    "reducedPCA_data = pcaWords.transform(wordsSubMatrix)\n",
    "#T-SNE is theoretically better, but you should experiment\n",
    "tsneWords = sklearn.manifold.TSNE(n_components = 2).fit_transform(reducedPCA_data)"
   ]
  },
  {
   "cell_type": "markdown",
   "metadata": {},
   "source": [
    "### TSNE"
   ]
  },
  {
   "cell_type": "code",
   "execution_count": 384,
   "metadata": {},
   "outputs": [
    {
     "data": {
      "image/png": "[encoded data removed]",
      "text/plain": [
       "<Figure size 720x432 with 1 Axes>"
      ]
     },
     "metadata": {},
     "output_type": "display_data"
    }
   ],
   "source": [
    "fig = plt.figure(figsize = (10,6))\n",
    "ax = fig.add_subplot(111)\n",
    "ax.set_frame_on(False)\n",
    "plt.scatter(tsneWords[:, 0], tsneWords[:, 1], alpha = 0)#Making the points invisible \n",
    "for i, word in enumerate(targetWords):\n",
    "    ax.annotate(word, (tsneWords[:, 0][i],tsneWords[:, 1][i]), size =  15 * (numWords - i) / numWords)\n",
    "plt.xticks(())\n",
    "plt.yticks(())\n",
    "plt.show()"
   ]
  },
  {
   "cell_type": "markdown",
   "metadata": {},
   "source": [
    "We can see more general conservational terms in one area (`welcome`, `thanks`, `hi`, `lol`) and more terms specific about Tsuki game cluster in the otehr area (`tsuki`, `game`, `forest`, `gift`)."
   ]
  },
  {
   "cell_type": "markdown",
   "metadata": {},
   "source": [
    "### PCA"
   ]
  },
  {
   "cell_type": "code",
   "execution_count": 385,
   "metadata": {},
   "outputs": [],
   "source": [
    "pc_df = pd.DataFrame(reducedPCA_data)\n",
    "pc_df['pc1'] = pc_df[0]\n",
    "pc_df['pc2'] = pc_df[1]"
   ]
  },
  {
   "cell_type": "code",
   "execution_count": 386,
   "metadata": {},
   "outputs": [
    {
     "data": {
      "image/png": "[encoded data removed]",
      "text/plain": [
       "<Figure size 720x432 with 1 Axes>"
      ]
     },
     "metadata": {},
     "output_type": "display_data"
    }
   ],
   "source": [
    "fig = plt.figure(figsize = (10,6))\n",
    "ax = fig.add_subplot(111)\n",
    "ax.set_frame_on(False)\n",
    "plt.scatter(pc_df['pc1'], pc_df['pc2'], alpha = 0)#Making the points invisible \n",
    "for i, word in enumerate(targetWords):\n",
    "    ax.annotate(word, (pc_df['pc1'].loc[i],pc_df['pc2'].loc[i]), size =  15 * (numWords - i) / numWords)\n",
    "plt.xticks(())\n",
    "plt.yticks(())\n",
    "plt.show()"
   ]
  },
  {
   "cell_type": "markdown",
   "metadata": {},
   "source": [
    "PCA plot has the general clustering as TSNE plot. However, the dimension is way flatter than the one in TSNE. This is probably because for PCA plot, we only take the 1st and 2nd PC while for TSNE, we reduced many PCs to 2 dimensions."
   ]
  },
  {
   "cell_type": "markdown",
   "metadata": {},
   "source": [
    "# Doc2Vec"
   ]
  },
  {
   "cell_type": "markdown",
   "metadata": {},
   "source": [
    "## <span style=\"color:red\">*Exercise 2*</span>\n",
    "\n",
    "<span style=\"color:red\">Construct cells immediately below this that embed documents related to your final project using `doc2vec`, and explore the relationship between different documents and the word vectors you analyzed in the last exercise. Consider the most similar words to critical documents, analogies (doc _x_ + word _y_), and other additions and subtractions that reveal the structure of similarity and difference within your semantic space. What does this pattern reveal about the documentary organization of your semantic space?"
   ]
  },
  {
   "cell_type": "code",
   "execution_count": 484,
   "metadata": {},
   "outputs": [],
   "source": [
    "keywords = ['tsuki', 'carrot', 'haha', 'sad', 'lol', 'cute']"
   ]
  },
  {
   "cell_type": "code",
   "execution_count": 485,
   "metadata": {},
   "outputs": [],
   "source": [
    "tsuki['tokenized_words'] = tsuki['full_text'].apply(lambda x: lucem_illud_2020.word_tokenize(x))\n",
    "tsuki['normalized_words'] = tsuki['tokenized_words'].apply(lambda x: lucem_illud_2020.normalizeTokens(x, lemma=False))"
   ]
  },
  {
   "cell_type": "code",
   "execution_count": 486,
   "metadata": {},
   "outputs": [],
   "source": [
    "taggedDocs = []\n",
    "for index, row in tsuki.iterrows():\n",
    "    #Just doing a simple keyword assignment\n",
    "    docKeywords = [s for s in keywords if s in row['normalized_words']]\n",
    "    #docKeywords.append(row['copyrightYear'])\n",
    "    docKeywords += [row['Unnamed: 0']] #This lets us extract individual documnets since doi's are unique\n",
    "    taggedDocs.append(gensim.models.doc2vec.LabeledSentence(words = row['normalized_words'], tags = docKeywords))\n",
    "tsuki['TaggedAbstracts'] = taggedDocs"
   ]
  },
  {
   "cell_type": "code",
   "execution_count": 530,
   "metadata": {},
   "outputs": [],
   "source": [
    "tsukiD2V = gensim.models.doc2vec.Doc2Vec(tsuki['TaggedAbstracts'], vector_size = 300) #Limiting to 100 dimensions"
   ]
  },
  {
   "cell_type": "markdown",
   "metadata": {},
   "source": [
    "### Doc -> Word  & Analogy\n",
    "#### Example 1"
   ]
  },
  {
   "cell_type": "code",
   "execution_count": 488,
   "metadata": {},
   "outputs": [
    {
     "data": {
      "text/plain": [
       "'the moment tsuki submitted his resignation letter, he fell in the staircase while a carrot ||stabs|| through his body and||died|| '"
      ]
     },
     "execution_count": 488,
     "metadata": {},
     "output_type": "execute_result"
    }
   ],
   "source": [
    "tsuki['full_text'].loc[1000]"
   ]
  },
  {
   "cell_type": "code",
   "execution_count": 489,
   "metadata": {},
   "outputs": [
    {
     "data": {
      "text/plain": [
       "[('rabbitstare:614113473474854913', 0.047529011964797974),\n",
       " ('oohh', 0.043304696679115295),\n",
       " ('os', 0.02351311221718788),\n",
       " ('yori_loves_chi:652933152024821821', 0.008200371637940407),\n",
       " ('emoji_wth', 0.0013052690774202347)]"
      ]
     },
     "execution_count": 489,
     "metadata": {},
     "output_type": "execute_result"
    }
   ],
   "source": [
    "tsukiD2V.most_similar( [ tsukiD2V.docvecs[1000] ], topn=5) "
   ]
  },
  {
   "cell_type": "markdown",
   "metadata": {},
   "source": [
    "I quite agree with `emoji_wth` and `rabbitstare` for the text above! Accurate reaction!"
   ]
  },
  {
   "cell_type": "code",
   "execution_count": 526,
   "metadata": {
    "scrolled": true
   },
   "outputs": [
    {
     "data": {
      "text/plain": [
       "[(2246, 0.9368118047714233),\n",
       " (4031, 0.9349709749221802),\n",
       " (1139, 0.8992236852645874),\n",
       " (2043, 0.8867027759552002),\n",
       " (2757, 0.8752703666687012)]"
      ]
     },
     "execution_count": 526,
     "metadata": {},
     "output_type": "execute_result"
    }
   ],
   "source": [
    "tsukiD2V.docvecs.most_similar(positive = [tsukiD2V.docvecs[1000]], \n",
    "                              negative = [tsukiD2V['sad']], topn = 5)"
   ]
  },
  {
   "cell_type": "code",
   "execution_count": 527,
   "metadata": {},
   "outputs": [
    {
     "data": {
      "text/plain": [
       "'What are you doing tsuki  emoji_FACE_WITH_TEARS_OF_JOY'"
      ]
     },
     "execution_count": 527,
     "metadata": {},
     "output_type": "execute_result"
    }
   ],
   "source": [
    "tsuki['full_text'].loc[2246]"
   ]
  },
  {
   "cell_type": "markdown",
   "metadata": {},
   "source": [
    "Subtracting `sad` from the original document, we get this new document which is clearly more positive.\n",
    "\n",
    "#### Example 2"
   ]
  },
  {
   "cell_type": "code",
   "execution_count": 490,
   "metadata": {},
   "outputs": [
    {
     "data": {
      "text/plain": [
       "\"Hello, I'm Sheela and I love tsuki adventure!!! Been lurking around for awhile but only got to introduce myself now! Please be my friend.  emoji_hug\""
      ]
     },
     "execution_count": 490,
     "metadata": {},
     "output_type": "execute_result"
    }
   ],
   "source": [
    "tsuki['full_text'].loc[1500]"
   ]
  },
  {
   "cell_type": "code",
   "execution_count": 491,
   "metadata": {},
   "outputs": [
    {
     "data": {
      "text/plain": [
       "[('a:6454_nekoatsume_yay:639823333365645312', 0.0675956979393959),\n",
       " ('welcomee', 0.03888467326760292),\n",
       " ('oohh', 0.03582020848989487),\n",
       " ('np', -0.008245855569839478),\n",
       " ('bruh', -0.01128658652305603)]"
      ]
     },
     "execution_count": 491,
     "metadata": {},
     "output_type": "execute_result"
    }
   ],
   "source": [
    "tsukiD2V.most_similar( [ tsukiD2V.docvecs[1500] ], topn=5) "
   ]
  },
  {
   "cell_type": "markdown",
   "metadata": {},
   "source": [
    "This is a self-introduction kind of document, so `welcome` and something positive like `nekoatsume_yay` make sense."
   ]
  },
  {
   "cell_type": "code",
   "execution_count": 531,
   "metadata": {
    "scrolled": true
   },
   "outputs": [
    {
     "data": {
      "text/plain": [
       "[(1973, 0.9664041996002197),\n",
       " (2168, 0.9162482023239136),\n",
       " (869, 0.9027706384658813),\n",
       " (1660, 0.9007610082626343),\n",
       " (1650, 0.8935094475746155)]"
      ]
     },
     "execution_count": 531,
     "metadata": {},
     "output_type": "execute_result"
    }
   ],
   "source": [
    "tsukiD2V.docvecs.most_similar(positive = [tsukiD2V.docvecs[1500]], \n",
    "                              negative = [tsukiD2V['happy']], topn = 5)"
   ]
  },
  {
   "cell_type": "code",
   "execution_count": 532,
   "metadata": {},
   "outputs": [
    {
     "data": {
      "text/plain": [
       "'Present stuck on screen '"
      ]
     },
     "execution_count": 532,
     "metadata": {},
     "output_type": "execute_result"
    }
   ],
   "source": [
    "tsuki['full_text'].loc[1973]"
   ]
  },
  {
   "cell_type": "markdown",
   "metadata": {},
   "source": [
    "Taking `happy` out of the original document, we get this document that is.... probably sad :("
   ]
  },
  {
   "cell_type": "markdown",
   "metadata": {},
   "source": [
    "### Heatmaps"
   ]
  },
  {
   "cell_type": "code",
   "execution_count": 492,
   "metadata": {},
   "outputs": [],
   "source": [
    "heatmapMatrix = []\n",
    "for tagOuter in keywords:\n",
    "    column = []\n",
    "    tagVec = tsukiD2V.docvecs[tagOuter].reshape(1, -1)\n",
    "    for tagInner in keywords:\n",
    "        column.append(sklearn.metrics.pairwise.cosine_similarity(tagVec, tsukiD2V.docvecs[tagInner].reshape(1, -1))[0][0])\n",
    "    heatmapMatrix.append(column)\n",
    "heatmapMatrix = np.array(heatmapMatrix)"
   ]
  },
  {
   "cell_type": "code",
   "execution_count": 493,
   "metadata": {},
   "outputs": [
    {
     "data": {
      "image/png": "[encoded data removed]",
      "text/plain": [
       "<Figure size 432x288 with 2 Axes>"
      ]
     },
     "metadata": {
      "needs_background": "light"
     },
     "output_type": "display_data"
    }
   ],
   "source": [
    "fig, ax = plt.subplots()\n",
    "hmap = ax.pcolor(heatmapMatrix, cmap='terrain')\n",
    "cbar = plt.colorbar(hmap)\n",
    "\n",
    "cbar.set_label('cosine similarity', rotation=270)\n",
    "a = ax.set_xticks(np.arange(heatmapMatrix.shape[1]) + 0.5, minor=False)\n",
    "a = ax.set_yticks(np.arange(heatmapMatrix.shape[0]) + 0.5, minor=False)\n",
    "\n",
    "a = ax.set_xticklabels(keywords, minor=False, rotation=270)\n",
    "a = ax.set_yticklabels(keywords, minor=False)"
   ]
  },
  {
   "cell_type": "markdown",
   "metadata": {},
   "source": [
    "By keyword, there doesn't seem to be any apparent pattern except that `sad` is quite different from the rest. This makes sense because the rest of the words are more positive than negative. The word `carrot` is also moderately different. This is probably because it is uniquely used when talking about transaction."
   ]
  },
  {
   "cell_type": "code",
   "execution_count": 494,
   "metadata": {},
   "outputs": [],
   "source": [
    "targetDocs = tsuki['Unnamed: 0'][1000:1020]\n",
    "\n",
    "heatmapMatrixD = []\n",
    "\n",
    "for tagOuter in targetDocs:\n",
    "    column = []\n",
    "    tagVec = tsukiD2V.docvecs[tagOuter].reshape(1, -1)\n",
    "    for tagInner in targetDocs:\n",
    "        column.append(sklearn.metrics.pairwise.cosine_similarity(tagVec, tsukiD2V.docvecs[tagInner].reshape(1, -1))[0][0])\n",
    "    heatmapMatrixD.append(column)\n",
    "heatmapMatrixD = np.array(heatmapMatrixD)"
   ]
  },
  {
   "cell_type": "code",
   "execution_count": 495,
   "metadata": {},
   "outputs": [
    {
     "data": {
      "image/png": "[encoded data removed]",
      "text/plain": [
       "<Figure size 432x288 with 2 Axes>"
      ]
     },
     "metadata": {
      "needs_background": "light"
     },
     "output_type": "display_data"
    }
   ],
   "source": [
    "fig, ax = plt.subplots()\n",
    "hmap = ax.pcolor(heatmapMatrixD, cmap='terrain')\n",
    "cbar = plt.colorbar(hmap)\n",
    "\n",
    "cbar.set_label('cosine similarity', rotation=270)\n",
    "a = ax.set_xticks(np.arange(heatmapMatrixD.shape[1]) + 0.5, minor=False)\n",
    "a = ax.set_yticks(np.arange(heatmapMatrixD.shape[0]) + 0.5, minor=False)\n",
    "\n",
    "a = ax.set_xticklabels(targetDocs, minor=False, rotation=270)\n",
    "a = ax.set_yticklabels(targetDocs, minor=False)"
   ]
  },
  {
   "cell_type": "markdown",
   "metadata": {},
   "source": [
    "Seems like some documents are pretty closed while some are very different.\n",
    "\n",
    "This is the quite different one:"
   ]
  },
  {
   "cell_type": "code",
   "execution_count": 496,
   "metadata": {},
   "outputs": [
    {
     "data": {
      "text/plain": [
       "'tsuki playing chapteh with pipi '"
      ]
     },
     "execution_count": 496,
     "metadata": {},
     "output_type": "execute_result"
    }
   ],
   "source": [
    "tsuki['full_text'].iloc[1243]"
   ]
  },
  {
   "cell_type": "markdown",
   "metadata": {},
   "source": [
    "This is the quite similar one:"
   ]
  },
  {
   "cell_type": "code",
   "execution_count": 497,
   "metadata": {},
   "outputs": [
    {
     "data": {
      "text/plain": [
       "'lol wei wei no nsfw '"
      ]
     },
     "execution_count": 497,
     "metadata": {},
     "output_type": "execute_result"
    }
   ],
   "source": [
    "tsuki['full_text'].iloc[1254]"
   ]
  },
  {
   "cell_type": "code",
   "execution_count": 498,
   "metadata": {},
   "outputs": [],
   "source": [
    "heatmapMatrixC = []\n",
    "\n",
    "for tagOuter in targetDocs:\n",
    "    column = []\n",
    "    tagVec = tsukiD2V.docvecs[tagOuter].reshape(1, -1)\n",
    "    for tagInner in keywords:\n",
    "        column.append(sklearn.metrics.pairwise.cosine_similarity(tagVec, tsukiD2V.docvecs[tagInner].reshape(1, -1))[0][0])\n",
    "    heatmapMatrixC.append(column)\n",
    "heatmapMatrixC = np.array(heatmapMatrixC)"
   ]
  },
  {
   "cell_type": "code",
   "execution_count": 499,
   "metadata": {},
   "outputs": [
    {
     "data": {
      "image/png": "[encoded data removed]",
      "text/plain": [
       "<Figure size 432x288 with 2 Axes>"
      ]
     },
     "metadata": {
      "needs_background": "light"
     },
     "output_type": "display_data"
    }
   ],
   "source": [
    "fig, ax = plt.subplots()\n",
    "hmap = ax.pcolor(heatmapMatrixC, cmap='terrain')\n",
    "cbar = plt.colorbar(hmap)\n",
    "\n",
    "cbar.set_label('cosine similarity', rotation=270)\n",
    "a = ax.set_xticks(np.arange(heatmapMatrixC.shape[1]) + 0.5, minor=False)\n",
    "a = ax.set_yticks(np.arange(heatmapMatrixC.shape[0]) + 0.5, minor=False)\n",
    "\n",
    "a = ax.set_xticklabels(keywords, minor=False, rotation=270)\n",
    "a = ax.set_yticklabels(targetDocs, minor=False)"
   ]
  },
  {
   "cell_type": "markdown",
   "metadata": {},
   "source": [
    "Interestingly, each document doesn't really differ between keywords. This is likely because each document is **extremely short**! Again, this corpus is not really ideal for word embedding at all."
   ]
  },
  {
   "cell_type": "markdown",
   "metadata": {},
   "source": [
    "# Projection"
   ]
  },
  {
   "cell_type": "markdown",
   "metadata": {},
   "source": [
    "## <span style=\"color:red\">*Exercise 3*</span>\n",
    "\n",
    "<span style=\"color:red\">Construct cells immediately below this that embed documents related to your final project, then generate meaningful semantic dimensions based on your theoretical understanding of the semantic space (i.e., by subtracting semantically opposite word vectors) and project another set of word vectors onto those dimensions. Interpret the meaning of these projections for your analysis. Which of the dimensions you analyze explain the most variation in the projection of your words and why? \n",
    "\n",
    "<span style=\"color:red\">***Stretch***: Average together multiple antonym pairs to create robust semantic dimensions. How do word projections on these robust dimensions differ from single-pair dimensions?"
   ]
  },
  {
   "cell_type": "markdown",
   "metadata": {},
   "source": [
    "Let's set the target words to be several characters in the game."
   ]
  },
  {
   "cell_type": "code",
   "execution_count": 586,
   "metadata": {},
   "outputs": [],
   "source": [
    "#words to create dimensions\n",
    "tsukiTargetWords = ['happy','sad','young', 'old','big','small',\n",
    "                   'city', 'village','fast','slow','forest']\n",
    "#words we will be mapping\n",
    "tsukiTargetWords += ['tsuki', 'chi', 'yori', 'pipi', 'moca', 'momo', 'mori','kubo', 'ken',\n",
    "                   'sheriff', 'clive', 'bobo', 'kubo', 'ed']\n",
    "\n",
    "wordsSubMatrix = []\n",
    "for word in tsukiTargetWords:\n",
    "    wordsSubMatrix.append(tsukiW2V[word])\n",
    "wordsSubMatrix = np.array(wordsSubMatrix)\n",
    "#wordsSubMatrix"
   ]
  },
  {
   "cell_type": "code",
   "execution_count": 587,
   "metadata": {},
   "outputs": [],
   "source": [
    "pcaWordstsuki = sklearn.decomposition.PCA(n_components = 20).fit(wordsSubMatrix)\n",
    "reducedPCA_datatsuki = pcaWordstsuki.transform(wordsSubMatrix)\n",
    "#T-SNE is theoretically better, but you should experiment\n",
    "tsneWordstsuki = sklearn.manifold.TSNE(n_components = 2).fit_transform(reducedPCA_datatsuki)"
   ]
  },
  {
   "cell_type": "code",
   "execution_count": 588,
   "metadata": {},
   "outputs": [
    {
     "data": {
      "image/png": "[encoded data removed]",
      "text/plain": [
       "<Figure size 1440x864 with 1 Axes>"
      ]
     },
     "metadata": {},
     "output_type": "display_data"
    }
   ],
   "source": [
    "fig = plt.figure(figsize = (20,12))\n",
    "ax = fig.add_subplot(111)\n",
    "ax.set_frame_on(False)\n",
    "plt.scatter(tsneWordstsuki[:, 0], tsneWordstsuki[:, 1], alpha = 0) #Making the points invisible\n",
    "for i, word in enumerate(tsukiTargetWords):\n",
    "    ax.annotate(word, (tsneWordstsuki[:, 0][i],tsneWordstsuki[:, 1][i]), size =  30)\n",
    "plt.xticks(())\n",
    "plt.yticks(())\n",
    "plt.show()"
   ]
  },
  {
   "cell_type": "code",
   "execution_count": 589,
   "metadata": {},
   "outputs": [],
   "source": [
    "def normalize(vector):\n",
    "    normalized_vector = vector / np.linalg.norm(vector)\n",
    "    return normalized_vector\n",
    "\n",
    "def dimension(model, positives, negatives):\n",
    "    diff = sum([normalize(model[x]) for x in positives]) - sum([normalize(model[y]) for y in negatives])\n",
    "    return diff"
   ]
  },
  {
   "cell_type": "markdown",
   "metadata": {},
   "source": [
    "### Multiple Antonym Pairs"
   ]
  },
  {
   "cell_type": "markdown",
   "metadata": {},
   "source": [
    "Let's calculate three dimensions: age, location, and trait. Note that only age is the average of multiple antonym pairs."
   ]
  },
  {
   "cell_type": "code",
   "execution_count": 730,
   "metadata": {},
   "outputs": [],
   "source": [
    "Age = dimension(tsukiW2V, ['young','small','fast'], ['old','big','slow'])\n",
    "Location = dimension(tsukiW2V, ['city'], ['village'])\n",
    "Trait = dimension(tsukiW2V, ['happy'], ['sad'])"
   ]
  },
  {
   "cell_type": "code",
   "execution_count": 731,
   "metadata": {},
   "outputs": [],
   "source": [
    "def makeDF(model, word_list):\n",
    "    a = []\n",
    "    l = []\n",
    "    t = []\n",
    "    for word in word_list:\n",
    "        a.append(sklearn.metrics.pairwise.cosine_similarity(tsukiW2V[word].reshape(1,-1), Age.reshape(1,-1))[0][0])\n",
    "        l.append(sklearn.metrics.pairwise.cosine_similarity(tsukiW2V[word].reshape(1,-1), Location.reshape(1,-1))[0][0])\n",
    "        t.append(sklearn.metrics.pairwise.cosine_similarity(tsukiW2V[word].reshape(1,-1), Trait.reshape(1,-1))[0][0])\n",
    "    df = pandas.DataFrame({'age': a, 'location': l, 'trait': t}, index = word_list)\n",
    "    return df"
   ]
  },
  {
   "cell_type": "code",
   "execution_count": 732,
   "metadata": {},
   "outputs": [],
   "source": [
    "df = makeDF(tsukiW2V, \n",
    "            ['tsuki', 'chi', 'yori', 'pipi', 'moca', 'momo', 'mori',\n",
    "             'kubo', 'ken','sheriff', 'clive', 'bobo', 'kubo','ed']) "
   ]
  },
  {
   "cell_type": "code",
   "execution_count": 733,
   "metadata": {},
   "outputs": [],
   "source": [
    "def Coloring(Series):\n",
    "    x = Series.values\n",
    "    y = x-x.min()\n",
    "    z = y/y.max()\n",
    "    c = list(plt.cm.rainbow(z))\n",
    "    return c\n",
    "\n",
    "def PlotDimension(ax,df, dim):\n",
    "    ax.set_frame_on(False)\n",
    "    ax.set_title(dim, fontsize = 20)\n",
    "    colors = Coloring(df[dim])\n",
    "    for i, word in enumerate(df.index):\n",
    "        ax.annotate(word, (0, df[dim][i]), color = colors[i], alpha = 0.8, fontsize = 12)\n",
    "    MaxY = df[dim].max()\n",
    "    MinY = df[dim].min()\n",
    "    plt.ylim(MinY,MaxY)\n",
    "    plt.yticks(())\n",
    "    plt.xticks(())"
   ]
  },
  {
   "cell_type": "code",
   "execution_count": 734,
   "metadata": {
    "scrolled": true
   },
   "outputs": [
    {
     "data": {
      "image/png": "[encoded data removed]",
      "text/plain": [
       "<Figure size 864x864 with 3 Axes>"
      ]
     },
     "metadata": {},
     "output_type": "display_data"
    }
   ],
   "source": [
    "fig = plt.figure(figsize = (12,12))\n",
    "ax1 = fig.add_subplot(131)\n",
    "PlotDimension(ax1, df, 'age')\n",
    "ax2 = fig.add_subplot(132)\n",
    "PlotDimension(ax2, df, 'location')\n",
    "ax3 = fig.add_subplot(133)\n",
    "PlotDimension(ax3, df, 'trait')\n",
    "plt.show()"
   ]
  },
  {
   "cell_type": "markdown",
   "metadata": {},
   "source": [
    "The result is not that bad! `mori` is the oldest character. `clive` lives in the city. But well, it will be a lot better if we had bigger corpus. So this is already impressive!"
   ]
  },
  {
   "cell_type": "markdown",
   "metadata": {},
   "source": [
    "### Single Antonym Pair\n",
    "\n",
    "Let's try separate age into 3 dimensions each with only one antonym pair."
   ]
  },
  {
   "cell_type": "code",
   "execution_count": 735,
   "metadata": {},
   "outputs": [],
   "source": [
    "Age = dimension(tsukiW2V, ['young'], ['old'])\n",
    "Size = dimension(tsukiW2V, ['small'], ['big'])\n",
    "Movement = dimension(tsukiW2V, ['fast'], ['slow'])"
   ]
  },
  {
   "cell_type": "code",
   "execution_count": 736,
   "metadata": {},
   "outputs": [],
   "source": [
    "def makeDF(model, word_list):\n",
    "    a = []\n",
    "    l = []\n",
    "    t = []\n",
    "    for word in word_list:\n",
    "        a.append(sklearn.metrics.pairwise.cosine_similarity(tsukiW2V[word].reshape(1,-1), Age.reshape(1,-1))[0][0])\n",
    "        l.append(sklearn.metrics.pairwise.cosine_similarity(tsukiW2V[word].reshape(1,-1), Size.reshape(1,-1))[0][0])\n",
    "        t.append(sklearn.metrics.pairwise.cosine_similarity(tsukiW2V[word].reshape(1,-1), Movement.reshape(1,-1))[0][0])\n",
    "    df = pandas.DataFrame({'age': a, 'size': l, 'movement': t}, index = word_list)\n",
    "    return df"
   ]
  },
  {
   "cell_type": "code",
   "execution_count": 738,
   "metadata": {},
   "outputs": [],
   "source": [
    "df = makeDF(tsukiW2V, \n",
    "            ['tsuki', 'chi', 'yori', 'pipi', 'moca', 'momo', 'mori',\n",
    "             'kubo', 'ken','sheriff', 'clive', 'bobo', 'kubo','ed']) "
   ]
  },
  {
   "cell_type": "code",
   "execution_count": 739,
   "metadata": {
    "scrolled": true
   },
   "outputs": [
    {
     "data": {
      "image/png": "[encoded data removed]",
      "text/plain": [
       "<Figure size 864x864 with 3 Axes>"
      ]
     },
     "metadata": {},
     "output_type": "display_data"
    }
   ],
   "source": [
    "fig = plt.figure(figsize = (12,12))\n",
    "ax1 = fig.add_subplot(131)\n",
    "PlotDimension(ax1, df, 'age')\n",
    "ax2 = fig.add_subplot(132)\n",
    "PlotDimension(ax2, df, 'size')\n",
    "ax3 = fig.add_subplot(133)\n",
    "PlotDimension(ax3, df, 'movement')\n",
    "plt.show()"
   ]
  },
  {
   "cell_type": "markdown",
   "metadata": {},
   "source": [
    "This doesn't seem as good as the multiple antonym pairs anymore :("
   ]
  },
  {
   "cell_type": "markdown",
   "metadata": {},
   "source": [
    "# The Score Function"
   ]
  },
  {
   "cell_type": "markdown",
   "metadata": {},
   "source": [
    "## <span style=\"color:red\">*Exercise 4a*</span>\n",
    "\n",
    "<span style=\"color:red\">**Do only 4a or 4b.** Construct cells immediately below this that calculate the scores for a small sample of documents from outside your corpus to identify which are *closest* to your corpus. Then calculate the scores for a few phrases or sentences to identify the ones most likely to have appeared in your corpus. Interrogate patterns associated with these document/phrase scores (e.g., which companies produced job ads most or least likely to find jobseekers in the resume corpus?) What do these patterns suggest about the boundaries of your corpus?"
   ]
  },
  {
   "cell_type": "code",
   "execution_count": 614,
   "metadata": {},
   "outputs": [],
   "source": [
    "tsukiW2V = gensim.models.Word2Vec(tsuki['normalized_sents'].sum(), hs=1, negative=0)"
   ]
  },
  {
   "cell_type": "code",
   "execution_count": 617,
   "metadata": {},
   "outputs": [],
   "source": [
    "def adprob(ad, model):\n",
    "    sen_scores = model.score(ad, len(ad))\n",
    "    ad_score = sen_scores.mean()\n",
    "    return ad_score"
   ]
  },
  {
   "cell_type": "markdown",
   "metadata": {},
   "source": [
    "Let's try using #metoo tweets to see how close the chat in this game community is to tweets about #metoo."
   ]
  },
  {
   "cell_type": "code",
   "execution_count": 625,
   "metadata": {},
   "outputs": [
    {
     "name": "stderr",
     "output_type": "stream",
     "text": [
      "/Users/wanitchaya.poon/opt/anaconda3/lib/python3.7/site-packages/ipykernel_launcher.py:3: SettingWithCopyWarning: \n",
      "A value is trying to be set on a copy of a slice from a DataFrame.\n",
      "Try using .loc[row_indexer,col_indexer] = value instead\n",
      "\n",
      "See the caveats in the documentation: http://pandas.pydata.org/pandas-docs/stable/user_guide/indexing.html#returning-a-view-versus-a-copy\n",
      "  This is separate from the ipykernel package so we can avoid doing imports until\n",
      "/Users/wanitchaya.poon/opt/anaconda3/lib/python3.7/site-packages/ipykernel_launcher.py:4: SettingWithCopyWarning: \n",
      "A value is trying to be set on a copy of a slice from a DataFrame.\n",
      "Try using .loc[row_indexer,col_indexer] = value instead\n",
      "\n",
      "See the caveats in the documentation: http://pandas.pydata.org/pandas-docs/stable/user_guide/indexing.html#returning-a-view-versus-a-copy\n",
      "  after removing the cwd from sys.path.\n"
     ]
    }
   ],
   "source": [
    "metoo = pd.read_csv(\"metoo_emoji.csv\")\n",
    "metoo_small = metoo.iloc[:100,:]\n",
    "metoo_small['tokenized_sents'] = metoo_small['text'].apply(lambda x: [lucem_illud_2020.word_tokenize(s) for s in lucem_illud_2020.sent_tokenize(x)])\n",
    "metoo_small['normalized_sents'] = metoo_small['tokenized_sents'].apply(lambda x: [lucem_illud_2020.normalizeTokens(s, lemma=False) for s in x])"
   ]
  },
  {
   "cell_type": "code",
   "execution_count": 626,
   "metadata": {},
   "outputs": [
    {
     "name": "stderr",
     "output_type": "stream",
     "text": [
      "/Users/wanitchaya.poon/opt/anaconda3/lib/python3.7/site-packages/ipykernel_launcher.py:1: SettingWithCopyWarning: \n",
      "A value is trying to be set on a copy of a slice from a DataFrame.\n",
      "Try using .loc[row_indexer,col_indexer] = value instead\n",
      "\n",
      "See the caveats in the documentation: http://pandas.pydata.org/pandas-docs/stable/user_guide/indexing.html#returning-a-view-versus-a-copy\n",
      "  \"\"\"Entry point for launching an IPython kernel.\n"
     ]
    }
   ],
   "source": [
    "metoo_small['likelihood'] = metoo_small['normalized_sents'].apply(lambda x: adprob(x, tsukiW2V))"
   ]
  },
  {
   "cell_type": "markdown",
   "metadata": {},
   "source": [
    "Top likelihood tweets:"
   ]
  },
  {
   "cell_type": "code",
   "execution_count": 629,
   "metadata": {},
   "outputs": [
    {
     "name": "stdout",
     "output_type": "stream",
     "text": [
      "#MeToo [by Society6 Artist @witchoria] https://t.co/oDYGexXYR5 https://t.co/p1U8qD4Hv6\n",
      "\n",
      "\n",
      "The #MeToo campaign is empowering and simultaneously heartbreaking ..\n",
      "\n",
      "\n",
      "When I was 7 by babysitter #MeToo https://t.co/6hKwtP2HC3\n",
      "\n",
      "\n",
      "Especially rife in the 1970s #metoo https://t.co/79sW8zHCsj\n",
      "\n",
      "\n",
      "You are not alone. #MeToo\n",
      "\n",
      "\n"
     ]
    }
   ],
   "source": [
    "for ad in metoo_small.sort_values(by = 'likelihood', ascending = False)['text'][:5]:\n",
    "    print (ad + '\\n\\n')"
   ]
  },
  {
   "cell_type": "markdown",
   "metadata": {},
   "source": [
    "Bottom likelihood tweets:"
   ]
  },
  {
   "cell_type": "code",
   "execution_count": 633,
   "metadata": {},
   "outputs": [
    {
     "name": "stdout",
     "output_type": "stream",
     "text": [
      "If you don't think every freaking woman on this earth has been harassed/cat-called at least once in their life, you're wrong #Metoo\n",
      "\n",
      "\n",
      "I wasn't going to tweet #metoo because we've been tweeting, crying, hurting 'me too' for a long long time now.\n",
      "\n",
      "\n",
      "#MeToo is cool if it offers peace and a sense of unity but let's not work under the false pretence that our narratives will make men care\n",
      "\n",
      "\n",
      "Interesting that the men who have a problem with #MeToo are the same ones who wanted to \"protect women\" with bathroom bills.\n",
      "\n",
      "\n",
      "Kinda sad that it takes a hashtag for people to realize how big the issue is #metoo\n",
      "\n",
      "\n"
     ]
    }
   ],
   "source": [
    "for ad in metoo_small.sort_values(by = 'likelihood')['text'][:5]:\n",
    "    print (ad + '\\n\\n')"
   ]
  },
  {
   "cell_type": "markdown",
   "metadata": {},
   "source": [
    "Seems like the bottom 5 are tweets that are longer and more complex. While the top 5 likely are those that are very short and not that descriptive."
   ]
  },
  {
   "cell_type": "markdown",
   "metadata": {},
   "source": [
    "### By terms"
   ]
  },
  {
   "cell_type": "markdown",
   "metadata": {},
   "source": [
    "We can see more common/popular characters (`tsuki`, `pipi`) have higher likelihood. On the other hand, rarer characters (`jun`, `clive`) aren't as likely."
   ]
  },
  {
   "cell_type": "code",
   "execution_count": 640,
   "metadata": {},
   "outputs": [
    {
     "data": {
      "text/plain": [
       "-9.303255"
      ]
     },
     "execution_count": 640,
     "metadata": {},
     "output_type": "execute_result"
    }
   ],
   "source": [
    "adprob([[\"tsuki\", \"pipi\"]], tsukiW2V)"
   ]
  },
  {
   "cell_type": "code",
   "execution_count": 639,
   "metadata": {},
   "outputs": [
    {
     "data": {
      "text/plain": [
       "-14.928364"
      ]
     },
     "execution_count": 639,
     "metadata": {},
     "output_type": "execute_result"
    }
   ],
   "source": [
    "adprob([[\"jun\", \"clive\"]], tsukiW2V)"
   ]
  },
  {
   "cell_type": "markdown",
   "metadata": {},
   "source": [
    "Terms that are more specific are less likely that terms that are more general too."
   ]
  },
  {
   "cell_type": "code",
   "execution_count": 642,
   "metadata": {},
   "outputs": [
    {
     "data": {
      "text/plain": [
       "-7.0521927"
      ]
     },
     "execution_count": 642,
     "metadata": {},
     "output_type": "execute_result"
    }
   ],
   "source": [
    "adprob([[\"man\", \"woman\"]], tsukiW2V)"
   ]
  },
  {
   "cell_type": "code",
   "execution_count": 643,
   "metadata": {},
   "outputs": [
    {
     "data": {
      "text/plain": [
       "-9.700157"
      ]
     },
     "execution_count": 643,
     "metadata": {},
     "output_type": "execute_result"
    }
   ],
   "source": [
    "adprob([[\"welcome\", \"hi\"]], tsukiW2V)"
   ]
  },
  {
   "cell_type": "code",
   "execution_count": 644,
   "metadata": {},
   "outputs": [
    {
     "data": {
      "text/plain": [
       "-10.114061"
      ]
     },
     "execution_count": 644,
     "metadata": {},
     "output_type": "execute_result"
    }
   ],
   "source": [
    "adprob([[\"game\", \"play\"]], tsukiW2V)"
   ]
  },
  {
   "cell_type": "markdown",
   "metadata": {},
   "source": [
    "# Linguistic Change or Difference"
   ]
  },
  {
   "cell_type": "markdown",
   "metadata": {},
   "source": [
    "## <span style=\"color:red\">*Exercise 4b*</span>\n",
    "\n",
    "<span style=\"color:red\">**Do only 4a or 4b.** Construct cells immediately below this that align word embeddings over time or across domains/corpora. Interrogate the spaces that result and ask which words changed most and least over the entire period or between contexts/corpora. What does this reveal about the social game underlying your space? "
   ]
  },
  {
   "cell_type": "code",
   "execution_count": 645,
   "metadata": {},
   "outputs": [],
   "source": [
    "import copy"
   ]
  },
  {
   "cell_type": "code",
   "execution_count": 650,
   "metadata": {},
   "outputs": [
    {
     "data": {
      "text/html": [
       "<div>\n",
       "<style scoped>\n",
       "    .dataframe tbody tr th:only-of-type {\n",
       "        vertical-align: middle;\n",
       "    }\n",
       "\n",
       "    .dataframe tbody tr th {\n",
       "        vertical-align: top;\n",
       "    }\n",
       "\n",
       "    .dataframe thead th {\n",
       "        text-align: right;\n",
       "    }\n",
       "</style>\n",
       "<table border=\"1\" class=\"dataframe\">\n",
       "  <thead>\n",
       "    <tr style=\"text-align: right;\">\n",
       "      <th></th>\n",
       "      <th>id</th>\n",
       "      <th>name</th>\n",
       "      <th>name_id</th>\n",
       "      <th>content</th>\n",
       "      <th>timestamp</th>\n",
       "      <th>channel</th>\n",
       "      <th>language</th>\n",
       "      <th>time</th>\n",
       "    </tr>\n",
       "  </thead>\n",
       "  <tbody>\n",
       "    <tr>\n",
       "      <td>0</td>\n",
       "      <td>5.645833e+17</td>\n",
       "      <td>BREAD</td>\n",
       "      <td>7623</td>\n",
       "      <td>i still have tons of moonpies and halloween fo...</td>\n",
       "      <td>2020-02-15T16:53:46Z</td>\n",
       "      <td>chat</td>\n",
       "      <td>en</td>\n",
       "      <td>2020-02</td>\n",
       "    </tr>\n",
       "    <tr>\n",
       "      <td>1</td>\n",
       "      <td>5.645833e+17</td>\n",
       "      <td>BREAD</td>\n",
       "      <td>7623</td>\n",
       "      <td>i go to the forest to see how much i have beca...</td>\n",
       "      <td>2020-02-15T16:54:04Z</td>\n",
       "      <td>chat</td>\n",
       "      <td>en</td>\n",
       "      <td>2020-02</td>\n",
       "    </tr>\n",
       "    <tr>\n",
       "      <td>2</td>\n",
       "      <td>2.192137e+17</td>\n",
       "      <td>Hele</td>\n",
       "      <td>2896</td>\n",
       "      <td>hahahaha</td>\n",
       "      <td>2020-02-15T16:54:47Z</td>\n",
       "      <td>chat</td>\n",
       "      <td>cn</td>\n",
       "      <td>2020-02</td>\n",
       "    </tr>\n",
       "    <tr>\n",
       "      <td>3</td>\n",
       "      <td>2.192137e+17</td>\n",
       "      <td>Hele</td>\n",
       "      <td>2896</td>\n",
       "      <td>hahahaha</td>\n",
       "      <td>2020-02-15T16:54:47Z</td>\n",
       "      <td>chat</td>\n",
       "      <td>es</td>\n",
       "      <td>2020-02</td>\n",
       "    </tr>\n",
       "    <tr>\n",
       "      <td>4</td>\n",
       "      <td>2.192137e+17</td>\n",
       "      <td>Hele</td>\n",
       "      <td>2896</td>\n",
       "      <td>hahahaha</td>\n",
       "      <td>2020-02-15T16:54:47Z</td>\n",
       "      <td>chat</td>\n",
       "      <td>pt</td>\n",
       "      <td>2020-02</td>\n",
       "    </tr>\n",
       "    <tr>\n",
       "      <td>...</td>\n",
       "      <td>...</td>\n",
       "      <td>...</td>\n",
       "      <td>...</td>\n",
       "      <td>...</td>\n",
       "      <td>...</td>\n",
       "      <td>...</td>\n",
       "      <td>...</td>\n",
       "      <td>...</td>\n",
       "    </tr>\n",
       "    <tr>\n",
       "      <td>4859</td>\n",
       "      <td>5.720987e+17</td>\n",
       "      <td>Wei Wei</td>\n",
       "      <td>123</td>\n",
       "      <td>Tsuki fishing up the mayor's dead grandaughter...</td>\n",
       "      <td>2019-12-02T13:43:40Z</td>\n",
       "      <td>tsuki-suggestion</td>\n",
       "      <td>en</td>\n",
       "      <td>2019-12</td>\n",
       "    </tr>\n",
       "    <tr>\n",
       "      <td>4860</td>\n",
       "      <td>5.646385e+17</td>\n",
       "      <td>hurbyvore🌱</td>\n",
       "      <td>5569</td>\n",
       "      <td>-tsuki’s festive scarf/holiday scarf</td>\n",
       "      <td>2019-12-02T12:49:06Z</td>\n",
       "      <td>tsuki-suggestion</td>\n",
       "      <td>ph</td>\n",
       "      <td>2019-12</td>\n",
       "    </tr>\n",
       "    <tr>\n",
       "      <td>4861</td>\n",
       "      <td>5.646385e+17</td>\n",
       "      <td>hurbyvore🌱</td>\n",
       "      <td>5569</td>\n",
       "      <td>-snowball fight w friends \\n-snowman making du...</td>\n",
       "      <td>2019-12-02T12:48:37Z</td>\n",
       "      <td>tsuki-suggestion</td>\n",
       "      <td>ph</td>\n",
       "      <td>2019-12</td>\n",
       "    </tr>\n",
       "    <tr>\n",
       "      <td>4862</td>\n",
       "      <td>6.166568e+17</td>\n",
       "      <td>gelizabee</td>\n",
       "      <td>5563</td>\n",
       "      <td>&lt;@!392727704614731787&gt; it worked! Thanks again...</td>\n",
       "      <td>2019-12-01T21:33:44Z</td>\n",
       "      <td>tsuki-suggestion</td>\n",
       "      <td>en</td>\n",
       "      <td>2019-12</td>\n",
       "    </tr>\n",
       "    <tr>\n",
       "      <td>4863</td>\n",
       "      <td>6.166568e+17</td>\n",
       "      <td>gelizabee</td>\n",
       "      <td>5563</td>\n",
       "      <td>Oh wow thank you! I’ll try now! &lt;:yaycarrots:5...</td>\n",
       "      <td>2019-12-01T20:19:58Z</td>\n",
       "      <td>tsuki-suggestion</td>\n",
       "      <td>en</td>\n",
       "      <td>2019-12</td>\n",
       "    </tr>\n",
       "  </tbody>\n",
       "</table>\n",
       "<p>4864 rows × 8 columns</p>\n",
       "</div>"
      ],
      "text/plain": [
       "                id        name  name_id  \\\n",
       "0     5.645833e+17       BREAD     7623   \n",
       "1     5.645833e+17       BREAD     7623   \n",
       "2     2.192137e+17        Hele     2896   \n",
       "3     2.192137e+17        Hele     2896   \n",
       "4     2.192137e+17        Hele     2896   \n",
       "...            ...         ...      ...   \n",
       "4859  5.720987e+17     Wei Wei      123   \n",
       "4860  5.646385e+17  hurbyvore🌱     5569   \n",
       "4861  5.646385e+17  hurbyvore🌱     5569   \n",
       "4862  6.166568e+17   gelizabee     5563   \n",
       "4863  6.166568e+17   gelizabee     5563   \n",
       "\n",
       "                                                content             timestamp  \\\n",
       "0     i still have tons of moonpies and halloween fo...  2020-02-15T16:53:46Z   \n",
       "1     i go to the forest to see how much i have beca...  2020-02-15T16:54:04Z   \n",
       "2                                              hahahaha  2020-02-15T16:54:47Z   \n",
       "3                                              hahahaha  2020-02-15T16:54:47Z   \n",
       "4                                              hahahaha  2020-02-15T16:54:47Z   \n",
       "...                                                 ...                   ...   \n",
       "4859  Tsuki fishing up the mayor's dead grandaughter...  2019-12-02T13:43:40Z   \n",
       "4860               -tsuki’s festive scarf/holiday scarf  2019-12-02T12:49:06Z   \n",
       "4861  -snowball fight w friends \\n-snowman making du...  2019-12-02T12:48:37Z   \n",
       "4862  <@!392727704614731787> it worked! Thanks again...  2019-12-01T21:33:44Z   \n",
       "4863  Oh wow thank you! I’ll try now! <:yaycarrots:5...  2019-12-01T20:19:58Z   \n",
       "\n",
       "               channel language     time  \n",
       "0                 chat       en  2020-02  \n",
       "1                 chat       en  2020-02  \n",
       "2                 chat       cn  2020-02  \n",
       "3                 chat       es  2020-02  \n",
       "4                 chat       pt  2020-02  \n",
       "...                ...      ...      ...  \n",
       "4859  tsuki-suggestion       en  2019-12  \n",
       "4860  tsuki-suggestion       ph  2019-12  \n",
       "4861  tsuki-suggestion       ph  2019-12  \n",
       "4862  tsuki-suggestion       en  2019-12  \n",
       "4863  tsuki-suggestion       en  2019-12  \n",
       "\n",
       "[4864 rows x 8 columns]"
      ]
     },
     "execution_count": 650,
     "metadata": {},
     "output_type": "execute_result"
    }
   ],
   "source": [
    "def year_month(timestamp):\n",
    "    return timestamp[:7]\n",
    "tsuki = pd.read_csv(\"message_all.csv\")\n",
    "tsuki['time'] = tsuki['timestamp'].apply(year_month)\n",
    "tsuki"
   ]
  },
  {
   "cell_type": "code",
   "execution_count": 651,
   "metadata": {},
   "outputs": [],
   "source": [
    "def calc_syn0norm(model):\n",
    "    \"\"\"since syn0norm is now depricated\"\"\"\n",
    "    return (model.wv.syn0 / np.sqrt((model.wv.syn0 ** 2).sum(-1))[..., np.newaxis]).astype(np.float32)\n",
    "\n",
    "def smart_procrustes_align_gensim(base_embed, other_embed, words=None):\n",
    "    \"\"\"Procrustes align two gensim word2vec models (to allow for comparison between same word across models).\n",
    "    Code ported from HistWords <https://github.com/williamleif/histwords> by William Hamilton <wleif@stanford.edu>.\n",
    "    (With help from William. Thank you!)\n",
    "    First, intersect the vocabularies (see `intersection_align_gensim` documentation).\n",
    "    Then do the alignment on the other_embed model.\n",
    "    Replace the other_embed model's syn0 and syn0norm numpy matrices with the aligned version.\n",
    "    Return other_embed.\n",
    "    If `words` is set, intersect the two models' vocabulary with the vocabulary in words (see `intersection_align_gensim` documentation).\n",
    "    \"\"\"\n",
    "    base_embed = copy.copy(base_embed)\n",
    "    other_embed = copy.copy(other_embed)\n",
    "    # make sure vocabulary and indices are aligned\n",
    "    in_base_embed, in_other_embed = intersection_align_gensim(base_embed, other_embed, words=words)\n",
    "\n",
    "    # get the embedding matrices\n",
    "    base_vecs = calc_syn0norm(in_base_embed)\n",
    "    other_vecs = calc_syn0norm(in_other_embed)\n",
    "\n",
    "    # just a matrix dot product with numpy\n",
    "    m = other_vecs.T.dot(base_vecs) \n",
    "    # SVD method from numpy\n",
    "    u, _, v = np.linalg.svd(m)\n",
    "    # another matrix operation\n",
    "    ortho = u.dot(v) \n",
    "    # Replace original array with modified one\n",
    "    # i.e. multiplying the embedding matrix (syn0norm)by \"ortho\"\n",
    "    other_embed.wv.syn0norm = other_embed.wv.syn0 = (calc_syn0norm(other_embed)).dot(ortho)\n",
    "    return other_embed\n",
    "    \n",
    "def intersection_align_gensim(m1,m2, words=None):\n",
    "    \"\"\"\n",
    "    Intersect two gensim word2vec models, m1 and m2.\n",
    "    Only the shared vocabulary between them is kept.\n",
    "    If 'words' is set (as list or set), then the vocabulary is intersected with this list as well.\n",
    "    Indices are re-organized from 0..N in order of descending frequency (=sum of counts from both m1 and m2).\n",
    "    These indices correspond to the new syn0 and syn0norm objects in both gensim models:\n",
    "        -- so that Row 0 of m1.syn0 will be for the same word as Row 0 of m2.syn0\n",
    "        -- you can find the index of any word on the .index2word list: model.index2word.index(word) => 2\n",
    "    The .vocab dictionary is also updated for each model, preserving the count but updating the index.\n",
    "    \"\"\"\n",
    "\n",
    "    # Get the vocab for each model\n",
    "    vocab_m1 = set(m1.wv.vocab.keys())\n",
    "    vocab_m2 = set(m2.wv.vocab.keys())\n",
    "\n",
    "    # Find the common vocabulary\n",
    "    common_vocab = vocab_m1&vocab_m2\n",
    "    if words: common_vocab&=set(words)\n",
    "\n",
    "    # If no alignment necessary because vocab is identical...\n",
    "    if not vocab_m1-common_vocab and not vocab_m2-common_vocab:\n",
    "        return (m1,m2)\n",
    "\n",
    "    # Otherwise sort by frequency (summed for both)\n",
    "    common_vocab = list(common_vocab)\n",
    "    common_vocab.sort(key=lambda w: m1.wv.vocab[w].count + m2.wv.vocab[w].count,reverse=True)\n",
    "\n",
    "    # Then for each model...\n",
    "    for m in [m1,m2]:\n",
    "        # Replace old syn0norm array with new one (with common vocab)\n",
    "        indices = [m.wv.vocab[w].index for w in common_vocab]\n",
    "        old_arr = calc_syn0norm(m)\n",
    "        new_arr = np.array([old_arr[index] for index in indices])\n",
    "        m.wv.syn0norm = m.wv.syn0 = new_arr\n",
    "\n",
    "        # Replace old vocab dictionary with new one (with common vocab)\n",
    "        # and old index2word with new one\n",
    "        m.index2word = common_vocab\n",
    "        old_vocab = m.wv.vocab\n",
    "        new_vocab = {}\n",
    "        for new_index,word in enumerate(common_vocab):\n",
    "            old_vocab_obj=old_vocab[word]\n",
    "            new_vocab[word] = gensim.models.word2vec.Vocab(index=new_index, count=old_vocab_obj.count)\n",
    "        m.wv.vocab = new_vocab\n",
    "\n",
    "    return (m1,m2)"
   ]
  },
  {
   "cell_type": "code",
   "execution_count": 653,
   "metadata": {},
   "outputs": [],
   "source": [
    "tsuki['tokenized_sents'] = tsuki['content'].apply(lambda x: [lucem_illud_2020.word_tokenize(s) for s in lucem_illud_2020.sent_tokenize(x)])\n",
    "tsuki['normalized_sents'] = tsuki['tokenized_sents'].apply(lambda x: [lucem_illud_2020.normalizeTokens(s) for s in x])"
   ]
  },
  {
   "cell_type": "code",
   "execution_count": 691,
   "metadata": {},
   "outputs": [],
   "source": [
    "embeddings_raw = {}\n",
    "subsetDF2 = tsuki[tsuki['time'] == '2019-12']\n",
    "subsetDF3 = tsuki[tsuki['time'] == '2020-01']\n",
    "subsetDF4 = tsuki[tsuki['time'] == '2020-02']\n",
    "embeddings_raw['2019-12'] = gensim.models.word2vec.Word2Vec(subsetDF2['normalized_sents'].sum())\n",
    "embeddings_raw['2020-01'] = gensim.models.word2vec.Word2Vec(subsetDF3['normalized_sents'].sum())\n",
    "embeddings_raw['2020-02'] = gensim.models.word2vec.Word2Vec(subsetDF4['normalized_sents'].sum())"
   ]
  },
  {
   "cell_type": "code",
   "execution_count": 693,
   "metadata": {},
   "outputs": [],
   "source": [
    "def compareModels(df, category, text_column_name='normalized_sents', sort = True, embeddings_raw={}):\n",
    "    \"\"\"If you are using time as your category sorting is important\"\"\"\n",
    "    if len(embeddings_raw) == 0:\n",
    "        embeddings_raw = rawModels(df, category, text_column_name, sort)\n",
    "    cats = set(['2019-12', '2020-01', '2020-02'])\n",
    "    #These are much quicker\n",
    "    embeddings_aligned = {}\n",
    "    for catOuter in cats:\n",
    "        embeddings_aligned[catOuter] = [embeddings_raw[catOuter]]\n",
    "        for catInner in cats:\n",
    "            embeddings_aligned[catOuter].append(smart_procrustes_align_gensim(embeddings_aligned[catOuter][-1], embeddings_raw[catInner]))\n",
    "    return embeddings_raw, embeddings_aligned"
   ]
  },
  {
   "cell_type": "code",
   "execution_count": 694,
   "metadata": {},
   "outputs": [],
   "source": [
    "rawEmbeddings, comparedEmbeddings = compareModels(tsuki, 'time', embeddings_raw=embeddings_raw)"
   ]
  },
  {
   "cell_type": "code",
   "execution_count": 695,
   "metadata": {},
   "outputs": [
    {
     "data": {
      "text/plain": [
       "dict_keys(['2019-12', '2020-01', '2020-02'])"
      ]
     },
     "execution_count": 695,
     "metadata": {},
     "output_type": "execute_result"
    }
   ],
   "source": [
    "rawEmbeddings.keys()"
   ]
  },
  {
   "cell_type": "markdown",
   "metadata": {},
   "source": [
    "So we have 3 different months to compare."
   ]
  },
  {
   "cell_type": "code",
   "execution_count": 696,
   "metadata": {},
   "outputs": [],
   "source": [
    "def getDivergenceDF(word, embeddingsDict):\n",
    "    dists = []\n",
    "    cats = sorted(set(embeddingsDict.keys()))\n",
    "    dists = {}\n",
    "    print(word)\n",
    "    for cat in cats:\n",
    "        dists[cat] = []\n",
    "        for embed in embeddingsDict[cat][1:]:\n",
    "            dists[cat].append(np.abs(1 - sklearn.metrics.pairwise.cosine_similarity(np.expand_dims(embeddingsDict[cat][0][word], axis = 0),\n",
    "                                                                             np.expand_dims(embed[word], axis = 0))[0,0]))\n",
    "    return pandas.DataFrame(dists, index = cats)"
   ]
  },
  {
   "cell_type": "markdown",
   "metadata": {},
   "source": [
    "Lets look at a couple words:"
   ]
  },
  {
   "cell_type": "code",
   "execution_count": 709,
   "metadata": {},
   "outputs": [
    {
     "name": "stdout",
     "output_type": "stream",
     "text": [
      "tsuki\n"
     ]
    },
    {
     "data": {
      "image/png": "[encoded data removed]",
      "text/plain": [
       "<Figure size 720x504 with 2 Axes>"
      ]
     },
     "metadata": {
      "needs_background": "light"
     },
     "output_type": "display_data"
    }
   ],
   "source": [
    "targetWord = 'tsuki'\n",
    "\n",
    "pltDF = getDivergenceDF(targetWord, comparedEmbeddings)\n",
    "fig, ax = plt.subplots(figsize = (10, 7))\n",
    "seaborn.heatmap(pltDF, ax = ax, annot = True) #set annot True for a lot more information\n",
    "plt.show();"
   ]
  },
  {
   "cell_type": "markdown",
   "metadata": {},
   "source": [
    "Interestingly, we don't see low divergence within the same month.... Could be because the corpus is so small that the alignment is not robust."
   ]
  },
  {
   "cell_type": "code",
   "execution_count": 716,
   "metadata": {},
   "outputs": [
    {
     "name": "stdout",
     "output_type": "stream",
     "text": [
      "game\n"
     ]
    },
    {
     "data": {
      "image/png": "[encoded data removed]",
      "text/plain": [
       "<Figure size 720x504 with 2 Axes>"
      ]
     },
     "metadata": {
      "needs_background": "light"
     },
     "output_type": "display_data"
    }
   ],
   "source": [
    "targetWord = 'game'\n",
    "\n",
    "pltDF = getDivergenceDF(targetWord, comparedEmbeddings)\n",
    "fig, ax = plt.subplots(figsize = (10, 7))\n",
    "seaborn.heatmap(pltDF, ax = ax, annot = True) #set annot True for a lot more information\n",
    "plt.show()"
   ]
  },
  {
   "cell_type": "code",
   "execution_count": 717,
   "metadata": {},
   "outputs": [],
   "source": [
    "def findDiverence(word, embeddingsDict):\n",
    "    cats = sorted(set(embeddingsDict.keys()))\n",
    "    \n",
    "    dists = []\n",
    "    for embed in embeddingsDict[cats[0]][1:]:\n",
    "        dists.append(1 - sklearn.metrics.pairwise.cosine_similarity(np.expand_dims(embeddingsDict[cats[0]][0][word], axis = 0), np.expand_dims(embed[word], axis = 0))[0,0])\n",
    "    return sum(dists)\n",
    "\n",
    "def findMostDivergent(embeddingsDict):\n",
    "    words = []\n",
    "    for embeds in embeddingsDict.values():\n",
    "        for embed in embeds:\n",
    "            words += list(embed.wv.vocab.keys())\n",
    "    words = set(words)\n",
    "    print(\"Found {} words to compare\".format(len(words)))\n",
    "    return sorted([(w, findDiverence(w, embeddingsDict)) for w in words], key = lambda x: x[1], reverse=True)\n",
    "    "
   ]
  },
  {
   "cell_type": "code",
   "execution_count": 718,
   "metadata": {},
   "outputs": [
    {
     "name": "stdout",
     "output_type": "stream",
     "text": [
      "Found 19 words to compare\n"
     ]
    }
   ],
   "source": [
    "wordDivergences = findMostDivergent(comparedEmbeddings)"
   ]
  },
  {
   "cell_type": "markdown",
   "metadata": {},
   "source": [
    "Indeed, the corpus is very small! There are only 19 terms that can be compared across 3 months!"
   ]
  },
  {
   "cell_type": "markdown",
   "metadata": {},
   "source": [
    "The most divergent words are:"
   ]
  },
  {
   "cell_type": "code",
   "execution_count": 723,
   "metadata": {},
   "outputs": [
    {
     "data": {
      "text/plain": [
       "[('random', 1.2409997582435608),\n",
       " ('way', 1.2096902132034302),\n",
       " ('know', 1.2057476341724396),\n",
       " ('hug:589655063027253288', 1.1071052551269531),\n",
       " ('be', 1.0562925785779953)]"
      ]
     },
     "execution_count": 723,
     "metadata": {},
     "output_type": "execute_result"
    }
   ],
   "source": [
    "wordDivergences[:5]"
   ]
  },
  {
   "cell_type": "markdown",
   "metadata": {},
   "source": [
    "And the least:"
   ]
  },
  {
   "cell_type": "code",
   "execution_count": 724,
   "metadata": {},
   "outputs": [
    {
     "data": {
      "text/plain": [
       "[('<', 0.7305801808834076),\n",
       " ('>', 0.7227097451686859),\n",
       " ('tsuki', 0.6680406630039215),\n",
       " ('stay', 0.6627686619758606),\n",
       " ('game', 0.6509535908699036)]"
      ]
     },
     "execution_count": 724,
     "metadata": {},
     "output_type": "execute_result"
    }
   ],
   "source": [
    "wordDivergences[-5:]"
   ]
  },
  {
   "cell_type": "code",
   "execution_count": 725,
   "metadata": {
    "scrolled": true
   },
   "outputs": [
    {
     "name": "stdout",
     "output_type": "stream",
     "text": [
      "random\n"
     ]
    },
    {
     "data": {
      "image/png": "[encoded data removed]",
      "text/plain": [
       "<Figure size 720x504 with 2 Axes>"
      ]
     },
     "metadata": {
      "needs_background": "light"
     },
     "output_type": "display_data"
    }
   ],
   "source": [
    "targetWord = wordDivergences[0][0]\n",
    "\n",
    "pltDF = getDivergenceDF(targetWord, comparedEmbeddings)\n",
    "fig, ax = plt.subplots(figsize = (10, 7))\n",
    "seaborn.heatmap(pltDF, ax = ax, annot = True) #set annot True for a lot more information\n",
    "plt.show()"
   ]
  },
  {
   "cell_type": "code",
   "execution_count": 726,
   "metadata": {
    "scrolled": true
   },
   "outputs": [
    {
     "name": "stdout",
     "output_type": "stream",
     "text": [
      "game\n"
     ]
    },
    {
     "data": {
      "image/png": "[encoded data removed]",
      "text/plain": [
       "<Figure size 720x504 with 2 Axes>"
      ]
     },
     "metadata": {
      "needs_background": "light"
     },
     "output_type": "display_data"
    }
   ],
   "source": [
    "targetWord = wordDivergences[-1][0]\n",
    "\n",
    "pltDF = getDivergenceDF(targetWord, comparedEmbeddings)\n",
    "fig, ax = plt.subplots(figsize = (10, 7))\n",
    "seaborn.heatmap(pltDF, ax = ax, annot = True) #set annot True for a lot more information\n",
    "\n",
    "plt.show()"
   ]
  },
  {
   "cell_type": "markdown",
   "metadata": {},
   "source": [
    "## Summary\n",
    "* My corpus is very small, so it is **not suitable** for word embedding.\n",
    "* This is especially disadvantageous to comparing word embeddings across time and document level embedding.\n",
    "* However, surprisingly, the embedding still can capture some semantic relationship such as analogy between words!"
   ]
  }
 ],
 "metadata": {
  "anaconda-cloud": {},
  "kernelspec": {
   "display_name": "Python 3",
   "language": "python",
   "name": "python3"
  },
  "language_info": {
   "codemirror_mode": {
    "name": "ipython",
    "version": 3
   },
   "file_extension": ".py",
   "mimetype": "text/x-python",
   "name": "python",
   "nbconvert_exporter": "python",
   "pygments_lexer": "ipython3",
   "version": "3.7.4"
  }
 },
 "nbformat": 4,
 "nbformat_minor": 1
}
